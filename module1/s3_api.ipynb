{
 "cells": [
  {
   "cell_type": "markdown",
   "metadata": {},
   "source": [
    "# APIs: requêtes HTTP"
   ]
  },
  {
   "cell_type": "markdown",
   "metadata": {},
   "source": [
    "## Imports"
   ]
  },
  {
   "cell_type": "code",
   "execution_count": 29,
   "metadata": {},
   "outputs": [],
   "source": [
    "import json\n",
    "import requests"
   ]
  },
  {
   "cell_type": "markdown",
   "metadata": {},
   "source": [
    "## Utiliser [Nominatim](https://nominatim.org/) pour connaître les coordonnées géographiques d'une adresse"
   ]
  },
  {
   "cell_type": "code",
   "execution_count": 3,
   "metadata": {},
   "outputs": [
    {
     "name": "stdout",
     "output_type": "stream",
     "text": [
      "OPERA - Wireless Communications Group (50.811783 - 4.3830304)\n",
      "CReA-Patrimoine (50.8114597 - 4.3821275)\n"
     ]
    }
   ],
   "source": [
    "address = \"Avenue Franklin Roosevelt 50, 1050 Bruxelles\"\n",
    "\n",
    "\"\"\"Retrieve coordinates from Open Street Map\"\"\"\n",
    "url = \"https://nominatim.openstreetmap.org/search\"\n",
    "data = {'q': address, 'format': 'json'}\n",
    "resp = requests.get(url, data)\n",
    "json_list = json.loads(resp.text)\n",
    "for item in json_list:\n",
    "    display_name = item['display_name']\n",
    "    short_name = display_name.split(\", \")[0]\n",
    "    lat = item['lat']\n",
    "    lon = item['lon']\n",
    "    print(f\"{short_name} ({lat} - {lon})\")\n"
   ]
  },
  {
   "cell_type": "markdown",
   "metadata": {},
   "source": [
    "## Utiliser REST Countries pour récupérer des informations sur un pays"
   ]
  },
  {
   "cell_type": "markdown",
   "metadata": {},
   "source": [
    "https://restcountries.com/"
   ]
  },
  {
   "cell_type": "code",
   "execution_count": 20,
   "metadata": {},
   "outputs": [
    {
     "name": "stdout",
     "output_type": "stream",
     "text": [
      "Languages: German, French, Dutch\n",
      "Borders: France, Germany, Luxembourg, Netherlands\n"
     ]
    }
   ],
   "source": [
    "country_name = \"Belgium\"\n",
    "\n",
    "base_url = \"http://restcountries.com/v3.1/\"\n",
    "name_url = base_url + \"name/\"\n",
    "code_url = base_url + \"alpha/\"\n",
    "resp = requests.get(name_url + country_name)\n",
    "country = resp.json()[0]\n",
    "try:\n",
    "    languages = country['languages']\n",
    "    print(f\"Languages: {', '.join(languages.values())}\")\n",
    "    border_codes = country['borders']\n",
    "    border_names = []\n",
    "    for code in border_codes:\n",
    "        resp = requests.get(code_url + code)\n",
    "        border_country = resp.json()[0]\n",
    "        border_name = border_country[\"name\"][\"common\"]\n",
    "        border_names.append(border_name)\n",
    "    print(f\"Borders: {', '.join(border_names)}\")\n",
    "except KeyError:\n",
    "    print(\"Unknown country, please use English or native name\")"
   ]
  },
  {
   "cell_type": "code",
   "execution_count": 21,
   "metadata": {},
   "outputs": [
    {
     "name": "stdout",
     "output_type": "stream",
     "text": [
      "Languages: German, French, Dutch\n",
      "Borders: France, Germany, Luxembourg, Netherlands\n"
     ]
    }
   ],
   "source": [
    "country_name = \"Belgium\"\n",
    "\n",
    "base_url = \"http://restcountries.com/v3.1/\"\n",
    "name_url = base_url + \"name/\"\n",
    "code_url = base_url + \"alpha/\"\n",
    "resp = requests.get(name_url + country_name)\n",
    "country = resp.json()[0]\n",
    "try:\n",
    "    languages = country['languages']\n",
    "    print(f\"Languages: {', '.join(languages.values())}\")\n",
    "    border_codes = country['borders']\n",
    "    border_names = []\n",
    "    for code in border_codes:\n",
    "        resp = requests.get(code_url + code)\n",
    "        border_country = resp.json()[0]\n",
    "        border_name = border_country[\"name\"][\"common\"]\n",
    "        border_names.append(border_name)\n",
    "    print(f\"Borders: {', '.join(border_names)}\")\n",
    "except KeyError:\n",
    "    print(\"Unknown country, please use English or native name\")"
   ]
  },
  {
   "cell_type": "markdown",
   "metadata": {},
   "source": [
    "## Pour en savoir plus"
   ]
  },
  {
   "cell_type": "markdown",
   "metadata": {},
   "source": [
    "- Les API Rest: https://towardsdatascience.com/introduction-to-rest-apis-90b5d9676004\n",
    "- La librairie [`requests`](https://requests.readthedocs.io/en/latest/)\n",
    "- Développer une API en Python : https://openclassrooms.com/en/courses/4525361-realisez-un-dashboard-avec-tableau/5774811-creez-une-api-avec-flask"
   ]
  },
  {
   "cell_type": "code",
   "execution_count": 38,
   "metadata": {},
   "outputs": [
    {
     "name": "stdout",
     "output_type": "stream",
     "text": [
      "[{\"original\":\"eggs\",\"originalName\":\"eggs\",\"ingredientImage\":\"egg.png\",\"meta\":[\"egg\"],\"products\":[{\"id\":4862024,\"upc\":\"walmart_product_1772033647\",\"title\":\"Powdered Eggs It'S Just Egg White Protein Powder, Dried Egg, 1.25 Pound Pack Of 1\"},{\"id\":4857702,\"upc\":\"walmart_product_10448666\",\"title\":\"Born Free Born Free  Eggs, 12 ea\"},{\"id\":4741448,\"upc\":\"walmart_product_1720639120\",\"title\":\"ERTUTUYI Coloring Christmas Food Eggs Easter Food PensDouble With For Decorating 2ml CakesCookies Sided Kitchen，Dining & Bar\"},{\"id\":4912152,\"upc\":\"813905000873\",\"title\":\"Great Day Farms All Natural Large Grade A Eggs, 18 ct\"},{\"id\":5320248,\"upc\":\"021466120408\",\"title\":\"Bakery Crafts Bc Instant Paste - Egg Yellow\"},{\"id\":4264128,\"upc\":\"walmart_product_22257781\",\"title\":\"Land O Lakes ALA Omega 3 All-Natural Large Grade AA Eggs, 12 ct\"},{\"id\":4408086,\"upc\":\"walmart_product_14122623\",\"title\":\"Sunny Farms Large Farm Fresh Eggs, 18ct\"},{\"id\":4042434,\"upc\":\"887422000074\",\"title\":\"Go Fresh Go Cage FrEE Large Brown A Eggs, 12 Count\"},{\"id\":3968460,\"upc\":\"034000041657\",\"title\":\"YORK, Dark Chocolate Peppermint Patties Eggs Candy, Easter, 9.6 oz, Bag\"},{\"id\":413769,\"upc\":\"715141502213\",\"title\":\"Eggland's Best Cage Free Hard-Cooked Peeled Eggs - 6 CT\"},{\"id\":3493448,\"upc\":\"walmart_product_16778202\",\"title\":\"Land O'Lakes Cage Free All-Natural Large Brown AA Eggs, 12 Count\"},{\"id\":7486,\"upc\":\"715141501193\",\"title\":\"Egg-Land's Best Eggs\"},{\"id\":4058464,\"upc\":\"041376713361\",\"title\":\"Frankford's Disney Egg Hunt with Smarties Candy, 22 Filled Eggs\"},{\"id\":3826020,\"upc\":\"041376703997\",\"title\":\"Disney Easter Hunt Eggs with Candy, 3.9 Oz., 22 Count\"},{\"id\":415945,\"upc\":\"075925300504\",\"title\":\"Crystal Farms Ready Egg Go! Hard-Boiled Egg With Almonds & White Cheddar Cheese\"},{\"id\":5242910,\"upc\":\"walmart_product_237561201\",\"title\":\"Trolli Crazy Hair Filled Plastic Puzzle Egg, 3.5 Oz, 1 Ct\"},{\"id\":685095,\"upc\":\"041116232022\",\"title\":\"JUICY DROP GUMMIES EGG\"},{\"id\":216547,\"upc\":\"041820502008\",\"title\":\"Second Nature Egg Product - Liquid Fat Free\"},{\"id\":4117234,\"upc\":\"walmart_product_613428136\",\"title\":\"Trolli Sour Brite Filled Eggs 5.65 Ounce 14 count Package\"},{\"id\":427554,\"upc\":\"637480009188\",\"title\":\"Atkins Egg with Sausage and Cheese Burrito, 12 ct, 6 oz\"}]},{\"original\":\"bacon\",\"originalName\":\"bacon\",\"ingredientImage\":\"raw-bacon.png\",\"meta\":[\"bacon\"],\"products\":[{\"id\":4996482,\"upc\":\"376001175482\",\"title\":\"COMPLEATS BACON & POTATO & EGG 7.5 oz\"},{\"id\":4387802,\"upc\":\"735201950709\",\"title\":\"Deliciou Bacon Seasoning Variety Pack (5 Flavor Sampler + Sticker) Original, Cheesy, Spicy, Maple & Smoky BBQ Delicious Bacon Seasoning Powder Vegan & Gluten Free\"},{\"id\":5067390,\"upc\":\"927891382209\",\"title\":\"Bourbon Chipotle Bacon Rub Seasoning, 3.7 oz （Pack of 3）\"},{\"id\":87924,\"upc\":\"073890006025\",\"title\":\"Sugardale Foods Bacon, 16 Oz.\"},{\"id\":213315,\"upc\":\"070100060877\",\"title\":\"John Morrell Applewood Smoked Bacon, 12 Oz\"},{\"id\":4920034,\"upc\":\"walmart_product_10543597\",\"title\":\"Rath Black Hawk Hickory Sliced Bacon\"},{\"id\":5089554,\"upc\":\"walmart_product_10818737\",\"title\":\"Tom & Ted's Hickory Brand: Hickory Smoked Sugar Cured Ends & Pieces Bacon, 48 oz\"},{\"id\":726419,\"upc\":\"895580001888\",\"title\":\"Bacon Type Extract, Natural Flavor Blend - 4 fl. oz. glass bottle\"},{\"id\":190690,\"upc\":\"785331722387\",\"title\":\"Gwaltney Bacon - Thick Cut Sliced\"},{\"id\":215624,\"upc\":\"043500850485\",\"title\":\"Plumrose Bacon - Premium Old Fashioned Hardwood Smoked\"},{\"id\":4235830,\"upc\":\"027815180109\",\"title\":\"Smithfield Hickory Smoked Bacon 48oz\"},{\"id\":414361,\"upc\":\"042421225785\",\"title\":\"Boar's Head Naturally Smoked Sliced Bacon\"},{\"id\":205927,\"upc\":\"037600394000\",\"title\":\"Hormel Pizza Style Canadian Bacon, 6 Oz.\"},{\"id\":205796,\"upc\":\"070100060037\",\"title\":\"John Morrell Rath Black Hawk Smoky Maple Sliced Bacon, 12 oz\"},{\"id\":3947518,\"upc\":\"walmart_product_181124839\",\"title\":\"Munchies Behemoth Bacon 5.5 Oz\"},{\"id\":4075810,\"upc\":\"851070006412\",\"title\":\"Upton's Naturals - Ch'eesy Mac 100% Vegan Bacon - 10.05 oz.\"},{\"id\":3752804,\"upc\":\"030684425516\",\"title\":\"Ssnng Salt Bacon Cheddar, 2 Oz (pack Of\"},{\"id\":188645,\"upc\":\"079927053017\",\"title\":\"Unique Flavor Shocked Pretzel \\\"Shells\\\" Bacon Cheddar\"},{\"id\":3792116,\"upc\":\"walmart_product_55019240\",\"title\":\"Kitchen Crafted Dips Sweet Onion & Bacon Dip, 10 Oz.\"},{\"id\":5314280,\"upc\":\"walmart_product_32177142\",\"title\":\"Hormel Gatherings Bacon, Spinach, Artichoke Dip 20 oz Tub\"}]}]\n"
     ]
    }
   ],
   "source": [
    "import requests\n",
    "\n",
    "url = \"https://spoonacular-recipe-food-nutrition-v1.p.rapidapi.com/food/ingredients/map\"\n",
    "\n",
    "payload = \"{\\n  \\\"ingredients\\\": [\\n    \\\"eggs\\\",\\n    \\\"bacon\\\"\\n  ],\\n  \\\"servings\\\": 2,\\n}\"\n",
    "headers = {\n",
    "\t\"content-type\": \"application/json\",\n",
    "\t\"X-RapidAPI-Key\": \"2fd739f45fmsh7bcb51a61811d40p1effb8jsncea4813ba063\",\n",
    "\t\"X-RapidAPI-Host\": \"spoonacular-recipe-food-nutrition-v1.p.rapidapi.com\"\n",
    "}\n",
    "\n",
    "response = requests.request(\"POST\", url, data=payload, headers=headers)\n",
    "\n",
    "print(response.text)"
   ]
  },
  {
   "cell_type": "code",
   "execution_count": 41,
   "metadata": {},
   "outputs": [
    {
     "name": "stdout",
     "output_type": "stream",
     "text": [
      "{\"matched\":\"milk\",\"breadcrumbs\":[\"milk\",\"drink\",\"menu item type\"],\"category\":\"2 percent milk\",\"usdaCode\":1174,\"image\":\"https://spoonacular.com/cdn/ingredients_100x100/milk.png\",\"cleanTitle\":\"Kroger Vitamin A & D Reduced Fat 2% Milk\",\"ingredientId\":1174}\n"
     ]
    }
   ],
   "source": [
    "import requests\n",
    "\n",
    "url = \"https://spoonacular-recipe-food-nutrition-v1.p.rapidapi.com/food/products/classify\"\n",
    "\n",
    "querystring = {\"locale\":\"usa\"}\n",
    "\n",
    "payload = {\n",
    "\t\"plu_code\": \"\",\n",
    "\t\"title\": \"Kroger Vitamin A & D Reduced Fat 2% Milk\",\n",
    "\t\"upc\": \"\"\n",
    "}\n",
    "headers = {\n",
    "\t\"content-type\": \"application/json\",\n",
    "\t\"X-RapidAPI-Key\": \"2fd739f45fmsh7bcb51a61811d40p1effb8jsncea4813ba063\",\n",
    "\t\"X-RapidAPI-Host\": \"spoonacular-recipe-food-nutrition-v1.p.rapidapi.com\"\n",
    "}\n",
    "\n",
    "response = requests.request(\"POST\", url, json=payload, headers=headers, params=querystring)\n",
    "\n",
    "print(response.text)"
   ]
  }
 ],
 "metadata": {
  "kernelspec": {
   "display_name": "Python 3.10.7 ('tac_venv': venv)",
   "language": "python",
   "name": "python3"
  },
  "language_info": {
   "codemirror_mode": {
    "name": "ipython",
    "version": 3
   },
   "file_extension": ".py",
   "mimetype": "text/x-python",
   "name": "python",
   "nbconvert_exporter": "python",
   "pygments_lexer": "ipython3",
   "version": "3.10.7"
  },
  "vscode": {
   "interpreter": {
    "hash": "1371f28b61a57566aca84f831e458ad1b8215d81e6228e59fe3401f9a480bc22"
   }
  }
 },
 "nbformat": 4,
 "nbformat_minor": 4
}
