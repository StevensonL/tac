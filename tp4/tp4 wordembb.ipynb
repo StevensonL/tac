{
 "cells": [
  {
   "cell_type": "markdown",
   "metadata": {},
   "source": [
    "# Segmentation en phrases"
   ]
  },
  {
   "cell_type": "markdown",
   "metadata": {},
   "source": [
    "## Imports"
   ]
  },
  {
   "cell_type": "code",
   "execution_count": 3,
   "metadata": {},
   "outputs": [],
   "source": [
    "import os\n",
    "import sys\n",
    "import nltk\n",
    "from nltk.tokenize import sent_tokenize"
   ]
  },
  {
   "cell_type": "code",
   "execution_count": 4,
   "metadata": {},
   "outputs": [],
   "source": [
    "import sys\n",
    "import nltk\n",
    "from nltk.tokenize import sent_tokenize"
   ]
  },
  {
   "cell_type": "markdown",
   "metadata": {},
   "source": [
    "## Fichiers d'inputs et d'outputs"
   ]
  },
  {
   "cell_type": "code",
   "execution_count": 5,
   "metadata": {},
   "outputs": [],
   "source": [
    "infile = \"../tp4/corpus.txt\"\n",
    "outfile = \"../tp4/corpusw2v.txt\""
   ]
  },
  {
   "cell_type": "markdown",
   "metadata": {},
   "source": [
    "## Segmentation en phrases du corpus complet et création d'un nouveau fichier"
   ]
  },
  {
   "cell_type": "markdown",
   "metadata": {},
   "source": [
    "**Important** : pour traiter le corpus complet, indiquez `LIMIT = None`"
   ]
  },
  {
   "cell_type": "code",
   "execution_count": 6,
   "metadata": {},
   "outputs": [],
   "source": [
    "LIMIT = None"
   ]
  },
  {
   "cell_type": "code",
   "execution_count": 7,
   "metadata": {
    "tags": []
   },
   "outputs": [
    {
     "name": "stdout",
     "output_type": "stream",
     "text": [
      "processing line 0/1\n",
      "Done\n"
     ]
    }
   ],
   "source": [
    "with open(outfile, 'w', encoding=\"utf-8\") as output:\n",
    "    with open(infile, encoding=\"utf-8\", errors=\"backslashreplace\") as f:\n",
    "        content = f.readlines()\n",
    "        content = content[:LIMIT] if LIMIT is not None else content\n",
    "        n_lines = len(content)\n",
    "        for i, line in enumerate(content):\n",
    "            if i % 100 == 0:\n",
    "                print(f'processing line {i}/{n_lines}')\n",
    "            sentences = sent_tokenize(line)\n",
    "            for sent in sentences:\n",
    "                output.write(sent + \"\\n\")\n",
    "print(\"Done\")"
   ]
  },
  {
   "cell_type": "markdown",
   "metadata": {},
   "source": [
    "# Word Embeddings : le modèle Word2Vec"
   ]
  },
  {
   "cell_type": "markdown",
   "metadata": {},
   "source": [
    "## Imports"
   ]
  },
  {
   "cell_type": "code",
   "execution_count": 8,
   "metadata": {},
   "outputs": [],
   "source": [
    "import sys\n",
    "\n",
    "from gensim.models.phrases import Phrases, Phraser\n",
    "from gensim.models import Word2Vec\n",
    "\n",
    "import nltk\n",
    "from nltk.tokenize import wordpunct_tokenize\n",
    "from unidecode import unidecode"
   ]
  },
  {
   "cell_type": "markdown",
   "metadata": {},
   "source": [
    "## Chargement et traitement des phrases du corpus"
   ]
  },
  {
   "cell_type": "markdown",
   "metadata": {},
   "source": [
    "### Création d'un objet qui *streame* les lignes d'un fichier pour économiser de la RAM"
   ]
  },
  {
   "cell_type": "code",
   "execution_count": 9,
   "metadata": {},
   "outputs": [],
   "source": [
    "class MySentences(object):\n",
    "    \"\"\"Tokenize and Lemmatize sentences\"\"\"\n",
    "    def __init__(self, filename):\n",
    "        self.filename = filename\n",
    "\n",
    "    def __iter__(self):\n",
    "        for line in open(self.filename, encoding='utf-8', errors=\"backslashreplace\"):\n",
    "            yield [unidecode(w.lower()) for w in wordpunct_tokenize(line)]"
   ]
  },
  {
   "cell_type": "code",
   "execution_count": 10,
   "metadata": {},
   "outputs": [],
   "source": [
    "infile = f\"../tp4/corpusw2v.txt\"\n",
    "sentences = MySentences(infile)"
   ]
  },
  {
   "cell_type": "markdown",
   "metadata": {},
   "source": [
    "### Détection des bigrams\n",
    "\n",
    "Article intéressant sur le sujet : https://towardsdatascience.com/word2vec-for-phrases-learning-embeddings-for-more-than-one-word-727b6cf723cf"
   ]
  },
  {
   "cell_type": "code",
   "execution_count": 11,
   "metadata": {},
   "outputs": [],
   "source": [
    "bigram_phrases = Phrases(sentences)"
   ]
  },
  {
   "cell_type": "markdown",
   "metadata": {},
   "source": [
    "L'object `phrases` peut être vu comme un large dictionnaire d'expressions multi-mots associées à un score, le *PMI-like scoring*. Ce dictionnaire est construit par un apprentissage sur base d'exemples.\n",
    "Voir les références ci-dessous :\n",
    "- https://arxiv.org/abs/1310.4546\n",
    "- https://en.wikipedia.org/wiki/Pointwise_mutual_information"
   ]
  },
  {
   "cell_type": "code",
   "execution_count": 12,
   "metadata": {},
   "outputs": [
    {
     "data": {
      "text/plain": [
       "dict"
      ]
     },
     "execution_count": 12,
     "metadata": {},
     "output_type": "execute_result"
    }
   ],
   "source": [
    "type(bigram_phrases.vocab)"
   ]
  },
  {
   "cell_type": "markdown",
   "metadata": {},
   "source": [
    "Il contient de nombreuses clés qui sont autant de termes observés dans le corpus"
   ]
  },
  {
   "cell_type": "code",
   "execution_count": 13,
   "metadata": {},
   "outputs": [
    {
     "data": {
      "text/plain": [
       "953417"
      ]
     },
     "execution_count": 13,
     "metadata": {},
     "output_type": "execute_result"
    }
   ],
   "source": [
    "len(bigram_phrases.vocab.keys())"
   ]
  },
  {
   "cell_type": "markdown",
   "metadata": {},
   "source": [
    "Prenons une clé au hasard :"
   ]
  },
  {
   "cell_type": "code",
   "execution_count": 15,
   "metadata": {},
   "outputs": [
    {
     "name": "stdout",
     "output_type": "stream",
     "text": [
      "59_bko\n"
     ]
    }
   ],
   "source": [
    "key_ = list(bigram_phrases.vocab.keys())[144]\n",
    "print(key_)"
   ]
  },
  {
   "cell_type": "markdown",
   "metadata": {},
   "source": [
    "Le dictionnaire indique le score de cette coocurrence :"
   ]
  },
  {
   "cell_type": "code",
   "execution_count": 16,
   "metadata": {},
   "outputs": [
    {
     "data": {
      "text/plain": [
       "1"
      ]
     },
     "execution_count": 16,
     "metadata": {},
     "output_type": "execute_result"
    }
   ],
   "source": [
    "bigram_phrases.vocab[key_]"
   ]
  },
  {
   "cell_type": "markdown",
   "metadata": {},
   "source": [
    "Lorsque l'instance de `Phrases` a été entraînée, elle peut concaténer les bigrams dans les phrases lorsque c'est pertinent."
   ]
  },
  {
   "cell_type": "markdown",
   "metadata": {},
   "source": [
    "### Conversion des `Phrases` en objet `Phraser`\n",
    "\n",
    "`Phraser` est un alias pour `gensim.models.phrases.FrozenPhrases`, voir ici https://radimrehurek.com/gensim/models/phrases.html.\n",
    "\n",
    "Le `Phraser` est une version *light* du `Phrases`, plus optimale pour transformer les phrases en concaténant les bigrams."
   ]
  },
  {
   "cell_type": "code",
   "execution_count": 17,
   "metadata": {},
   "outputs": [],
   "source": [
    "bigram_phraser = Phraser(phrases_model=bigram_phrases)"
   ]
  },
  {
   "cell_type": "markdown",
   "metadata": {},
   "source": [
    "Le `Phraser` est un objet qui convertit certains unigrams d'une liste en bigrams lorsqu'ils ont été identifiés comme pertinents."
   ]
  },
  {
   "cell_type": "markdown",
   "metadata": {},
   "source": [
    "### Extraction des trigrams"
   ]
  },
  {
   "cell_type": "markdown",
   "metadata": {},
   "source": [
    "Nous répétons l'opération en envoyant cette fois la liste de bigrams afin d'extraire les trigrams."
   ]
  },
  {
   "cell_type": "code",
   "execution_count": 18,
   "metadata": {},
   "outputs": [],
   "source": [
    "trigram_phrases = Phrases(bigram_phraser[sentences])"
   ]
  },
  {
   "cell_type": "code",
   "execution_count": 19,
   "metadata": {},
   "outputs": [],
   "source": [
    "trigram_phraser = Phraser(phrases_model=trigram_phrases)"
   ]
  },
  {
   "cell_type": "markdown",
   "metadata": {},
   "source": [
    "### Création d'un corpus d'unigrams, bigrams, trigrams"
   ]
  },
  {
   "cell_type": "code",
   "execution_count": 20,
   "metadata": {},
   "outputs": [],
   "source": [
    "corpus = list(trigram_phraser[bigram_phraser[sentences]])"
   ]
  },
  {
   "cell_type": "code",
   "execution_count": 21,
   "metadata": {},
   "outputs": [
    {
     "name": "stdout",
     "output_type": "stream",
     "text": [
      "[['deuxieme', 'annee', '.'], ['-', 'n', '.', '130', '.'], ['20_centimes', 'le_numero', 'i', '-', 'liflercrfcdi', '3', 'juin', '1925', ',', 'drapeau', 'telephone', '.'], [':', 'administration', '-', 'publicite', '.', '.', '...', '.', '.', '...', '....,', '16333', '*', 'redaction', '163', '.', '33', '>>', 'redaction', '{', 'apres', '19', 'heures', ')', '296', '.', '89', 'adressa', 'telegraphique', ':', 'drapouge', '-', 'bruxelleo', 'compte', '-', 'cheques_postaux', ';', 'n', '\"', '122', '.', '595', 'organe', 'quotidien', 'du_parti', 'communiste', 'beige', '(', 's', 'b', 'i', '57', '-', '5s', 'rue_dea', 'a', '>>', 'eaens', ',', '57', '-', '59', 'bko', '/', 'oellel', '>', '*>,', 'abonnements', ':', 'belgique', ',', '30_septembre', '31', 'decent', '>', 'etranger', '.'], ['1', 'an', '.'], ['i', 't', \"'\", 'abonne_dans', 'tous_tes', ',', 'bureaux', 'de', 'punis', '.'], ['les', 'dettes_belges', 'envers_les', 'etats_-_unis', 'vers', \"l_'_inflation\", 'et', 'la_main', '-', 'mise', 'americaine', 'sur', \"l_'_industrie\", 'belge', 'grace_aux', 'formidables', 'emprunts', 'contractes', 'aux_etats_-_unis', \"d_'_amerique\", 'du', '-', 'rant', 'la_guerre', 'capitaliste', 'de', '1911', 'ct', 'pondant', 'les', 'annees', 'suivant', \"l_'_armistice\", ',', 'les_banquiers', 'americains', '.', 'ont', 'etendu', 'la_puissance', 'de', 'leur', 'controle', 'sur', 'une_grande', 'partie', 'des', 'pays', 'bourgeois', \"d_'_europe\", '.'], [\"l_'_expansion\", 'imperialiste', 'des', 'etats_-_unis', \"s_'\", 'opere', 'silencieusement', 'et', '*', 'pacifiquement', 'grace_au', 'dollar', '.'], ['le_gouvernement', 'americain', ',', 'expression', 'des', 'financiers', 'et', 'des', 'trustera', 'millionnaires', ',', 'use', 'des', 'moyens', 'dc', 'pression', 'irresistibles', \"qu_'_il\", 'possede', 'en', 'detenant', ',', 'u', 'uf', '.', 're', 'ses', 'titres', 'de', 'creances', 'a', 'long_terme', ',', 'pour', 'des_centaines', 'ct', 'des_centaines', 'de', 'initiions', 'de', 'dollars', 'de', 'creances', 'a', 'tres', \"'\", 'courtes', 'echeances', ',', 'par_exemple', ',', 'des', 'lions', 'du_tresor', '.'], ['aveo', 'ces_bons', 'du_tresor', ',', 'les_banquiers', 'des', 'etats_-_unis', 'ct', 'leurs', 'ageuts', 'financiers', 'dans', 'les', 'divers_pays', 'tiennent', 'los', 'gouvernants', 'capitalistes', 'de', 'ces', 'pays', 'a', 'la', 'gorge', '.'], ['ils', 'peuveut', ',', 'en_effet', ',', 'exiger', 'a', 'tout', 'moment', 'le_remboursement', \"d_'_enormes\", 'quantites', 'de', 'ces_valeurs', ',', 'operation', 'qui', 'desorganiserait', 'immediatement', 'les', 'finances', 'des', 'etats', 'attaques', 'faisant', 'de', '-', 'iringoler', 'leurs', 'changes', ',', 'troublerait', 'profondement', 'leur_vie', 'et', 'leur', 'politique', '.'], ['ayant', 'draine', 'a', \"l_'_occasion\", 'de', 'la_guerre', \"l_'\", 'or', 'du_monde', ',', 'en', 'echange', 'de', 'fournitures', 'laites', 'moyennant', 'gros', 'beneficos', ',', 'les_capitalistes', \"d_'_amerique\", 'ont', 'developpe', 'ensuite', 'leur', 'politioue', \"d_'\", 'expansion', 'et', 'de', '-', 'colonisation', 'a', \"l_'_aide\", '.'], ['je', 'ce', 'memo', 'or', \"qu_'_ils\", 'pretaient', 'aux', 'capitalistes', 'ct', 'aux', 'gouvernements', 'europeens', '.'], ['la_belgique', 'se_trouve', 'livree', ',', 'clic', 'aussi', ',', 'aux', 'banquiers', 'des', 'etats_-_unis', ',', 'qui', 'exigent', 'le_reglement', 'des_interets', 'et', \"l_'_amortissement\", 'des', 'vieilles', 'dettes', 'tic', 'guerre', 'et', 'des', 'milliards', 'avances', 'au_lendemain', 'de', \"l_'_armistice\", ',', 'en', '1919', ',', 'pour_assurer', 'les_frais', 'immediats', 'dc', 'la_restauration', 'bourgeoise', '.'], ['le_montant', 'de', 'ces', 'detti', 'avec', 'leurs', 'interets', 'accumules', 'depassent', 'actuellement', 'neuf', 'milliard', '.'], [';', 'ct', 'demi', 'do', 'francs', '.'], ['#', 'jusqu', 'ici', ',', 'le', 'gouv', '<?', 'jrtm', '?', 'piei', \">'\", 't', 'beitfb', \"n_'\", 'u', '-', 'vail', 'pas', 'prevu', 'a', 'son_budget', 'le_remboursement', 'de', 'ces', 'dettes', '.'], ['on', 'esperait', 'que', \"l_'_amerique\", \"n_'\", 'en', 'reclamerait', \"qu_'\", 'une_partie', ',', 'le', 'reste', 'etant', 'mis', 'a', 'charge', 'de', \"l_'_allemagne\", 'par', 'le', 'truite', ',.'], ['de', 'versailles', '.'], ['les', 'etats_-_unis', \"n_'\", 'ayant_pas', 'ratifie', 'ce', 'traite', \"n_'\", 'ont_pas', ',', 'en_consequence', ',', 'accepte', 'ce', 'transfert', 'dc', 'leur', 'creance', '...', 'les', 'capacites', 'de', 'paiement', 'do', \"l_'_allemagne\", 'ayant_ete', 'fixees_par', 'le', 'plan_dawes', ',', 'en', 'janvier_1925', ',', 'quand_il', 'iallut', 'proceder_a', 'la_repartition', 'des', 'annuites', ',', 'lu', 'reduction', 'de_la_dette', 'allemande', 'obligea', 'les', 'allies', 'a', 'proposer', 'de', '.', 'nouveaux', 'arrangements', 'pour_le_reglement', 'de', 'la', 'detto', 'de', 'guerro', 'belge', '(', 'pres', 'de', 'sont', 'milliards', 'de', 'francs', '-', 'or', ').'], ['les_experts', 'allies', 'fixerent', \"d_'_abord\", 'la', 'part', 'revenant', 'aux', 'allies', 'pour', 'remboursement', 'de_la_dette', 'de', 'guerre', 'belge', ':', 'iti', 'p', ',', 'c', '.', 'a', 'la_france', ',', '42', 'p', '.', 'c', '.', 'a', \"l_'_angleterre\", 'et', '12', 'p', '.', 'c', '.', 'aux', 'etals_-_unis', '.'], ['les', 'anglais', 'ayant', 'propose', 'de', 'reduire', 'de', '.'], ['moitie', 'la_dette', 'belge', 'et', 'de', \"l_'\", 'amortir', 'par', 'un', 'pi', \"'\", 'e', '-', 'l', \"-'-\", 'vcuicut', 'sur', 'les_versements', 'ile', \"l_'_allemagne\", 'en', 'application_du_plan', 'dawes', ',', 'prelevement', 'qui', 'aurait_ete', 'reparti', 'outre', '1rs', 'creanciers', 'de', 'la_belgique', \"('\", 'franco', '.'], ['angleterre', ',', 'etats_-_unis', ')', 'au', 'prorata', 'de', 'leur', 'creance', ',', 'le', 'delegue', 'americain', \"n_'\", 'accepta', 'pas', 'cette_proposition', 'et', 'declara', 'lue', 'ia', 'part', 'des', 'etats_-_unis', 'ne', 'representant', 'pas', 'le_montant', 'de', 'ja', 'somme', 'pretee', 'par', \"l_'_amerique\", ',', 'il_devait', 'reserver', 'sa_decision', '.'], ['lappelons', 'que', 'le_montant', 'ile', 'la_dette', '#', \"'\", 'lp', 'guerre', 'beige', 'proprement_dite', 'euvers', 'les', 'ftats', '-_unis', 'est', 'de', '171', ',', '7', 'millions', 'de', 'dollars', ',', 'plus', 'les_interets', 'accumules', 'a', '*\">', 'p', '.', 'c', '.', 'qui', 'etaient', 'de', '51', ',', '5', 'millions', 'de', 'dollars', 'a', 'fin', '192', '*', '1', ',', 'soit', 'au_total', '22', '-', '3', ',', '2', 'millions', 'dc', 'dollars', '.'], ['la_commission', 'belge', 'chargee', ',', \"d_'_aller\", 'negocier', 'les', 'arrangements', 'financiers', 'necessaires', 'avec', 'les', 'etats_-_unis', 'ne', 'man', '-', 'lucra', 'pas', \"d_'_exiger\", 'la_reduction', 'de', 'moi', '-', '#', 'ie', ',', 'su', 'moins', ',', 'do', 'cette_somme', ',', 'en_conformite', 'du_plan_dawes', '.'], ['mais', 'il_reste', \"l_'_autre\", ',', 'partie', 'de_la_dette', 'intervenue', 'de', 'suite', 'apres', \"l_'_armistice\", 'et', \"jusqu_'_en\", '1919', 'et', \"s_'\", 'elevant', ',', 'avec', 'les_interets', 'accumules', ',', 'a', 'plus', 'de', '202', 'millions', 'de', 'dollars', '...', \"qu_'_il_faut\", 'payer', 'en_totalite', 'e', 't', 'pans', 'discussion', '.'], ['mm', '.'], ['theunis', ',', 'hautain', 'et', \"d_'_autres\", 'representants', 'des', 'banques', 'et', 'du_gouvernement', 'belge', \"s_'\", 'embarqueront', 'prochainement', 'afin', 'dc', 'soumettre', \"'\", 'es', 'propositions', 'ds', 'reglement', '-', 'des_dettes', 'au_gouvernement', ',', 'et', 'aux', 'banquiers', 'des', 'etats_-_unis', '.'], ['quelles', 'seront', 'ces_propositions', '?'], ['dans', 'sa', 'declaration_ministerielle', ',', 'si', 'democratique', \"('.\"], [').'], ['le', 'financier', 'vau', 'do', 'vyvere', ',', 'agent', 'des', 'banquiers', 'des', 'etats_-_unis', ',', \"n_'\", 'a', 'rien', 'dit', 'a', 'ce_propos', '.'], ['il_faudra', 'que', 'son', 'successeur', ',', 'm', '.', 'poul', '-', '!'], ['*-#*,', 'au', 'tout_autre', ',', \"s_'\", 'explique', 'clairement', 'a_ce_sujet', '.'], ['u_faut', 'que', 'les', 'masses', 'ouvriers', 'et', 'paysannes', 'sachent', 'exactement', 'wmment', 'le_gouvernement', 'democratique', 'ballot', '-', 'vandervelde', '-', 'francqui', 'entend', 'rendre', 'ce', 'probleme', 'des_dettes', 'ameri', '-', 'f', \"'\", 'a', 'mes', '.'], ['qui', 'fera', 'les_frais', 'da', 'reglement', '?'], ['deja', \"l_'\", 'on_assure', 'que', 'le_ministre', 'des', '^', 'naiices', 'voudrait', 'inscrire', 'a', 'son_budget', '(', '-', 'c', 'cette', 'aimee', ',', 'une_somme', 'destinee', 'au', '^*', 'mboursement', 'des', '.'], ['interets', 'et', 'a', '1', 'amor', '-', 'lss', 'ement', \"d_'_une_partie\", 'de', 'la', 'detto', 'americain', '.'], ['qcin', '^', 'ajoute', 'au', 'tas', 'de', 'millions', '\"#-', 'vessaires', 'pour', 'payer', 'les_frais', 'dc', \"l_'\", 'aug', '-', '\\'!\\'\"'], [\"n_'\", 'alion', 'des_traitements', 'du_personnel', \"'\", \"'#\", '-', '1', 'etat', 'et', 'aux', 'nombreux', 'millions', 'in', '!', 'dispensables', 'pour', 'realiser', 'au_moins', 'quelques', 'reformes', 'sociales', 'du', 'programme', 'gouvernemental', ',', 'nous', 'amene', 'a', 'plus', \"d_'\", 'u', '.', 't', 'milliard', 'de', 'francs', 'de', 'depenses', 'nouvelles', 'non', 'prevues', 'au_budget', 'belge', '.'], ['ou', 'trouver', 'pareilles', 'sommes', 'chaque_annee', '?'], ['cette_situation', 'financiere', 'inextricable', 'explique', 'en', 'partie', 'les', 'difficulte', '?'], ['de', '-', 'a', 'formation', 'du', 'nouveau_gouvernement', 'et', 'les', 'tripotages', 'des', 'financiers', 'et', 'des', 'banquiers', 'meles', 'a', 'la_crise', 'politique', 'qu', 'ils', 'esperent', 'exploiter', 'au', 'mieux', 'de', 'leurs', 'interets', 'personnels', '.'], [\"l_'_etat\", 'bourgeois', 'devra', 'donc', 'proceder_a', 'une_nouvelle', 'inflation', ',', 'a', 'une_nouvelle', 'emission', 'de', 'papier', '-', 'monnaie', 'pour_faire', ':', 'face_aux', 'depenses', 'accrues', 'avec', ',', 'com', ';:', 'e', 'consequences', ',', 'une_nouvelle', 'chute', 'dc', 'la_valeur', 'du_franc', 'et', 'tout', 'ce_qui', \"s_'\", 'ensuit', ':', 'vie_chere', ',', 'speculations', ',', 'expropriation', 'c', '1o', 's', 'petits', '-', 'bourgeois', ',', 'augmentation', 'tic', 'la_puissance', 'des', 'grandes_banques', '...'], ['et', 'comment', 'payer', 'les', 'millions', 'de', 'dollars', \"d_'_amortissement\", 'annuel', 'des', 'dett', 's', 'euvers', 'les', 'etats_-_unis', '?'], ['evidemment', ',', 'en', 'achetant', 'des', 'dollars', 'avee', 'des', 'francs', '.'], ['u', 'no', 'manquera', 'pas', 'do', 'grandes_banques', 'belges', 'pour', 'se', 'disputer', 'celte', 'operation', '.'], ['ces', 'banques', 'soumises', 'a', \"l_'\", 'uiiluenee', 'americaine', 'et', 'agissant', 'aux', 'ordres', 'de', 'mor', '-', 'gan', 'et', '*', 'cie', ',', 'placeront', ',', 'pour', 'compte', 'des', 'financiers', 'americains', ',', 'ces', 'francs', 'dans', 'des', 'entreprises', 'belges', ',', 'elles', 'exigeront', 'du_gouvernement', ',', 'la', 'cession', 'totale', 'ou', 'pap', 'tielle', 'dc', 'grands', 'services', 'publies', 'qui', '.'], ['rapportent', ':', 'telephones', ';', 'railways', ',', 'etc', '..', 'elles', 'creeront', ',', \"s_'\", 'il', 'le', 'faut', ',', 'clo', 'nouvelles', 'usines', 'pour', 'compte', 'des', 'americains', '.'], ['elles', 'contraindront', ',', 'grace_a', 'la_chute', 'du', 'iranc', ',', 'les', 'entreprises_industrielles', 'belges', 'visees', 'par', 'les_banquiers', \"d_'_amerique\", 'a', 'augmenter', 'leur', 'capital_social', ',', \"qu_'_elles\", 'souscriront', ',', 'de', 'facon', 'a', 'les', 'soumettre', 'a', 'leu', ';-', 'cqntrule', '.'], [\"'\", 't', 'a', 'celui', 'du_capital', 'americain', '.'], ['et', 'ainsi', '1', '..:', 'tf', '&', 'nsfert', 'de', 'lu', 'ei', '-', 'e', '-<', 'nce', '.'], ['*', 'owte', '-', 'ricaine', 'sera', 'realise', 'et', 'durant', 'de', 'longues_annees', \"s_'\", 'etendra', \"l_'\", 'emprise', 'progressive', 'de', \"l_'_imperialisme\", 'americain', 'derriere', 'le_dollar', 'colonisai', 'eur', '.'], ['les', 'masses', 'ouvrieres', 'de', 'belgique', 'connaitront', 'la', 'double', 'exploitai', 'ion', 'du', 'capitalisme', 'national', 'et', 'do', \"l_'_imperialisme\", 'etranger', '.'], ['#', '-', 'de', 'cette', 'menace', ',', 'qui_sera', 'la', 'realiee', 'do', 'demain', ',', 'lu', 'soeiad', '-', 'demooratie', 'est', 'incapable', 'de', 'preserver', 'les_travailleurs', '.'], ['elle', \"l_'\", 'accepte', ',', 'elle', \"s_'\", 'y', \"'\", 'soumet', '.'], ['seul', ',', 'le', 'parti_communiste', 'international', 'appelle', 'les', 'masses', 'exploitees', '.', 'ei', 'asservies', 'a', \"l_'_imperialisme\", 'a', 'la_lutte', 'tncossa', 'ta', 'pour', 'la', 'defenso', 'de', 'leur', '?'], ['moyens', \"d_'\", 'ex', \"'\", 's', '-', 'tence', 'et', 'contre', 'lu', 'regime', 'capitaliste', 'et', 'toutes_ses', 'consequences', '.'], ['m_\"\"', 'une_conference', 'sur_la_question', 'des_dettes', 'a', 'londres', 'ou', 'a', 'nsw', '-_york', 'on', 'mtuido', 'de', 'washington', 'que', \"l_'\", 'am', '-', 'li', '.\"-*.'], ['*', 'ivlj', \"'.\", 'u', '-', 'de', 'belgique', ',', 'm', '.', 'cartier', 'de', 'marehie', '-', 'mic', \"s_'\", 'embarquera', 'lo', '0', 'juin', 'pour', 'la', ',', 'belgique', '.'], ['il', 'c', '?', 't', 'alle', 'rendre', 'visite', 'lundi', 'au', 'president', 'ccoliflge', '.'], [\"d_'_autre\", 'pari', ':,', 'suivant', 'lo', '<<', 'ne', '-\\\\', 'v', '-*', 'york', 'world', '>>', 'le_president', 'co', '-', 'olidgo', 'serait', \"l_'\", 'inspirateur', 'de', '.'], [\"l_'_article\", 'publie', 'par', 'la', '.'], ['<<', 'washington', 'post', '>>,', 'dans_lequel', 'm', '.', 'hanrvcy', ',', 'ancien', 'ambassadeur', 'des', 'etats_-_unis', 'a', 'londres', ',', 'suggerait', ';', 'la', 'retuu', '-:<<', 'n', \"d_'\", 'une_conference', 'a', 'londres', 'au_sujet', 'de', 'la', 'detto', 'francaise', 'envers_les', 'etats_-_unis', 'ct', 'la_grande', '-_bretagne', '.'], ['mais', 'la', '.'], ['<<', 'chicago', 'tribune', '>>', 'declare_que', 'les_membres', 'de', 'la', '..', 'commission', 'des_dettes', \"n_'\", 'approuvent', 'pas', 'la', 'suggestion', 'emise', 'par', 'le_colonel', 'hat', '-', 'voy', 'ou', 'vue', 'de', 'la_reunion', \"d_'_un\", '*-.,', 'conference', 'des_dettes', 'a', 'londres', '.'], ['comment', 'fut', 'pendu', 'le', 'heros', 'friedmann', 'marco', 'friedmann', 'est', 'mort', 'en', 'proclamant', 'son', 'innocence', \"l_'_execution\", 'en', 'place', 'publique', ',', 'a', 'so', '(-,', 'fia', ',', 'des', 'trois', 'condamnes', 'a', 'mort', 'friad', '-', 'mann', ',', 'koeff', 'et', 'zadgorski', ',', 'est', 'un_crime', 'nouveau', 'qui_vient', 'grossir', 'ie', 'dgssier', 'sanglant', 'du_gouvernement', 'tsankoff', '.'], ['aucune', 'preuve', 'de', 'la_participation', 'de', 'friedminn', 'a', \"l_'\", 'attentat', 'de', 'ia', '.', 'catheiralc', 'r', \".'\", 'a', 'pu_etre', 'fou', '-', 'nic', '.'], ['mais', 'il_fallait', 'a', '.', 'bso', '-', '1', 'jment', 'incriminer', 'le_communisme', '*', 'et', 'la', 'hle', 'internationale', ',', 'et', 'le', 'communiste', 'friedmann', 'avait_ete', '.', 'officier', 'du_genie', '..', 'ca', 'suffisait', '.'], ['dans', 'un', 'entretien_avec', 'uai', 'journaliste', 'italien', ',', 'quelques_heures', 'avant', \"l_'\", 'exeeu', '--', 'tion', ',', 'friedmann', 'a', 'repete', \"qu_'_il\", 'etait', 'innocent', '.'], ['#', 'voici', 'eoniment', 'les_journaux', 'bourgeois', 'depeignent', \"l_'\", 'horrible', 'scene', 'de', 'la', 'pendaison', '.'], ['des_milliers', \"d_'_hommes\", ',', 'de', 'femmes', 'et', \"'\", \"d_'_enfants\", 'se', 'pressaienf', \"'\", 'sur', 'la', 'place', ',', 'ou_trois', 'gibets', 'avaient_ete', 'dresses', '.'], ['quelques_minutes', 'avant', 'huit_heures', ',', 'un', '(c)', 'automobile', 'amena', ',', 'les', 'condamnes', ',', 'entoures', 'do', 'soldats', '.'], ['us', 'etaient', 'habilles', 'comme', 'a', \"l_'_ordinaire\", ',', 'mais', 'sans', 'cols', ',', 'et', 'leurs', 'mains', 'etaient', 'lourdement', 'chargees', 'de', 'chaines', '.'], ['friedmann', 'et', 'za', '/', 'lgorslri', 'etaient', \"'\", 'calmes', ',', 'tandis_que', 'koeff', 'sc', 'montrait', 'agite', '.'], ['la', ',', 'lecture', 'de', \"l_'_acte\", \"d_'\", 'accusation', 'et', 'de', 'la', 'condamnation', 'dura', 'uno', 'demi_-', 'heure', '.'], ['friedmann', 'souriait', ',', 'taudis', 'que', 'les_deux', 'autres', 'baissaient', 'la_tete', '.'], ['un', '.'], ['officier', 'demandant', 'aux', 'condamnes', \"s_'\", 'ils', \"n_'\", 'a', '.', 'vaient', 'rien', 'a', 'declarer', ',', 'friedmann', 'declara_qu', \"'\", 'il_etait', 'communiste', ',', 'et', 'mour', '-', 'i', 'irait', 'en', 'communiste', ',', 'mais', \"qu_'_il\", \"n_'\", 'avait', 'en', 'rien', 'participe', \"l_'\", 'attentat', 'dc', 'la_cathedrale', 'le', 'sacristain', 'repeta', 'sou', 'aveu', '.'], ['koeff', 'nia', \"jusqu_'_au_bout\", 'toute', 'culpabilite', 'ct', '.', 'demanda', 'a', 'la', 'feula', 'de', 'lo', 'sauver', '.'], ['finalement', ',', 'il', 'remit', 'a', 'un_officier', 'une_lettre', 'pour', 'sa_femme', '.'], ['.', '.', 'a', 'huit_heures', 'quarante', 'arriverent', 'trais', 'tzigan', '#;;', 'nus', '-', 'pieds', 'et', 'en', 'haillons', ',', 'qui_avaient', 'ete', 'engages', 'pour_cent', 'francs', 'chacun', '.'], ['ils', 'porterent', 'lea', 'trois', ',', 'eondant', '-', 'j', 'ne', '*', \"l_'\", 'un', 'apres', 'tautre', 'a', 'la', 'table', 'placee', 'sous', 'le', 'gibet', '.'], ['kcaff', 'fut', 'pendu', 'le_premier', ',', \"l_'\", 'ne', 'cagoule', 'blanche', 'lui', 'cacha', 'le', 'visage', ',', 'la', 'corde', 'fut', 'pla', '-', 'cee', 'autour_du', 'son', 'cou', ',', 'puis', 'la', '*', 'table', 'fut', 'renversee', '.'], ['une_minute', 'plus_tard', ',', 'son_cadavre', 'pendait', '...', 'fuis', 'ce_fut', 'le', 'tour', \"'\", 'ie', 'zadgorski', 'et', '.'], ['enfin', ',', 'celui', 'de', 'friedmann', '.'], ['qui_avait', 'du', \"assister_a_l_'\", 'execution', 'des', 'deux_autres', '...'], ['le', 'proletariat', 'intemationaj', 'inscrira', 'le_nom', 'de', 'friedmann', ',', 'innocemment', 'pendu', 'par', 'le', 'bourreau', 'tsanfcoff', ',', 'dans', 'le', 'livre', \"d_'_or\", 'de', 'la', 'causc', 'ouvriere', '.'], ['encore', 'deux_ministres', 'de', 'stamb0uli5ki', 'assassines', 'on_annonce', 'un_nouveau', 'crime', 'de', 'tsatikoff', '.'], [\"l_'\", 'ancien_ministre', 'des_finances', ',', 'jancff', 'et', 'le_president', 'du', 'sobranie', 'poteff', ',', 'qui_avaient', 'ete_condamnes', 'a', 'dix_ans', 'dc', 'prison', ',', 'viennent', 'd', 'etre', 'assassines', 'par', 'leurs', 'gardiens', '.'], ['naturellement', ',', 'comme', 'pour', 'liebknecht', ',', 'on', 'affirme', \"qu_'_ils_ont\", 'tente', 'do', 'fuir', '.'], ['--', 'o', '>>', '*---', '.'], ['un_ouvrier', 'noye', 'a', 'esneux', '(', 'do', 'notre_correspondant', ')', 'on', 'a', 'repeche', 'lundi', ',', 'ver', '3', '1', 'heure', 'do', '1', 'apres', '-', 'mini', ',', 'le_cadavre', 'de', \"l_'_ouvrier\", 'joseph', 'marechal', 'tombe', 'dans', \"l_'_ourthe\", 'entre', 'le', \"l_'\", 'ont', 'et', \"l_'\", 'ecluse', 'depuis', 'samedi_soir', '.'], ['chose', 'inconcevable', ':', \"parce_qu_'\", 'il', \"s_'\", 'a', ',', 'git', \"d_'\", 'un_ouvrier', ',', 'les_autorites', \"n_'\", 'ont', '#', 'seulement', 'fait', 'des', 'recherches', 'que', 'pendant_quelques', 'heures', 'et', 'sans', 'guere', 'ee', 'gener', '.'], ['u', 'a_fallu', 'que', 'le', 'beau', '-', 'pere', 'de', 'la_victime', \"s_'\", 'en', 'occupat', '.'], ['au_bout', 'de', 'peu', 'de', 'temps', ',', 'le_corps', 'do', 'la_victime', 'fut', 'ramene', 'sur', 'la', 'berge', 'et', 'remis', 'aux', 'siens', '.'], ['il', 'laisse', 'une_femme', 'et', 'deux_enfants', 'dont', 'un', 'fils', 'qui', 'a', 'fini', 'son', 'terme', 'militaire', '-', \"s_'\", 'il', \"s_'\", 'etait', 'agi', \"d_'_un\", 'bourgeois', ',', 'quelles', \"n_'\", 'auraient_pas', 'ete', 'les', 'recherches', 'diligentes', 'et', 'mome', 'lis', 'requisitions', '!*!'], ['cooperative', '<<', 'socialiste', '>>', 'jaune', '--', 'ooo', 'le', 'scandale', 'du_palais', 'de', \"l_'_industrie\", 'et', 'du_travail', 'a', 'charleroi', 'on', '60', 'souvient', 'de', 'la_greve', 'du_palais', 'dc', \"l_'_industrie\", 'et', 'du_travail', 'a', 'charleroi', ',', 'greve', 'provoquee_par', 'les', 'administrateurs', 'exploiteurs', 'de', 'cette', 'cooperative', '*', 'soi', '-', 'disant', 'socialiste', 'qui', \"n_'\", 'est', 'ni', 'cooperative', 'ni', 'socialiste', '.'], ['nous_avons', 'deja', 'mis_en', 'relief', 'les', 'diverses', 'attitudes', 'reactionnaires', ',', 'dignes', 'de', 'fascistes', ',', 'du_citoyen', 'duibois', 'et', 'de', 'ses', 'acolytes', 'du_conseil', \"d_'_administration\", '.']]\n"
     ]
    }
   ],
   "source": [
    "print(corpus[:100])"
   ]
  },
  {
   "cell_type": "markdown",
   "metadata": {},
   "source": [
    "## Entrainement d'un modèle Word2Vec sur ce corpus"
   ]
  },
  {
   "cell_type": "code",
   "execution_count": 22,
   "metadata": {},
   "outputs": [
    {
     "name": "stdout",
     "output_type": "stream",
     "text": [
      "CPU times: total: 3.55 s\n",
      "Wall time: 6.47 s\n"
     ]
    }
   ],
   "source": [
    "%%time\n",
    "model = Word2Vec(\n",
    "    corpus, # On passe le corpus de ngrams que nous venons de créer\n",
    "    vector_size=32, # Le nombre de dimensions dans lesquelles le contexte des mots devra être réduit, aka. vector_size\n",
    "    window=5, # La taille du \"contexte\", ici 5 mots avant et après le mot observé\n",
    "    min_count=7, # On ignore les mots qui n'apparaissent pas au moins 7 fois dans le corpus\n",
    "    workers=3, # Permet de paralléliser l'entraînement du modèle en 4 threads\n",
    "    epochs=5 # Nombre d'itérations du réseau de neurones sur le jeu de données pour ajuster les paramètres avec la descente de gradient, aka. epochs.\n",
    ")"
   ]
  },
  {
   "cell_type": "markdown",
   "metadata": {},
   "source": [
    "#### Remarque\n",
    "\n",
    "Vous voyez ici que l'entrainement du modèle est parallélisé (sur 4 workers).\n",
    "\n",
    "Lors qu'on parallélise l'entrainement du modèle, 4 modèles \"séparés\" sont entrainés sur environ un quart des phrases.\n",
    "\n",
    "Ensuite, les résultats sont agrégés pour ne plus faire qu'un seul modèle.\n",
    "\n",
    "On ne peut prédire quel worker aura quelle phrase, car il y a des aléas lors de la parallélisation (p. ex. un worker qui serait plus lent, etc.).\n",
    "\n",
    "Du coup, les valeurs peuvent varier légèrement d'un entrainement à l'autre.\n",
    "\n",
    "Mais, globalement, les résultats restent cohérents."
   ]
  },
  {
   "cell_type": "markdown",
   "metadata": {},
   "source": [
    "### Sauver le modèle dans un fichier"
   ]
  },
  {
   "cell_type": "code",
   "execution_count": 24,
   "metadata": {},
   "outputs": [],
   "source": [
    "outfile = f\"../tp4/corpusdb.model\"\n",
    "model.save(outfile)"
   ]
  },
  {
   "cell_type": "markdown",
   "metadata": {},
   "source": [
    "## Explorer le modèle"
   ]
  },
  {
   "cell_type": "markdown",
   "metadata": {},
   "source": [
    "### Charger le modèle en mémoire"
   ]
  },
  {
   "cell_type": "code",
   "execution_count": 25,
   "metadata": {},
   "outputs": [],
   "source": [
    "model = Word2Vec.load(\"../tp4/corpusdb.model\")"
   ]
  },
  {
   "cell_type": "markdown",
   "metadata": {},
   "source": [
    "### Imprimer le vecteur d'un terme"
   ]
  },
  {
   "cell_type": "code",
   "execution_count": 27,
   "metadata": {},
   "outputs": [
    {
     "data": {
      "text/plain": [
       "array([-0.13188373, -0.6026362 ,  0.33602905,  2.333313  ,  0.21708763,\n",
       "        0.43139032,  0.04926314,  1.820423  ,  0.67257786,  1.4755898 ,\n",
       "       -0.44795865, -2.3396027 ,  0.54695386, -0.37319398, -1.8555108 ,\n",
       "        0.38626394, -1.310726  ,  0.7865423 , -0.6655431 ,  2.9735935 ,\n",
       "       -0.49011585, -0.00877105,  1.8593655 , -3.4466689 ,  3.039669  ,\n",
       "       -0.3737799 ,  1.617716  , -1.4171431 , -1.0412405 , -1.4924067 ,\n",
       "       -0.01603176, -0.4810704 ], dtype=float32)"
      ]
     },
     "execution_count": 27,
     "metadata": {},
     "output_type": "execute_result"
    }
   ],
   "source": [
    "model.wv[\"banque\"]"
   ]
  },
  {
   "cell_type": "code",
   "execution_count": 28,
   "metadata": {},
   "outputs": [
    {
     "data": {
      "text/plain": [
       "array([ 0.4951036 , -0.23177837, -1.0529529 ,  0.37591457, -0.24939391,\n",
       "       -1.6867355 , -0.26483667,  0.30665636, -0.79198337,  1.8225222 ,\n",
       "        0.32028905, -0.84671676,  0.20436318, -0.02616134, -0.00405181,\n",
       "       -0.05192585,  0.12048884,  0.400746  ,  1.1258572 ,  0.17232727,\n",
       "        0.7332141 ,  1.3255436 ,  1.4142447 , -0.5056767 ,  0.20474449,\n",
       "       -0.3070956 , -0.58283293, -0.8261282 ,  0.2706182 ,  0.43015268,\n",
       "       -0.05444039,  0.28174654], dtype=float32)"
      ]
     },
     "execution_count": 28,
     "metadata": {},
     "output_type": "execute_result"
    }
   ],
   "source": [
    "model.wv[\"etat\"]"
   ]
  },
  {
   "cell_type": "markdown",
   "metadata": {},
   "source": [
    "### Calculer la similarité entre deux termes"
   ]
  },
  {
   "cell_type": "code",
   "execution_count": 30,
   "metadata": {},
   "outputs": [
    {
     "data": {
      "text/plain": [
       "0.80686194"
      ]
     },
     "execution_count": 30,
     "metadata": {},
     "output_type": "execute_result"
    }
   ],
   "source": [
    "model.wv.similarity(\"droit\", \"democratie\")"
   ]
  },
  {
   "cell_type": "code",
   "execution_count": 31,
   "metadata": {},
   "outputs": [
    {
     "data": {
      "text/plain": [
       "0.89107156"
      ]
     },
     "execution_count": 31,
     "metadata": {},
     "output_type": "execute_result"
    }
   ],
   "source": [
    "model.wv.similarity(\"police\", \"violence\")"
   ]
  },
  {
   "cell_type": "code",
   "execution_count": 32,
   "metadata": {},
   "outputs": [
    {
     "data": {
      "text/plain": [
       "0.82525754"
      ]
     },
     "execution_count": 32,
     "metadata": {},
     "output_type": "execute_result"
    }
   ],
   "source": [
    "model.wv.similarity(\"police\", \"ordre\")"
   ]
  },
  {
   "cell_type": "code",
   "execution_count": 33,
   "metadata": {},
   "outputs": [
    {
     "data": {
      "text/plain": [
       "0.71591127"
      ]
     },
     "execution_count": 33,
     "metadata": {},
     "output_type": "execute_result"
    }
   ],
   "source": [
    "model.wv.similarity(\"asile\", \"invasion\")"
   ]
  },
  {
   "cell_type": "code",
   "execution_count": 34,
   "metadata": {},
   "outputs": [
    {
     "data": {
      "text/plain": [
       "0.80686194"
      ]
     },
     "execution_count": 34,
     "metadata": {},
     "output_type": "execute_result"
    }
   ],
   "source": [
    "model.wv.similarity(\"droit\", \"democratie\")"
   ]
  },
  {
   "cell_type": "markdown",
   "metadata": {},
   "source": [
    "### Chercher les mots les plus proches d'un terme donné"
   ]
  },
  {
   "cell_type": "code",
   "execution_count": 35,
   "metadata": {},
   "outputs": [
    {
     "data": {
      "text/plain": [
       "[('bleu', 0.9553493857383728),\n",
       " ('rose', 0.9520599842071533),\n",
       " ('jaune', 0.9505562782287598),\n",
       " ('transvaal', 0.9497373700141907),\n",
       " ('renard', 0.9476518630981445),\n",
       " ('fll', 0.9424518346786499),\n",
       " ('aoot', 0.9422782063484192),\n",
       " ('home', 0.9420903921127319),\n",
       " ('pectoral', 0.9413021206855774),\n",
       " ('star', 0.9405019879341125)]"
      ]
     },
     "execution_count": 35,
     "metadata": {},
     "output_type": "execute_result"
    }
   ],
   "source": [
    "model.wv.most_similar(\"noir\", topn=10)"
   ]
  },
  {
   "cell_type": "code",
   "execution_count": 36,
   "metadata": {},
   "outputs": [
    {
     "data": {
      "text/plain": [
       "[('matin', 0.9528449773788452),\n",
       " ('siege', 0.9342163801193237),\n",
       " ('drame', 0.9251589179039001),\n",
       " ('courrier', 0.9147465229034424),\n",
       " ('roi', 0.9114739894866943),\n",
       " ('cinema', 0.9073225855827332),\n",
       " ('siecle', 0.9067301154136658),\n",
       " ('cou', 0.9067167043685913),\n",
       " ('frere', 0.9047124981880188),\n",
       " ('30_novembre', 0.9034886360168457)]"
      ]
     },
     "execution_count": 36,
     "metadata": {},
     "output_type": "execute_result"
    }
   ],
   "source": [
    "model.wv.most_similar(\"soir\", topn=10)"
   ]
  },
  {
   "cell_type": "code",
   "execution_count": 38,
   "metadata": {},
   "outputs": [
    {
     "data": {
      "text/plain": [
       "[('jouissance', 0.842002809047699),\n",
       " ('actions_privilegiees', 0.840703010559082),\n",
       " ('depots', 0.8149512410163879),\n",
       " ('obligations', 0.8100811839103699),\n",
       " ('liberees', 0.806624174118042),\n",
       " ('banques', 0.8015186786651611),\n",
       " ('caisse', 0.7845936417579651),\n",
       " ('ateliers', 0.7776685953140259),\n",
       " ('parts', 0.7759085893630981),\n",
       " ('ordinaires', 0.7643119096755981)]"
      ]
     },
     "execution_count": 38,
     "metadata": {},
     "output_type": "execute_result"
    }
   ],
   "source": [
    "model.wv.most_similar(\"actions\", topn=10)"
   ]
  },
  {
   "cell_type": "code",
   "execution_count": 39,
   "metadata": {},
   "outputs": [
    {
     "data": {
      "text/plain": [
       "[('histoire', 0.977387011051178),\n",
       " ('digne', 0.9680662751197815),\n",
       " ('geste', 0.9646246433258057),\n",
       " ('combinaison', 0.9639960527420044),\n",
       " ('langage', 0.9629129767417908),\n",
       " ('admirable', 0.9615954160690308),\n",
       " ('puissance', 0.9596827030181885),\n",
       " ('vive', 0.9592717289924622),\n",
       " ('grace', 0.9591938853263855),\n",
       " ('de_mme_coilomb', 0.9587934613227844)]"
      ]
     },
     "execution_count": 39,
     "metadata": {},
     "output_type": "execute_result"
    }
   ],
   "source": [
    "model.wv.most_similar(\"femme\", topn=10)"
   ]
  },
  {
   "cell_type": "code",
   "execution_count": 40,
   "metadata": {},
   "outputs": [
    {
     "data": {
      "text/plain": [
       "[('le_roi', 0.9521457552909851),\n",
       " ('seul', 0.9495663046836853),\n",
       " ('assure', 0.9463509321212769),\n",
       " ('aussitot', 0.9461931586265564),\n",
       " ('grave', 0.9457772374153137),\n",
       " ('connu', 0.9414288997650146),\n",
       " ('prononce', 0.9413462281227112),\n",
       " (\"l_'_auteur\", 0.9397786259651184),\n",
       " ('une_autre', 0.9384989142417908),\n",
       " ('vraiment', 0.9377130270004272)]"
      ]
     },
     "execution_count": 40,
     "metadata": {},
     "output_type": "execute_result"
    }
   ],
   "source": [
    "model.wv.most_similar(\"homme\", topn=10)"
   ]
  },
  {
   "cell_type": "code",
   "execution_count": 41,
   "metadata": {},
   "outputs": [
    {
     "data": {
      "text/plain": [
       "[('rouge', 0.863639771938324),\n",
       " ('paysan', 0.8543131947517395),\n",
       " ('matadero_extra', 0.8497834205627441),\n",
       " ('coq', 0.8409463167190552),\n",
       " ('lapin', 0.8383168578147888),\n",
       " ('village', 0.836881697177887),\n",
       " ('mier', 0.8360007405281067),\n",
       " ('tambour', 0.8342134952545166),\n",
       " ('chateau', 0.8339943885803223),\n",
       " ('jaune', 0.8303341269493103)]"
      ]
     },
     "execution_count": 41,
     "metadata": {},
     "output_type": "execute_result"
    }
   ],
   "source": [
    "model.wv.most_similar(\"blanc\", topn=10)"
   ]
  },
  {
   "cell_type": "code",
   "execution_count": 42,
   "metadata": {},
   "outputs": [
    {
     "data": {
      "text/plain": [
       "[('rio', 0.942065417766571),\n",
       " ('union_parisienne', 0.9187070727348328),\n",
       " (';_royal_dutch', 0.9066250324249268),\n",
       " ('cana', 0.8796939849853516),\n",
       " ('changhal', 0.8671905994415283),\n",
       " ('052', 0.8597162365913391),\n",
       " (';_central_mining', 0.8539825677871704),\n",
       " (':_petroflna', 0.8537185192108154),\n",
       " ('inchange', 0.8504599928855896),\n",
       " ('contro', 0.8498464226722717)]"
      ]
     },
     "execution_count": 42,
     "metadata": {},
     "output_type": "execute_result"
    }
   ],
   "source": [
    "model.wv.most_similar(\"metro\", topn=10)"
   ]
  },
  {
   "cell_type": "code",
   "execution_count": 43,
   "metadata": {},
   "outputs": [
    {
     "data": {
      "text/plain": [
       "[('fleuve', 0.9530004262924194),\n",
       " ('legataire', 0.9464680552482605),\n",
       " ('fermier', 0.9438720345497131),\n",
       " ('match', 0.9436465501785278),\n",
       " ('foyer', 0.9390085935592651),\n",
       " ('triomphe', 0.9384762644767761),\n",
       " ('fauteuil', 0.9363344311714172),\n",
       " ('battu', 0.9348222017288208),\n",
       " (\"d_'_aviation\", 0.9345833659172058),\n",
       " ('situe', 0.9336017966270447)]"
      ]
     },
     "execution_count": 43,
     "metadata": {},
     "output_type": "execute_result"
    }
   ],
   "source": [
    "model.wv.most_similar(\"train\", topn=10)"
   ]
  },
  {
   "cell_type": "code",
   "execution_count": 45,
   "metadata": {},
   "outputs": [
    {
     "data": {
      "text/plain": [
       "[('debt', 0.9482006430625916),\n",
       " ('bank', 0.9465391039848328),\n",
       " ('aie', 0.9450823068618774),\n",
       " ('ttt', 0.9399576783180237),\n",
       " ('of_the', 0.9390336275100708),\n",
       " ('station', 0.9388034343719482),\n",
       " ('cu', 0.9384173154830933),\n",
       " ('dei', 0.9373806715011597),\n",
       " ('by_the', 0.9328418374061584),\n",
       " ('Y=', 0.9320881962776184)]"
      ]
     },
     "execution_count": 45,
     "metadata": {},
     "output_type": "execute_result"
    }
   ],
   "source": [
    "model.wv.most_similar(\"football\", topn=10)"
   ]
  },
  {
   "cell_type": "code",
   "execution_count": 46,
   "metadata": {},
   "outputs": [
    {
     "data": {
      "text/plain": [
       "[('cause', 0.9711174368858337),\n",
       " ('rendre', 0.9488545060157776),\n",
       " ('succes', 0.9430756568908691),\n",
       " ('maniere', 0.9414774775505066),\n",
       " ('nature', 0.9409788250923157),\n",
       " ('mettre', 0.9372210502624512),\n",
       " ('pris', 0.9348628520965576),\n",
       " ('pouvoir', 0.9339888691902161),\n",
       " ('maintenir', 0.9283112287521362),\n",
       " ('trouver', 0.927722156047821)]"
      ]
     },
     "execution_count": 46,
     "metadata": {},
     "output_type": "execute_result"
    }
   ],
   "source": [
    "model.wv.most_similar(\"droit\", topn=10)"
   ]
  },
  {
   "cell_type": "markdown",
   "metadata": {},
   "source": [
    "### Faire des recherches complexes à travers l'espace vectoriel"
   ]
  },
  {
   "cell_type": "code",
   "execution_count": 48,
   "metadata": {},
   "outputs": [
    {
     "name": "stdout",
     "output_type": "stream",
     "text": [
      "[('fait_durant', 0.8948108553886414), ('pondant', 0.8918882608413696), ('supportent', 0.8902180790901184), ('multiplier', 0.8834531903266907), ('pelerins', 0.8819226622581482), ('volumes', 0.8780476450920105), ('expositions', 0.8767145872116089), ('voiles', 0.8754528164863586), ('pates', 0.873284637928009), ('instituts', 0.870937705039978)]\n"
     ]
    }
   ],
   "source": [
    "print(model.wv.most_similar(positive=['republicains', 'democrates'], negative=['politiciens']))"
   ]
  },
  {
   "cell_type": "code",
   "execution_count": 49,
   "metadata": {},
   "outputs": [
    {
     "name": "stdout",
     "output_type": "stream",
     "text": [
      "[('overpelt_l', 0.842007040977478), ('activite_economique', 0.8355211615562439), ('\"_gr', 0.8323809504508972), ('boom_p', 0.8175777792930603), ('lh', 0.8036455512046814), ('wr', 0.8031070232391357), ('kownocap', 0.801292359828949), ('lite', 0.8003257513046265), ('wilsele_jouis', 0.7995355725288391), ('**_ur', 0.7994494438171387)]\n"
     ]
    }
   ],
   "source": [
    "print(model.wv.most_similar(positive=['eau', 'pluie'], negative=['mer']))"
   ]
  },
  {
   "cell_type": "code",
   "execution_count": 50,
   "metadata": {},
   "outputs": [
    {
     "name": "stdout",
     "output_type": "stream",
     "text": [
      "[('oct', 0.854617714881897), ('danube', 0.8488488793373108), ('mara', 0.8435136675834656), ('plau', 0.830959677696228), ('cmb', 0.8236958384513855), ('emb', 0.8222048878669739), ('livr', 0.8221510648727417), ('bombay', 0.8182555437088013), ('lin_am', 0.8067922592163086), ('allem', 0.8059899806976318)]\n"
     ]
    }
   ],
   "source": [
    "print(model.wv.most_similar(positive=['noir', 'blanc'], negative=['couleur']))"
   ]
  },
  {
   "cell_type": "code",
   "execution_count": 51,
   "metadata": {},
   "outputs": [
    {
     "ename": "KeyError",
     "evalue": "\"Key 'technologie' not present in vocabulary\"",
     "output_type": "error",
     "traceback": [
      "\u001b[1;31m---------------------------------------------------------------------------\u001b[0m",
      "\u001b[1;31mKeyError\u001b[0m                                  Traceback (most recent call last)",
      "Cell \u001b[1;32mIn [51], line 1\u001b[0m\n\u001b[1;32m----> 1\u001b[0m \u001b[39mprint\u001b[39m(model\u001b[39m.\u001b[39;49mwv\u001b[39m.\u001b[39;49mmost_similar(positive\u001b[39m=\u001b[39;49m[\u001b[39m'\u001b[39;49m\u001b[39mtechnologie\u001b[39;49m\u001b[39m'\u001b[39;49m, \u001b[39m'\u001b[39;49m\u001b[39mmetier\u001b[39;49m\u001b[39m'\u001b[39;49m], negative\u001b[39m=\u001b[39;49m[\u001b[39m'\u001b[39;49m\u001b[39mcommunication\u001b[39;49m\u001b[39m'\u001b[39;49m]))\n",
      "File \u001b[1;32mc:\\Users\\elaur\\Desktop\\tac\\tac_venv\\lib\\site-packages\\gensim\\models\\keyedvectors.py:842\u001b[0m, in \u001b[0;36mKeyedVectors.most_similar\u001b[1;34m(self, positive, negative, topn, clip_start, clip_end, restrict_vocab, indexer)\u001b[0m\n\u001b[0;32m    839\u001b[0m         weight[idx] \u001b[39m=\u001b[39m item[\u001b[39m1\u001b[39m]\n\u001b[0;32m    841\u001b[0m \u001b[39m# compute the weighted average of all keys\u001b[39;00m\n\u001b[1;32m--> 842\u001b[0m mean \u001b[39m=\u001b[39m \u001b[39mself\u001b[39;49m\u001b[39m.\u001b[39;49mget_mean_vector(keys, weight, pre_normalize\u001b[39m=\u001b[39;49m\u001b[39mTrue\u001b[39;49;00m, post_normalize\u001b[39m=\u001b[39;49m\u001b[39mTrue\u001b[39;49;00m, ignore_missing\u001b[39m=\u001b[39;49m\u001b[39mFalse\u001b[39;49;00m)\n\u001b[0;32m    843\u001b[0m all_keys \u001b[39m=\u001b[39m [\n\u001b[0;32m    844\u001b[0m     \u001b[39mself\u001b[39m\u001b[39m.\u001b[39mget_index(key) \u001b[39mfor\u001b[39;00m key \u001b[39min\u001b[39;00m keys \u001b[39mif\u001b[39;00m \u001b[39misinstance\u001b[39m(key, _KEY_TYPES) \u001b[39mand\u001b[39;00m \u001b[39mself\u001b[39m\u001b[39m.\u001b[39mhas_index_for(key)\n\u001b[0;32m    845\u001b[0m ]\n\u001b[0;32m    847\u001b[0m \u001b[39mif\u001b[39;00m indexer \u001b[39mis\u001b[39;00m \u001b[39mnot\u001b[39;00m \u001b[39mNone\u001b[39;00m \u001b[39mand\u001b[39;00m \u001b[39misinstance\u001b[39m(topn, \u001b[39mint\u001b[39m):\n",
      "File \u001b[1;32mc:\\Users\\elaur\\Desktop\\tac\\tac_venv\\lib\\site-packages\\gensim\\models\\keyedvectors.py:519\u001b[0m, in \u001b[0;36mKeyedVectors.get_mean_vector\u001b[1;34m(self, keys, weights, pre_normalize, post_normalize, ignore_missing)\u001b[0m\n\u001b[0;32m    517\u001b[0m         total_weight \u001b[39m+\u001b[39m\u001b[39m=\u001b[39m \u001b[39mabs\u001b[39m(weights[idx])\n\u001b[0;32m    518\u001b[0m     \u001b[39melif\u001b[39;00m \u001b[39mnot\u001b[39;00m ignore_missing:\n\u001b[1;32m--> 519\u001b[0m         \u001b[39mraise\u001b[39;00m \u001b[39mKeyError\u001b[39;00m(\u001b[39mf\u001b[39m\u001b[39m\"\u001b[39m\u001b[39mKey \u001b[39m\u001b[39m'\u001b[39m\u001b[39m{\u001b[39;00mkey\u001b[39m}\u001b[39;00m\u001b[39m'\u001b[39m\u001b[39m not present in vocabulary\u001b[39m\u001b[39m\"\u001b[39m)\n\u001b[0;32m    521\u001b[0m \u001b[39mif\u001b[39;00m(total_weight \u001b[39m>\u001b[39m \u001b[39m0\u001b[39m):\n\u001b[0;32m    522\u001b[0m     mean \u001b[39m=\u001b[39m mean \u001b[39m/\u001b[39m total_weight\n",
      "\u001b[1;31mKeyError\u001b[0m: \"Key 'technologie' not present in vocabulary\""
     ]
    }
   ],
   "source": [
    "print(model.wv.most_similar(positive=['technologie', 'metier'], negative=['communication']))"
   ]
  },
  {
   "cell_type": "code",
   "execution_count": null,
   "metadata": {},
   "outputs": [
    {
     "name": "stdout",
     "output_type": "stream",
     "text": [
      "[('soumissions_aura_lieu', 0.7645087242126465), ('fut_consacree', 0.7476798892021179), ('foire_agricole', 0.747564435005188), ('sera_accessible', 0.746957004070282), ('notariales', 0.7426692247390747), ('hsures', 0.7381367683410645), ('nitive', 0.7352807521820068), ('mars_1013', 0.7328065037727356), ('fetes_seront_organisees', 0.7259426116943359), ('la_salle_marugg', 0.7248245477676392)]\n"
     ]
    }
   ],
   "source": [
    "print(model.wv.most_similar(positive=['danse', 'cluture'], negative=['tango']))"
   ]
  }
 ],
 "metadata": {
  "kernelspec": {
   "display_name": "Python 3.10.7 ('tac_venv': venv)",
   "language": "python",
   "name": "python3"
  },
  "language_info": {
   "codemirror_mode": {
    "name": "ipython",
    "version": 3
   },
   "file_extension": ".py",
   "mimetype": "text/x-python",
   "name": "python",
   "nbconvert_exporter": "python",
   "pygments_lexer": "ipython3",
   "version": "3.10.7"
  },
  "vscode": {
   "interpreter": {
    "hash": "1371f28b61a57566aca84f831e458ad1b8215d81e6228e59fe3401f9a480bc22"
   }
  }
 },
 "nbformat": 4,
 "nbformat_minor": 4
}
