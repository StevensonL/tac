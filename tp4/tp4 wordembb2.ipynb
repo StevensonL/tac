{
 "cells": [
  {
   "cell_type": "markdown",
   "metadata": {},
   "source": [
    "# Segmentation en phrases"
   ]
  },
  {
   "cell_type": "markdown",
   "metadata": {},
   "source": [
    "## Imports"
   ]
  },
  {
   "cell_type": "code",
   "execution_count": 32,
   "metadata": {},
   "outputs": [],
   "source": [
    "import os\n",
    "import sys\n",
    "import nltk\n",
    "from nltk.tokenize import sent_tokenize"
   ]
  },
  {
   "cell_type": "code",
   "execution_count": 33,
   "metadata": {},
   "outputs": [],
   "source": [
    "import sys\n",
    "import nltk\n",
    "from nltk.tokenize import sent_tokenize"
   ]
  },
  {
   "cell_type": "markdown",
   "metadata": {},
   "source": [
    "## Fichiers d'inputs et d'outputs"
   ]
  },
  {
   "cell_type": "code",
   "execution_count": 34,
   "metadata": {},
   "outputs": [],
   "source": [
    "infile = \"../tp4/corpus.txt\"\n",
    "outfile = \"../tp4/corpusw3v.txt\""
   ]
  },
  {
   "cell_type": "markdown",
   "metadata": {},
   "source": [
    "## Segmentation en phrases du corpus complet et création d'un nouveau fichier"
   ]
  },
  {
   "cell_type": "markdown",
   "metadata": {},
   "source": [
    "**Important** : pour traiter le corpus complet, indiquez `LIMIT = None`"
   ]
  },
  {
   "cell_type": "code",
   "execution_count": 35,
   "metadata": {},
   "outputs": [],
   "source": [
    "LIMIT = None"
   ]
  },
  {
   "cell_type": "code",
   "execution_count": 36,
   "metadata": {
    "tags": []
   },
   "outputs": [
    {
     "name": "stdout",
     "output_type": "stream",
     "text": [
      "processing line 0/1\n"
     ]
    }
   ],
   "source": [
    "with open(outfile, 'w', encoding=\"utf-8\") as output:\n",
    "    with open(infile, encoding=\"utf-8\", errors=\"backslashreplace\") as f:\n",
    "        content = f.readlines()\n",
    "        content = content[:LIMIT] if LIMIT is not None else content\n",
    "        n_lines = len(content)\n",
    "        for i, line in enumerate(content):\n",
    "            if i % 100 == 0:\n",
    "                print(f'processing line {i}/{n_lines}')\n",
    "            sentences = sent_tokenize(line)\n",
    "            for sent in sentences:\n",
    "                output.write(sent + \"\\n\")\n",
    "print(\"Done\")"
   ]
  },
  {
   "cell_type": "markdown",
   "metadata": {},
   "source": [
    "# Word Embeddings : le modèle Word2Vec"
   ]
  },
  {
   "cell_type": "markdown",
   "metadata": {},
   "source": [
    "## Imports"
   ]
  },
  {
   "cell_type": "code",
   "execution_count": 6,
   "metadata": {},
   "outputs": [],
   "source": [
    "import sys\n",
    "\n",
    "from gensim.models.phrases import Phrases, Phraser\n",
    "from gensim.models import Word2Vec\n",
    "\n",
    "import nltk\n",
    "from nltk.tokenize import wordpunct_tokenize\n",
    "from unidecode import unidecode"
   ]
  },
  {
   "cell_type": "markdown",
   "metadata": {},
   "source": [
    "## Chargement et traitement des phrases du corpus"
   ]
  },
  {
   "cell_type": "markdown",
   "metadata": {},
   "source": [
    "### Création d'un objet qui *streame* les lignes d'un fichier pour économiser de la RAM"
   ]
  },
  {
   "cell_type": "code",
   "execution_count": 13,
   "metadata": {},
   "outputs": [],
   "source": [
    "class MySentences(object):\n",
    "    \"\"\"Tokenize and Lemmatize sentences\"\"\"\n",
    "    def __init__(self, filename):\n",
    "        self.filename = filename\n",
    "\n",
    "    def __iter__(self):\n",
    "        for line in open(self.filename, encoding='utf-8', errors=\"backslashreplace\"):\n",
    "            yield [unidecode(w.lower()) for w in wordpunct_tokenize(line)]"
   ]
  },
  {
   "cell_type": "code",
   "execution_count": 14,
   "metadata": {},
   "outputs": [],
   "source": [
    "infile = f\"../tp4/corpusw3v.txt\"\n",
    "sentences = MySentences(infile)"
   ]
  },
  {
   "cell_type": "markdown",
   "metadata": {},
   "source": [
    "### Détection des bigrams\n",
    "\n",
    "Article intéressant sur le sujet : https://towardsdatascience.com/word2vec-for-phrases-learning-embeddings-for-more-than-one-word-727b6cf723cf"
   ]
  },
  {
   "cell_type": "code",
   "execution_count": 22,
   "metadata": {},
   "outputs": [],
   "source": [
    "bigram_phrases = Phrases(sentences)"
   ]
  },
  {
   "cell_type": "markdown",
   "metadata": {},
   "source": [
    "L'object `phrases` peut être vu comme un large dictionnaire d'expressions multi-mots associées à un score, le *PMI-like scoring*. Ce dictionnaire est construit par un apprentissage sur base d'exemples.\n",
    "Voir les références ci-dessous :\n",
    "- https://arxiv.org/abs/1310.4546\n",
    "- https://en.wikipedia.org/wiki/Pointwise_mutual_information"
   ]
  },
  {
   "cell_type": "code",
   "execution_count": 23,
   "metadata": {},
   "outputs": [
    {
     "data": {
      "text/plain": [
       "dict"
      ]
     },
     "execution_count": 23,
     "metadata": {},
     "output_type": "execute_result"
    }
   ],
   "source": [
    "type(bigram_phrases.vocab)"
   ]
  },
  {
   "cell_type": "markdown",
   "metadata": {},
   "source": [
    "Il contient de nombreuses clés qui sont autant de termes observés dans le corpus"
   ]
  },
  {
   "cell_type": "code",
   "execution_count": 24,
   "metadata": {},
   "outputs": [
    {
     "data": {
      "text/plain": [
       "13333"
      ]
     },
     "execution_count": 24,
     "metadata": {},
     "output_type": "execute_result"
    }
   ],
   "source": [
    "len(bigram_phrases.vocab.keys())"
   ]
  },
  {
   "cell_type": "markdown",
   "metadata": {},
   "source": [
    "Prenons une clé au hasard :"
   ]
  },
  {
   "cell_type": "code",
   "execution_count": 25,
   "metadata": {},
   "outputs": [
    {
     "name": "stdout",
     "output_type": "stream",
     "text": [
      "u_b\n"
     ]
    }
   ],
   "source": [
    "key_ = list(bigram_phrases.vocab.keys())[144]\n",
    "print(key_)"
   ]
  },
  {
   "cell_type": "markdown",
   "metadata": {},
   "source": [
    "Le dictionnaire indique le score de cette coocurrence :"
   ]
  },
  {
   "cell_type": "code",
   "execution_count": 26,
   "metadata": {},
   "outputs": [
    {
     "data": {
      "text/plain": [
       "5015"
      ]
     },
     "execution_count": 26,
     "metadata": {},
     "output_type": "execute_result"
    }
   ],
   "source": [
    "bigram_phrases.vocab[key_]"
   ]
  },
  {
   "cell_type": "markdown",
   "metadata": {},
   "source": [
    "Lorsque l'instance de `Phrases` a été entraînée, elle peut concaténer les bigrams dans les phrases lorsque c'est pertinent."
   ]
  },
  {
   "cell_type": "markdown",
   "metadata": {},
   "source": [
    "### Conversion des `Phrases` en objet `Phraser`\n",
    "\n",
    "`Phraser` est un alias pour `gensim.models.phrases.FrozenPhrases`, voir ici https://radimrehurek.com/gensim/models/phrases.html.\n",
    "\n",
    "Le `Phraser` est une version *light* du `Phrases`, plus optimale pour transformer les phrases en concaténant les bigrams."
   ]
  },
  {
   "cell_type": "code",
   "execution_count": 27,
   "metadata": {},
   "outputs": [],
   "source": [
    "bigram_phraser = Phraser(phrases_model=bigram_phrases)"
   ]
  },
  {
   "cell_type": "markdown",
   "metadata": {},
   "source": [
    "Le `Phraser` est un objet qui convertit certains unigrams d'une liste en bigrams lorsqu'ils ont été identifiés comme pertinents."
   ]
  },
  {
   "cell_type": "markdown",
   "metadata": {},
   "source": [
    "### Extraction des trigrams"
   ]
  },
  {
   "cell_type": "markdown",
   "metadata": {},
   "source": [
    "Nous répétons l'opération en envoyant cette fois la liste de bigrams afin d'extraire les trigrams."
   ]
  },
  {
   "cell_type": "code",
   "execution_count": 28,
   "metadata": {},
   "outputs": [],
   "source": [
    "trigram_phrases = Phrases(bigram_phraser[sentences])"
   ]
  },
  {
   "cell_type": "code",
   "execution_count": 29,
   "metadata": {},
   "outputs": [],
   "source": [
    "trigram_phraser = Phraser(phrases_model=trigram_phrases)"
   ]
  },
  {
   "cell_type": "markdown",
   "metadata": {},
   "source": [
    "### Création d'un corpus d'unigrams, bigrams, trigrams"
   ]
  },
  {
   "cell_type": "code",
   "execution_count": 30,
   "metadata": {},
   "outputs": [],
   "source": [
    "corpus = list(trigram_phraser[bigram_phraser[sentences]])"
   ]
  },
  {
   "cell_type": "code",
   "execution_count": 31,
   "metadata": {},
   "outputs": [
    {
     "name": "stdout",
     "output_type": "stream",
     "text": [
      "['DEUXIEME ANNEE.', '- N. 130.', '20 centimes le numéro i - liflERCRfcDI 3 JUIN 1925, DRAPEAU téléphone .', ': Administration-Publicité . . ... . . ... ...., 16333 * Rédaction 163.33 » Rédaction {après 19 heures) 296.89 Adressa télégraphique : DRAPOUGE-BRUXELLEÔ Compte-chèques postaux ; n\" 122.595 Organe quotidien du Parti Communiste Beïge (S B I 57-5S Rue dea A»eaens, 57-59 BkO/ŒLLEL> *>, ABONNEMENTS : Belgique, 30 septembre 31 décent > Etranger.', '1 an .', \"i t'abonne dans tous tes, bureaux de punis.\", \"Les dettes belges envers les Etats-Unis Vers l'inflation et la main-mise américaine sur l'industrie belge Grâce aux formidables emprunts contractés aux Etats-Unis d'Amérique du- rant la guerre capitaliste de 1911 ct pondant les années suivant l'armistice, les banquiers américains .ont étendu la puissance de leur contrôle sur une grande partie des pays bourgeois d'Europe.\", \"L'expansion impérialiste des Etats- Unis s'opère silencieusement et* pacifiquement grâce au dollar.\", \"Le gouvernement américain, expression des financiers et des trustera millionnaires, use des moyens dc pression irrésistibles qu'il possède en détenant, u uf.re ses titres de créances à long terme, pour des centaines ct des centaines de initiions de dollars de créances à très 'courtes échéances, par exemple, des lions du Trésor.\", 'Aveo ces Bons du Trésor, les banquiers des Etats-Unis ct leurs ageuts financiers dans les divers pays tiennent los gouvernants capitalistes de ces pays à la gorge.', \"Ils peuveut, en effet, exiger à tout moment le remboursement d 'énormes quantités de ces valeurs, opération qui désorganiserait immédiatement les finances des Etats attaqués faisant dé- ïringoler leurs changes, troublerait profondément leur vie et leur politique.\", \"Ayant drainé à l'occasion de la guerre l'or du monde, en échange de fournitures laites moyennant gros bénéficos, les capitalistes d'Amérique ont développé ensuite leur politioue d'expansion et de- colonisation à l'aide.\", \"Je ce mémo or qu'ils prêtaient aux capitalistes ct aux gouvernements européens.\", \"La Belgique se trouve livrée, clic aussi, aux banquiers des Etats-Unis, qui exigent le règlement des intérêts et l'amortissement des vieilles dettes tic guerre et des milliards avancés au lendemain de l'armistice, en 1919, pour assurer les frais immédiats dc la restauration bourgeoise.\", 'Le montant de ces detti avec leurs intérêts accumulés dépassent actuellement neuf milliard.', '; ct demi do francs.', \"■Jusqu ici, le goûv<?jrtM?piëî>'t beîtfb n'u- vail pas prévu à son budget le remboursement de ces dettes.\", \"On espérait que l'Amérique n'en réclamerait qu'une partie, le reste étant mis à charge de l'Allemagne par le Truite,.\", 'de Versailles.', \"Les Etats-Unis n'ayant pas ratifié ce traité n'ont pas, en conséquence, accepté ce transfert dc leur créance... Les capacités de paiement do l'Allemagne ayant été fixées par le plan Dawes, en janvier 1925, quand il iallut procéder à la répartition des annuités, lu réduction de la dette allemande obligea les alliés à proposer de .nouveaux arrangements pour le règlement de la detto de guerro belge (près de sont milliards de francs-or).\", \"Les Experts alliés fixèrent d'abord la part revenant aux alliés pour remboursement de la dette de guerre belge : Iti p, c. à la France, 42 p. c. à l'Angleterre et 12 p. c. aux Etals-Unis.\", 'Les Anglais ayant proposé de réduire de.', \"moitié la dette belge et de l'amortir par un pi'é- l-'-vcuicut sur les versements île l'Allemagne en application du plan Dawes, prélèvement qui aurait été réparti outre 1rs créanciers de la Belgique ('franco.\", \"Angleterre, Etats-Unis) au prorata de leur créance, le délégué américain n'accepta pas cette proposition et déclara lue ia part des Etats-Unis ne représentant pas le montant de Ja somme prêtée par l'Amérique, il devait réserver sa décision.\", 'Lappelons que le montant île la dette ■ \\'lp guerre beige proprement dite euvers les Ftats-Unis est de 171,7 millions de dollars, plus les intérêts accumulés à •\"> p. c. qui étaient de 51,5 millions de dollars à fin 192*1, soit au total 22-3, 2 millions dc dollars.', \"La commission belge chargée, d'aller négocier les arrangements financiers nécessaires avec les Etats-Unis ne man- lucra pas d'exiger la réduction de moi- ■ié, su moins, do cette somme, en conformité du Plan Dawes.\", \"Mais il reste l'autre, partie de la dette intervenue de suite après l'armistice et jusqu'en 1919 et s'élevant, avec les intérêts accumulés, à plus de 202 millions de dollars... qu'il faut payer en totalité E t pans discussion.\", 'MM.', \"Theunis, Hautain et d'autres représentants des banques et du gouvernement belge s'embarqueront prochainement afin dc soumettre 'es propositions ds règlement- des dettes au gouvernement, et aux banquiers des Etats-Unis.\", 'Quelles seront ces propositions ?', \"Dans sa déclaration ministérielle, si démocratique ('.\", ').', \"le financier Vau do Vyvere, agent des banquiers des Etats- Unis, n'a rien dit à ce propos.\", 'Il faudra que son successeur, M. Poul- !', \"*-■*, au tout autre, s'explique clairement a ce sujet.\", \"U faut que les masses ouvriers et paysannes sachent exactement wmment le gouvernement démocratique ballot- Vandervelde -Francqui entend rendre ce problème des dettes améri- f ' a mes.\", 'Qui fera les frais da règlement ?', \"Déjà l'on assure que le ministre des ^naiices voudrait inscrire à son budget ( - c cette aimée, une somme destinée au ^•mboursement des.\", \"intérêts et à 1 amor- lSs ement d'une partie de la detto américain.\", 'Qcin^ ajouté au tas de millions \"■-vessaires pour payer les frais dc l\\'aug- \\'!\\'\"', \"n 'alion des traitements du personnel ' '■ -1 Etat et aux nombreux millions in¬ dispensables pour réaliser au moins quelques réformes sociales du programme gouvernemental, nous amène à plus d'u.t milliard de francs de dépenses nouvelles non prévues au budget belge.\", 'Où trouver pareilles sommes chaque année ?', 'Cette situation financière inextricable explique en partie les difficulté?', 'de -a formation du nouveau gouvernement et les tripotages des financiers et des banquiers mêlés à la crise politique qu ils espèrent exploiter au mieux de leurs intérêts personnels.', \"L'Etat bourgeois devra donc procéder à une nouvelle inflation, à une nouvelle émission de papier-monnaie pour faire: face aux dépenses accrues avec, com;: e conséquences, une nouvelle chute dc la valeur du franc et tout ce qui s'ensuit : vie chère, spéculations, expropriation c 1o s petits-bourgeois, augmentation tic la puissance des grandes banques...\", \"Et comment payer les millions de dollars d'amortissement annuel des dett s euvers les Etats-Unis?\", 'Evidemment, en achetant des dollars avee des francs.', 'U no manquera pas do grandes banques belges pour se disputer celte opération.', \"Ces banques soumises à l'uiiluenee américaine et agissant aux ordres de Mor- gan et* Cie, placeront, pour compte des financiers américains, ces francs dans des entreprises belges, elles exigeront du gouvernement, la cession totale ou pap tielle dc grands services publies qui.\", \"rapportent : téléphones; railways, etc.. Elles créeront, s'il le faut, clo nouvelles usines pour compte des Américains.\", \"Elles contraindront, grâce à la chute du iranc, les entreprises industrielles belges visées par les banquiers d'Amérique à augmenter leur capital social, qu'elles souscriront, de façon à les soumettre à leu;- cQntrûle .\", \"'t à celui du capital américain.\", 'Et ainsi 1..: tf&nsfert de lu ei-é-<nçe.', \"*OWté- ricaine sera réalisé et durant de longues années s'étendra l'emprise progressive de l'impérialisme américain derrière le dollar colonisai eur.\", \"Les masses ouvrières de Belgique connaîtront la double exploitai ion du capitalisme national et do l'impérialisme étranger.\", '■ - De cette menace, qui sera la réalieé do demain, lu soeiad-démOoratie est incapable de préserver les travailleurs.', \"Elle l'accepte, elle s'y' soumet.\", \"Seul, le parti communiste international appelle les masses exploitées .ei asservies à l'impérialisme à la lutte tncossa ta pour la défenso de leur?\", \"moyens d'ex's- tence et contre lu régime capitaliste et toutes ses conséquences.\", 'M \"\" Une conférence sur la question des dettes A LONDRES OU A NSW -YORK On mtuido de Washington que l\\'am- li.\"-*.', \"* ivlj'.u- de Belgique, M. Cartier de Marehie-mic s'embarquera lo 0 juin pour la, Belgique.\", 'Il c?t allé rendre visite lundi au président Ccoliflge.', \"D'autre pari:, suivant lo « Në-\\\\v-*York World » le président Co-olidgo serait l'inspirateur de .\", \"l'article publié par la.\", \"« Washington Post », dans lequel M. Hanrvcy, ancien ambassadeur des Etats- Unis à Londres, suggérait; la rétuu-:«n d'une conférence à Londres au sujet de la detto française envers les Etats-Unis ct la Grande-Bretagne.\", 'Mais la.', \"« Chicago Tribune » déclare que les membres de la.. Commission des dettes n'approuvent pas la suggestion émise par le colonel Hat-voy ou vue de la réunion d'un*-., conférence des dettes à Londres.\", \"Comment fut pendu le héros Friedmann MARCO FRIEDMANN EST MORT EN PROCLAMANT SON INNOCENCE L'exécution en place publique, à So(-, fia, des trois condamnés à mort Friad- mann, Koeff et Zadgorski, est un crime nouveau qui vient grossir ie dGssier sanglant du gouvernement Tsankoff.\", \"Aucune preuve de la participation de Friedminn à l'attentat de ia.cathéiralç r.'a pu être fou-nic.\", 'Mais il fallait a.bso- 1 jment incriminer le communisme* et la Hle Internationale, et le communiste Friedmann avait été .officier du génie.. Ça suffisait.', \"Dans un entretien avec uai journaliste italien, quelques heures avant l'exéeu-- tion, Friedmann a répété qu'il était innocent.\", \"■ Voici eoniment les journaux bourgeois dépeignent l'horrible scène de la pendaison .\", \"Des milliers d'hommes, de femmes et 'd'enfants se pressaienf'sur la place, où trois gibets avaient été dressés.\", 'Quelques minutes avant huit heures, un© automobile amena, les condamnés, entourés do soldats.', \"Us étaient habillés comme à l'ordinaire, mais sans cols, et leurs mains étaient lourdement chargées de chaînes.\", \"Friedmann et Za/lgorslri étaient' calmes, tandis que Koeff sc montrait agité.\", \"La, lecture de l'acte d'accusation et de la condamnation dura uno demi- heure.\", 'Friedmann souriait, taudis que les deux autres baissaient la tète.', 'Un.', \"officier demandant aux condamnés s'ils n'a.vaient rien à déclarer, Friedmann déclara qu'il était communiste, et mour- i irait en communiste, mais qu'il n'avait en rien participe l'attentat dc la cathédrale  Le sacristain répéta sou aveu.\", \"Koeff nia jusqu'au bout toute culpabilité ct . demanda à la feula de lo sauver.\", 'Finalement, il remit à un officier une lettre pour sa femme.', '. . A huit heures quarante arrivèrent trais tzigan ■;; nus-pieds et en haillons, qui avaient été engagés pour cent francs chacun.', \"Ils portèrent lea trois, eondant-j ne* l'un après Tautre à la table placée sous le gibet.\", \"Kcaff fut pendu le premier, l'ne cagoule blanche lui cacha le visage, la corde fut pla-cée autour dû son cou, puis la* table fut renversée.\", \"Une minute plus tard, son cadavre pendait... Fuis ce fut le tour 'ie Zadgorski et.\", 'enfin, celui de Friedmann.', \"qui avait du assister à l'exécution des deux autres...\", \"Le prolétariat intemationaj inscrira le nom de Friedmann, innocemment pendu par le bourreau Tsanfcoff, dans le livre d'or de là causç ouvrière.\", 'ENCORE DEUX MINISTRES DE STAMB0ULI5KI ASSASSINES On annonce un nouveau crime de Tsatikoff.', \"L 'ancien ministre des finances, Jancff et le président du Sobranié Poteff, qui avaient été condamnés à dix ans dc prison, viennent d être assassinés par leurs gardiens.\", \"Naturellement, comme pour Liebknecht, on affirme qu'ils ont tenté do fuir.\", '--O» *-— .', \"Un ouvrier noyé à Esneux (Do notre correspondant) On a repêché lundi, ver 3 1 heure do 1 après-mini, le cadavre de l'ouvrier Joseph Maréchal tombé dans l'Ourthe entre le l'ont et l'Ecluse depuis samedi soir.\", \"Chose inconcevable : parce qu'il s 'a,git d'un ouvrier, les autorités n'ont ■seulement fait des recherches que pendant quelques heures et sans guère ee gêner.\", \"U a fallu que le beau-père de la victime s'en occupât.\", 'Au bout de peu de temps, le corps do la victime fut ramené sur la berge et remis aux siens.', \"Il laisse une femme et deux enfants dont un fils qui a fini son terme militaire- S'il s'était agi d'un bourgeois, quelles n'auraient pas été les recherches diligentes et môme lis réquisitions!*!\", \"COOPERATIVE « SOCIALISTE » JAUNE — OOO LE SCANDALE du Palais de l'Industrie et du Travail à Charleroi On 60 souvient de la grève du Palais dc l'Industrie et du Travail à Charleroi, grève provoquée par lés administrateurs exploiteurs de cette coopérative* soi-disant socialiste qui n'est ni coopérative ni socialiste.\", \"Nous avons déjà mis en relief les diverses attitudes réactionnaires, dignes de fascistes, du citoyen Duibois et de ses acolytes du Conseil d'administration.\"]\n"
     ]
    }
   ],
   "source": [
    "print(corpus[:100])"
   ]
  },
  {
   "cell_type": "markdown",
   "metadata": {},
   "source": [
    "## Entrainement d'un modèle Word2Vec sur ce corpus"
   ]
  },
  {
   "cell_type": "code",
   "execution_count": 22,
   "metadata": {},
   "outputs": [
    {
     "name": "stdout",
     "output_type": "stream",
     "text": [
      "CPU times: total: 3.55 s\n",
      "Wall time: 6.47 s\n"
     ]
    }
   ],
   "source": [
    "%%time\n",
    "model = Word2Vec(\n",
    "    corpus, # On passe le corpus de ngrams que nous venons de créer\n",
    "    vector_size=32, # Le nombre de dimensions dans lesquelles le contexte des mots devra être réduit, aka. vector_size\n",
    "    window=5, # La taille du \"contexte\", ici 5 mots avant et après le mot observé\n",
    "    min_count=7, # On ignore les mots qui n'apparaissent pas au moins 7 fois dans le corpus\n",
    "    workers=3, # Permet de paralléliser l'entraînement du modèle en 4 threads\n",
    "    epochs=5 # Nombre d'itérations du réseau de neurones sur le jeu de données pour ajuster les paramètres avec la descente de gradient, aka. epochs.\n",
    ")"
   ]
  },
  {
   "cell_type": "markdown",
   "metadata": {},
   "source": [
    "#### Remarque\n",
    "\n",
    "Vous voyez ici que l'entrainement du modèle est parallélisé (sur 4 workers).\n",
    "\n",
    "Lors qu'on parallélise l'entrainement du modèle, 4 modèles \"séparés\" sont entrainés sur environ un quart des phrases.\n",
    "\n",
    "Ensuite, les résultats sont agrégés pour ne plus faire qu'un seul modèle.\n",
    "\n",
    "On ne peut prédire quel worker aura quelle phrase, car il y a des aléas lors de la parallélisation (p. ex. un worker qui serait plus lent, etc.).\n",
    "\n",
    "Du coup, les valeurs peuvent varier légèrement d'un entrainement à l'autre.\n",
    "\n",
    "Mais, globalement, les résultats restent cohérents."
   ]
  },
  {
   "cell_type": "markdown",
   "metadata": {},
   "source": [
    "### Sauver le modèle dans un fichier"
   ]
  },
  {
   "cell_type": "code",
   "execution_count": 24,
   "metadata": {},
   "outputs": [],
   "source": [
    "outfile = f\"../tp4/corpusdb.model\"\n",
    "model.save(outfile)"
   ]
  },
  {
   "cell_type": "markdown",
   "metadata": {},
   "source": [
    "## Explorer le modèle"
   ]
  },
  {
   "cell_type": "markdown",
   "metadata": {},
   "source": [
    "### Charger le modèle en mémoire"
   ]
  },
  {
   "cell_type": "code",
   "execution_count": 25,
   "metadata": {},
   "outputs": [],
   "source": [
    "model = Word2Vec.load(\"../tp4/corpusdb.model\")"
   ]
  },
  {
   "cell_type": "markdown",
   "metadata": {},
   "source": [
    "### Imprimer le vecteur d'un terme"
   ]
  },
  {
   "cell_type": "code",
   "execution_count": 27,
   "metadata": {},
   "outputs": [
    {
     "data": {
      "text/plain": [
       "array([-0.13188373, -0.6026362 ,  0.33602905,  2.333313  ,  0.21708763,\n",
       "        0.43139032,  0.04926314,  1.820423  ,  0.67257786,  1.4755898 ,\n",
       "       -0.44795865, -2.3396027 ,  0.54695386, -0.37319398, -1.8555108 ,\n",
       "        0.38626394, -1.310726  ,  0.7865423 , -0.6655431 ,  2.9735935 ,\n",
       "       -0.49011585, -0.00877105,  1.8593655 , -3.4466689 ,  3.039669  ,\n",
       "       -0.3737799 ,  1.617716  , -1.4171431 , -1.0412405 , -1.4924067 ,\n",
       "       -0.01603176, -0.4810704 ], dtype=float32)"
      ]
     },
     "execution_count": 27,
     "metadata": {},
     "output_type": "execute_result"
    }
   ],
   "source": [
    "model.wv[\"banque\"]"
   ]
  },
  {
   "cell_type": "code",
   "execution_count": 28,
   "metadata": {},
   "outputs": [
    {
     "data": {
      "text/plain": [
       "array([ 0.4951036 , -0.23177837, -1.0529529 ,  0.37591457, -0.24939391,\n",
       "       -1.6867355 , -0.26483667,  0.30665636, -0.79198337,  1.8225222 ,\n",
       "        0.32028905, -0.84671676,  0.20436318, -0.02616134, -0.00405181,\n",
       "       -0.05192585,  0.12048884,  0.400746  ,  1.1258572 ,  0.17232727,\n",
       "        0.7332141 ,  1.3255436 ,  1.4142447 , -0.5056767 ,  0.20474449,\n",
       "       -0.3070956 , -0.58283293, -0.8261282 ,  0.2706182 ,  0.43015268,\n",
       "       -0.05444039,  0.28174654], dtype=float32)"
      ]
     },
     "execution_count": 28,
     "metadata": {},
     "output_type": "execute_result"
    }
   ],
   "source": [
    "model.wv[\"etat\"]"
   ]
  },
  {
   "cell_type": "markdown",
   "metadata": {},
   "source": [
    "### Calculer la similarité entre deux termes"
   ]
  },
  {
   "cell_type": "code",
   "execution_count": 54,
   "metadata": {},
   "outputs": [
    {
     "data": {
      "text/plain": [
       "0.50232005"
      ]
     },
     "execution_count": 54,
     "metadata": {},
     "output_type": "execute_result"
    }
   ],
   "source": [
    "model.wv.similarity(\"cours\", \"obligations\")"
   ]
  },
  {
   "cell_type": "code",
   "execution_count": 57,
   "metadata": {},
   "outputs": [
    {
     "data": {
      "text/plain": [
       "0.6350837"
      ]
     },
     "execution_count": 57,
     "metadata": {},
     "output_type": "execute_result"
    }
   ],
   "source": [
    "model.wv.similarity(\"obligations\", \"obligation\")"
   ]
  },
  {
   "cell_type": "code",
   "execution_count": 60,
   "metadata": {},
   "outputs": [
    {
     "data": {
      "text/plain": [
       "0.84518313"
      ]
     },
     "execution_count": 60,
     "metadata": {},
     "output_type": "execute_result"
    }
   ],
   "source": [
    "model.wv.similarity(\"france\", \"belgique\")\n",
    "\n"
   ]
  },
  {
   "cell_type": "markdown",
   "metadata": {},
   "source": [
    "### Chercher les mots les plus proches d'un terme donné"
   ]
  },
  {
   "cell_type": "code",
   "execution_count": 61,
   "metadata": {},
   "outputs": [
    {
     "data": {
      "text/plain": [
       "[('bleu', 0.9553493857383728),\n",
       " ('rose', 0.9520599842071533),\n",
       " ('jaune', 0.9505562782287598),\n",
       " ('transvaal', 0.9497373700141907),\n",
       " ('renard', 0.9476518630981445)]"
      ]
     },
     "execution_count": 61,
     "metadata": {},
     "output_type": "execute_result"
    }
   ],
   "source": [
    "model.wv.most_similar(\"noir\", topn=5)"
   ]
  },
  {
   "cell_type": "code",
   "execution_count": 62,
   "metadata": {},
   "outputs": [
    {
     "data": {
      "text/plain": [
       "[('matin', 0.9528449773788452),\n",
       " ('siege', 0.9342163801193237),\n",
       " ('drame', 0.9251589179039001),\n",
       " ('courrier', 0.9147465229034424),\n",
       " ('roi', 0.9114739894866943)]"
      ]
     },
     "execution_count": 62,
     "metadata": {},
     "output_type": "execute_result"
    }
   ],
   "source": [
    "model.wv.most_similar(\"soir\", topn=5)"
   ]
  },
  {
   "cell_type": "code",
   "execution_count": 63,
   "metadata": {},
   "outputs": [
    {
     "data": {
      "text/plain": [
       "[('jouissance', 0.842002809047699),\n",
       " ('actions_privilegiees', 0.840703010559082),\n",
       " ('depots', 0.8149512410163879),\n",
       " ('obligations', 0.8100811839103699),\n",
       " ('liberees', 0.806624174118042)]"
      ]
     },
     "execution_count": 63,
     "metadata": {},
     "output_type": "execute_result"
    }
   ],
   "source": [
    "model.wv.most_similar(\"actions\", topn=5)"
   ]
  },
  {
   "cell_type": "code",
   "execution_count": 64,
   "metadata": {},
   "outputs": [
    {
     "data": {
      "text/plain": [
       "[('coupable', 0.956748902797699),\n",
       " ('veuve', 0.9566851854324341),\n",
       " ('la_danse', 0.9558706879615784),\n",
       " ('la_princesse', 0.9555102586746216),\n",
       " ('pare', 0.9547945857048035)]"
      ]
     },
     "execution_count": 64,
     "metadata": {},
     "output_type": "execute_result"
    }
   ],
   "source": [
    "model.wv.most_similar(\"reine\", topn=5)"
   ]
  },
  {
   "cell_type": "code",
   "execution_count": 65,
   "metadata": {},
   "outputs": [
    {
     "data": {
      "text/plain": [
       "[('le_roi', 0.9521457552909851),\n",
       " ('seul', 0.9495663046836853),\n",
       " ('assure', 0.9463509321212769),\n",
       " ('aussitot', 0.9461931586265564),\n",
       " ('grave', 0.9457772374153137)]"
      ]
     },
     "execution_count": 65,
     "metadata": {},
     "output_type": "execute_result"
    }
   ],
   "source": [
    "model.wv.most_similar(\"homme\", topn=5)"
   ]
  },
  {
   "cell_type": "code",
   "execution_count": 68,
   "metadata": {},
   "outputs": [
    {
     "data": {
      "text/plain": [
       "[('chemin', 0.7993881702423096),\n",
       " ('du_congo', 0.7872655391693115),\n",
       " ('des_chemins', 0.778247058391571),\n",
       " ('du_chemin', 0.7752842307090759),\n",
       " ('charleroi', 0.7616026401519775)]"
      ]
     },
     "execution_count": 68,
     "metadata": {},
     "output_type": "execute_result"
    }
   ],
   "source": [
    "model.wv.most_similar(\"fer\", topn=5)"
   ]
  },
  {
   "cell_type": "code",
   "execution_count": 77,
   "metadata": {},
   "outputs": [
    {
     "data": {
      "text/plain": [
       "[('plus_belles', 0.9268314242362976),\n",
       " ('moindres', 0.9179300665855408),\n",
       " ('cours_actuels', 0.9111868143081665),\n",
       " ('yeux', 0.9066286087036133),\n",
       " ('incidents', 0.9065471887588501)]"
      ]
     },
     "execution_count": 77,
     "metadata": {},
     "output_type": "execute_result"
    }
   ],
   "source": [
    "model.wv.most_similar(\"esclaves\", topn=5)"
   ]
  },
  {
   "cell_type": "markdown",
   "metadata": {},
   "source": [
    "### Faire des recherches complexes à travers l'espace vectoriel"
   ]
  },
  {
   "cell_type": "code",
   "execution_count": 78,
   "metadata": {},
   "outputs": [
    {
     "name": "stdout",
     "output_type": "stream",
     "text": [
      "[('nouvelles', 0.8084534406661987), ('ont_ete', 0.7788301110267639), ('sieges', 0.7756906747817993), ('livres', 0.7710818648338318), ('cinq', 0.7646100521087646), ('quatre', 0.762945830821991), ('diverses', 0.7597044110298157), ('divers', 0.7593969106674194), ('au_lieu', 0.7544440031051636), ('effets', 0.7464857697486877)]\n"
     ]
    }
   ],
   "source": [
    "print(model.wv.most_similar(positive=['actions', 'titres'], negative=['belge']))"
   ]
  },
  {
   "cell_type": "code",
   "execution_count": 79,
   "metadata": {},
   "outputs": [
    {
     "name": "stdout",
     "output_type": "stream",
     "text": [
      "[('distingues', 0.7993931174278259), ('mites', 0.7957741022109985), ('remarquables', 0.7790096402168274), ('mines_aljustrel', 0.771826446056366), ('chauffeurs', 0.7674798965454102), ('revolutionnaires', 0.7655134797096252), ('sont_soutenues', 0.7652339935302734), ('esclaves', 0.7636707425117493), ('dieux', 0.7617565393447876), ('parmi_les_exceptions', 0.758766770362854)]\n"
     ]
    }
   ],
   "source": [
    "print(model.wv.most_similar(positive=['congo', 'affaires'], negative=['belge']))"
   ]
  },
  {
   "cell_type": "code",
   "execution_count": 50,
   "metadata": {},
   "outputs": [
    {
     "name": "stdout",
     "output_type": "stream",
     "text": [
      "[('oct', 0.854617714881897), ('danube', 0.8488488793373108), ('mara', 0.8435136675834656), ('plau', 0.830959677696228), ('cmb', 0.8236958384513855), ('emb', 0.8222048878669739), ('livr', 0.8221510648727417), ('bombay', 0.8182555437088013), ('lin_am', 0.8067922592163086), ('allem', 0.8059899806976318)]\n"
     ]
    }
   ],
   "source": [
    "print(model.wv.most_similar(positive=['noir', 'blanc'], negative=['couleur']))"
   ]
  },
  {
   "cell_type": "code",
   "execution_count": 52,
   "metadata": {},
   "outputs": [
    {
     "name": "stdout",
     "output_type": "stream",
     "text": [
      "[('comte', 0.8907211422920227), ('cliateau', 0.8722466230392456), ('bralne', 0.8714914917945862), ('trio', 0.8680735230445862), ('poussin', 0.858370840549469), ('sacre', 0.8534082770347595), ('mot', 0.8528465628623962), ('sourire', 0.851472020149231), ('drole', 0.8499080538749695), ('ajouta', 0.8454453349113464)]\n"
     ]
    }
   ],
   "source": [
    "print(model.wv.most_similar(positive=['banquier', 'metier'], negative=['communication']))"
   ]
  }
 ],
 "metadata": {
  "kernelspec": {
   "display_name": "Python 3.10.7 ('tac_venv': venv)",
   "language": "python",
   "name": "python3"
  },
  "language_info": {
   "codemirror_mode": {
    "name": "ipython",
    "version": 3
   },
   "file_extension": ".py",
   "mimetype": "text/x-python",
   "name": "python",
   "nbconvert_exporter": "python",
   "pygments_lexer": "ipython3",
   "version": "3.10.7"
  },
  "vscode": {
   "interpreter": {
    "hash": "1371f28b61a57566aca84f831e458ad1b8215d81e6228e59fe3401f9a480bc22"
   }
  }
 },
 "nbformat": 4,
 "nbformat_minor": 4
}
