{
 "cells": [
  {
   "cell_type": "markdown",
   "metadata": {},
   "source": [
    "# Segmentation en phrases"
   ]
  },
  {
   "cell_type": "markdown",
   "metadata": {},
   "source": [
    "## Imports"
   ]
  },
  {
   "cell_type": "code",
   "execution_count": 1,
   "metadata": {},
   "outputs": [],
   "source": [
    "import os\n",
    "import sys\n",
    "import nltk\n",
    "from nltk.tokenize import sent_tokenize"
   ]
  },
  {
   "cell_type": "code",
   "execution_count": 2,
   "metadata": {},
   "outputs": [],
   "source": [
    "import sys\n",
    "import nltk\n",
    "from nltk.tokenize import sent_tokenize"
   ]
  },
  {
   "cell_type": "markdown",
   "metadata": {},
   "source": [
    "## Fichiers d'inputs et d'outputs"
   ]
  },
  {
   "cell_type": "code",
   "execution_count": 3,
   "metadata": {},
   "outputs": [],
   "source": [
    "infile = \"../tp4/corpus.txt\"\n",
    "outfile = \"../tp4/corpustp4.txt\""
   ]
  },
  {
   "cell_type": "markdown",
   "metadata": {},
   "source": [
    "## Segmentation en phrases du corpus complet et création d'un nouveau fichier"
   ]
  },
  {
   "cell_type": "markdown",
   "metadata": {},
   "source": [
    "**Important** : pour traiter le corpus complet, indiquez `LIMIT = None`"
   ]
  },
  {
   "cell_type": "code",
   "execution_count": 4,
   "metadata": {},
   "outputs": [],
   "source": [
    "LIMIT = None"
   ]
  },
  {
   "cell_type": "code",
   "execution_count": 5,
   "metadata": {
    "tags": []
   },
   "outputs": [
    {
     "name": "stdout",
     "output_type": "stream",
     "text": [
      "processing line 0/1\n",
      "Done\n"
     ]
    }
   ],
   "source": [
    "with open(outfile, 'w', encoding=\"utf-8\") as output:\n",
    "    with open(infile, encoding=\"utf-8\", errors=\"backslashreplace\") as f:\n",
    "        content = f.readlines()\n",
    "        content = content[:LIMIT] if LIMIT is not None else content\n",
    "        n_lines = len(content)\n",
    "        for i, line in enumerate(content):\n",
    "            if i % 100 == 0:\n",
    "                print(f'processing line {i}/{n_lines}')\n",
    "            sentences = sent_tokenize(line)\n",
    "            for sent in sentences:\n",
    "                output.write(sent + \"\\n\")\n",
    "print(\"Done\")"
   ]
  },
  {
   "cell_type": "markdown",
   "metadata": {},
   "source": [
    "# Word Embeddings : le modèle Word2Vec"
   ]
  },
  {
   "cell_type": "markdown",
   "metadata": {},
   "source": [
    "## Imports"
   ]
  },
  {
   "cell_type": "code",
   "execution_count": 6,
   "metadata": {},
   "outputs": [],
   "source": [
    "import sys\n",
    "\n",
    "from gensim.models.phrases import Phrases, Phraser\n",
    "from gensim.models import Word2Vec\n",
    "\n",
    "import nltk\n",
    "from nltk.tokenize import wordpunct_tokenize\n",
    "from unidecode import unidecode"
   ]
  },
  {
   "cell_type": "markdown",
   "metadata": {},
   "source": [
    "## Chargement et traitement des phrases du corpus"
   ]
  },
  {
   "cell_type": "markdown",
   "metadata": {},
   "source": [
    "### Création d'un objet qui *streame* les lignes d'un fichier pour économiser de la RAM"
   ]
  },
  {
   "cell_type": "code",
   "execution_count": 10,
   "metadata": {},
   "outputs": [],
   "source": [
    "class MySentences(object):\n",
    "    \"\"\"Tokenize and Lemmatize sentences\"\"\"\n",
    "    def __init__(self, filename):\n",
    "        self.filename = filename\n",
    "\n",
    "    def __iter__(self):\n",
    "        for line in open(self.filename, encoding='utf-8', errors=\"backslashreplace\"):\n",
    "            yield [unidecode(w.lower()) for w in wordpunct_tokenize(line)]"
   ]
  },
  {
   "cell_type": "code",
   "execution_count": 11,
   "metadata": {},
   "outputs": [],
   "source": [
    "infile = f\"../tp4/corpustp4.txt\"\n",
    "sentences = MySentences(infile)"
   ]
  },
  {
   "cell_type": "markdown",
   "metadata": {},
   "source": [
    "### Détection des bigrams\n",
    "\n",
    "Article intéressant sur le sujet : https://towardsdatascience.com/word2vec-for-phrases-learning-embeddings-for-more-than-one-word-727b6cf723cf"
   ]
  },
  {
   "cell_type": "code",
   "execution_count": 12,
   "metadata": {},
   "outputs": [],
   "source": [
    "bigram_phrases = Phrases(sentences)"
   ]
  },
  {
   "cell_type": "markdown",
   "metadata": {},
   "source": [
    "L'object `phrases` peut être vu comme un large dictionnaire d'expressions multi-mots associées à un score, le *PMI-like scoring*. Ce dictionnaire est construit par un apprentissage sur base d'exemples.\n",
    "Voir les références ci-dessous :\n",
    "- https://arxiv.org/abs/1310.4546\n",
    "- https://en.wikipedia.org/wiki/Pointwise_mutual_information"
   ]
  },
  {
   "cell_type": "code",
   "execution_count": 13,
   "metadata": {},
   "outputs": [
    {
     "data": {
      "text/plain": [
       "dict"
      ]
     },
     "execution_count": 13,
     "metadata": {},
     "output_type": "execute_result"
    }
   ],
   "source": [
    "type(bigram_phrases.vocab)"
   ]
  },
  {
   "cell_type": "markdown",
   "metadata": {},
   "source": [
    "Il contient de nombreuses clés qui sont autant de termes observés dans le corpus"
   ]
  },
  {
   "cell_type": "code",
   "execution_count": 14,
   "metadata": {},
   "outputs": [
    {
     "data": {
      "text/plain": [
       "953417"
      ]
     },
     "execution_count": 14,
     "metadata": {},
     "output_type": "execute_result"
    }
   ],
   "source": [
    "len(bigram_phrases.vocab.keys())"
   ]
  },
  {
   "cell_type": "markdown",
   "metadata": {},
   "source": [
    "Prenons une clé au hasard :"
   ]
  },
  {
   "cell_type": "code",
   "execution_count": 15,
   "metadata": {},
   "outputs": [
    {
     "name": "stdout",
     "output_type": "stream",
     "text": [
      "59_bko\n"
     ]
    }
   ],
   "source": [
    "key_ = list(bigram_phrases.vocab.keys())[144]\n",
    "print(key_)"
   ]
  },
  {
   "cell_type": "markdown",
   "metadata": {},
   "source": [
    "Le dictionnaire indique le score de cette coocurrence :"
   ]
  },
  {
   "cell_type": "code",
   "execution_count": 16,
   "metadata": {},
   "outputs": [
    {
     "data": {
      "text/plain": [
       "1"
      ]
     },
     "execution_count": 16,
     "metadata": {},
     "output_type": "execute_result"
    }
   ],
   "source": [
    "bigram_phrases.vocab[key_]"
   ]
  },
  {
   "cell_type": "markdown",
   "metadata": {},
   "source": [
    "Lorsque l'instance de `Phrases` a été entraînée, elle peut concaténer les bigrams dans les phrases lorsque c'est pertinent."
   ]
  },
  {
   "cell_type": "markdown",
   "metadata": {},
   "source": [
    "### Conversion des `Phrases` en objet `Phraser`\n",
    "\n",
    "`Phraser` est un alias pour `gensim.models.phrases.FrozenPhrases`, voir ici https://radimrehurek.com/gensim/models/phrases.html.\n",
    "\n",
    "Le `Phraser` est une version *light* du `Phrases`, plus optimale pour transformer les phrases en concaténant les bigrams."
   ]
  },
  {
   "cell_type": "code",
   "execution_count": 17,
   "metadata": {},
   "outputs": [],
   "source": [
    "bigram_phraser = Phraser(phrases_model=bigram_phrases)"
   ]
  },
  {
   "cell_type": "markdown",
   "metadata": {},
   "source": [
    "Le `Phraser` est un objet qui convertit certains unigrams d'une liste en bigrams lorsqu'ils ont été identifiés comme pertinents."
   ]
  },
  {
   "cell_type": "markdown",
   "metadata": {},
   "source": [
    "### Extraction des trigrams"
   ]
  },
  {
   "cell_type": "markdown",
   "metadata": {},
   "source": [
    "Nous répétons l'opération en envoyant cette fois la liste de bigrams afin d'extraire les trigrams."
   ]
  },
  {
   "cell_type": "code",
   "execution_count": 18,
   "metadata": {},
   "outputs": [],
   "source": [
    "trigram_phrases = Phrases(bigram_phraser[sentences])"
   ]
  },
  {
   "cell_type": "code",
   "execution_count": 19,
   "metadata": {},
   "outputs": [],
   "source": [
    "trigram_phraser = Phraser(phrases_model=trigram_phrases)"
   ]
  },
  {
   "cell_type": "markdown",
   "metadata": {},
   "source": [
    "### Création d'un corpus d'unigrams, bigrams, trigrams"
   ]
  },
  {
   "cell_type": "code",
   "execution_count": 20,
   "metadata": {},
   "outputs": [],
   "source": [
    "corpus = list(trigram_phraser[bigram_phraser[sentences]])"
   ]
  },
  {
   "cell_type": "code",
   "execution_count": 21,
   "metadata": {},
   "outputs": [
    {
     "name": "stdout",
     "output_type": "stream",
     "text": [
      "[['deuxieme', 'annee', '.'], ['-', 'n', '.', '130', '.'], ['20_centimes', 'le_numero', 'i', '-', 'liflercrfcdi', '3', 'juin', '1925', ',', 'drapeau', 'telephone', '.'], [':', 'administration', '-', 'publicite', '.', '.', '...', '.', '.', '...', '....,', '16333', '*', 'redaction', '163', '.', '33', '>>', 'redaction', '{', 'apres', '19', 'heures', ')', '296', '.', '89', 'adressa', 'telegraphique', ':', 'drapouge', '-', 'bruxelleo', 'compte', '-', 'cheques_postaux', ';', 'n', '\"', '122', '.', '595', 'organe', 'quotidien', 'du_parti', 'communiste', 'beige', '(', 's', 'b', 'i', '57', '-', '5s', 'rue_dea', 'a', '>>', 'eaens', ',', '57', '-', '59', 'bko', '/', 'oellel', '>', '*>,', 'abonnements', ':', 'belgique', ',', '30_septembre', '31', 'decent', '>', 'etranger', '.'], ['1', 'an', '.'], ['i', 't', \"'\", 'abonne_dans', 'tous_tes', ',', 'bureaux', 'de', 'punis', '.'], ['les', 'dettes_belges', 'envers_les', 'etats_-_unis', 'vers', \"l_'_inflation\", 'et', 'la_main', '-', 'mise', 'americaine', 'sur', \"l_'_industrie\", 'belge', 'grace_aux', 'formidables', 'emprunts', 'contractes', 'aux_etats_-_unis', \"d_'_amerique\", 'du', '-', 'rant', 'la_guerre', 'capitaliste', 'de', '1911', 'ct', 'pondant', 'les', 'annees', 'suivant', \"l_'_armistice\", ',', 'les_banquiers', 'americains', '.', 'ont', 'etendu', 'la_puissance', 'de', 'leur', 'controle', 'sur', 'une_grande', 'partie', 'des', 'pays', 'bourgeois', \"d_'_europe\", '.'], [\"l_'_expansion\", 'imperialiste', 'des', 'etats_-_unis', \"s_'\", 'opere', 'silencieusement', 'et', '*', 'pacifiquement', 'grace_au', 'dollar', '.'], ['le_gouvernement', 'americain', ',', 'expression', 'des', 'financiers', 'et', 'des', 'trustera', 'millionnaires', ',', 'use', 'des', 'moyens', 'dc', 'pression', 'irresistibles', \"qu_'_il\", 'possede', 'en', 'detenant', ',', 'u', 'uf', '.', 're', 'ses', 'titres', 'de', 'creances', 'a', 'long_terme', ',', 'pour', 'des_centaines', 'ct', 'des_centaines', 'de', 'initiions', 'de', 'dollars', 'de', 'creances', 'a', 'tres', \"'\", 'courtes', 'echeances', ',', 'par_exemple', ',', 'des', 'lions', 'du_tresor', '.'], ['aveo', 'ces_bons', 'du_tresor', ',', 'les_banquiers', 'des', 'etats_-_unis', 'ct', 'leurs', 'ageuts', 'financiers', 'dans', 'les', 'divers_pays', 'tiennent', 'los', 'gouvernants', 'capitalistes', 'de', 'ces', 'pays', 'a', 'la', 'gorge', '.'], ['ils', 'peuveut', ',', 'en_effet', ',', 'exiger', 'a', 'tout', 'moment', 'le_remboursement', \"d_'_enormes\", 'quantites', 'de', 'ces_valeurs', ',', 'operation', 'qui', 'desorganiserait', 'immediatement', 'les', 'finances', 'des', 'etats', 'attaques', 'faisant', 'de', '-', 'iringoler', 'leurs', 'changes', ',', 'troublerait', 'profondement', 'leur_vie', 'et', 'leur', 'politique', '.'], ['ayant', 'draine', 'a', \"l_'_occasion\", 'de', 'la_guerre', \"l_'\", 'or', 'du_monde', ',', 'en', 'echange', 'de', 'fournitures', 'laites', 'moyennant', 'gros', 'beneficos', ',', 'les_capitalistes', \"d_'_amerique\", 'ont', 'developpe', 'ensuite', 'leur', 'politioue', \"d_'\", 'expansion', 'et', 'de', '-', 'colonisation', 'a', \"l_'_aide\", '.'], ['je', 'ce', 'memo', 'or', \"qu_'_ils\", 'pretaient', 'aux', 'capitalistes', 'ct', 'aux', 'gouvernements', 'europeens', '.'], ['la_belgique', 'se_trouve', 'livree', ',', 'clic', 'aussi', ',', 'aux', 'banquiers', 'des', 'etats_-_unis', ',', 'qui', 'exigent', 'le_reglement', 'des_interets', 'et', \"l_'_amortissement\", 'des', 'vieilles', 'dettes', 'tic', 'guerre', 'et', 'des', 'milliards', 'avances', 'au_lendemain', 'de', \"l_'_armistice\", ',', 'en', '1919', ',', 'pour_assurer', 'les_frais', 'immediats', 'dc', 'la_restauration', 'bourgeoise', '.'], ['le_montant', 'de', 'ces', 'detti', 'avec', 'leurs', 'interets', 'accumules', 'depassent', 'actuellement', 'neuf', 'milliard', '.'], [';', 'ct', 'demi', 'do', 'francs', '.'], ['#', 'jusqu', 'ici', ',', 'le', 'gouv', '<?', 'jrtm', '?', 'piei', \">'\", 't', 'beitfb', \"n_'\", 'u', '-', 'vail', 'pas', 'prevu', 'a', 'son_budget', 'le_remboursement', 'de', 'ces', 'dettes', '.'], ['on', 'esperait', 'que', \"l_'_amerique\", \"n_'\", 'en', 'reclamerait', \"qu_'\", 'une_partie', ',', 'le', 'reste', 'etant', 'mis', 'a', 'charge', 'de', \"l_'_allemagne\", 'par', 'le', 'truite', ',.'], ['de', 'versailles', '.'], ['les', 'etats_-_unis', \"n_'\", 'ayant_pas', 'ratifie', 'ce', 'traite', \"n_'\", 'ont_pas', ',', 'en_consequence', ',', 'accepte', 'ce', 'transfert', 'dc', 'leur', 'creance', '...', 'les', 'capacites', 'de', 'paiement', 'do', \"l_'_allemagne\", 'ayant_ete', 'fixees_par', 'le', 'plan_dawes', ',', 'en', 'janvier_1925', ',', 'quand_il', 'iallut', 'proceder_a', 'la_repartition', 'des', 'annuites', ',', 'lu', 'reduction', 'de_la_dette', 'allemande', 'obligea', 'les', 'allies', 'a', 'proposer', 'de', '.', 'nouveaux', 'arrangements', 'pour_le_reglement', 'de', 'la', 'detto', 'de', 'guerro', 'belge', '(', 'pres', 'de', 'sont', 'milliards', 'de', 'francs', '-', 'or', ').'], ['les_experts', 'allies', 'fixerent', \"d_'_abord\", 'la', 'part', 'revenant', 'aux', 'allies', 'pour', 'remboursement', 'de_la_dette', 'de', 'guerre', 'belge', ':', 'iti', 'p', ',', 'c', '.', 'a', 'la_france', ',', '42', 'p', '.', 'c', '.', 'a', \"l_'_angleterre\", 'et', '12', 'p', '.', 'c', '.', 'aux', 'etals_-_unis', '.'], ['les', 'anglais', 'ayant', 'propose', 'de', 'reduire', 'de', '.'], ['moitie', 'la_dette', 'belge', 'et', 'de', \"l_'\", 'amortir', 'par', 'un', 'pi', \"'\", 'e', '-', 'l', \"-'-\", 'vcuicut', 'sur', 'les_versements', 'ile', \"l_'_allemagne\", 'en', 'application_du_plan', 'dawes', ',', 'prelevement', 'qui', 'aurait_ete', 'reparti', 'outre', '1rs', 'creanciers', 'de', 'la_belgique', \"('\", 'franco', '.'], ['angleterre', ',', 'etats_-_unis', ')', 'au', 'prorata', 'de', 'leur', 'creance', ',', 'le', 'delegue', 'americain', \"n_'\", 'accepta', 'pas', 'cette_proposition', 'et', 'declara', 'lue', 'ia', 'part', 'des', 'etats_-_unis', 'ne', 'representant', 'pas', 'le_montant', 'de', 'ja', 'somme', 'pretee', 'par', \"l_'_amerique\", ',', 'il_devait', 'reserver', 'sa_decision', '.'], ['lappelons', 'que', 'le_montant', 'ile', 'la_dette', '#', \"'\", 'lp', 'guerre', 'beige', 'proprement_dite', 'euvers', 'les', 'ftats', '-_unis', 'est', 'de', '171', ',', '7', 'millions', 'de', 'dollars', ',', 'plus', 'les_interets', 'accumules', 'a', '*\">', 'p', '.', 'c', '.', 'qui', 'etaient', 'de', '51', ',', '5', 'millions', 'de', 'dollars', 'a', 'fin', '192', '*', '1', ',', 'soit', 'au_total', '22', '-', '3', ',', '2', 'millions', 'dc', 'dollars', '.'], ['la_commission', 'belge', 'chargee', ',', \"d_'_aller\", 'negocier', 'les', 'arrangements', 'financiers', 'necessaires', 'avec', 'les', 'etats_-_unis', 'ne', 'man', '-', 'lucra', 'pas', \"d_'_exiger\", 'la_reduction', 'de', 'moi', '-', '#', 'ie', ',', 'su', 'moins', ',', 'do', 'cette_somme', ',', 'en_conformite', 'du_plan_dawes', '.'], ['mais', 'il_reste', \"l_'_autre\", ',', 'partie', 'de_la_dette', 'intervenue', 'de', 'suite', 'apres', \"l_'_armistice\", 'et', \"jusqu_'_en\", '1919', 'et', \"s_'\", 'elevant', ',', 'avec', 'les_interets', 'accumules', ',', 'a', 'plus', 'de', '202', 'millions', 'de', 'dollars', '...', \"qu_'_il_faut\", 'payer', 'en_totalite', 'e', 't', 'pans', 'discussion', '.'], ['mm', '.'], ['theunis', ',', 'hautain', 'et', \"d_'_autres\", 'representants', 'des', 'banques', 'et', 'du_gouvernement', 'belge', \"s_'\", 'embarqueront', 'prochainement', 'afin', 'dc', 'soumettre', \"'\", 'es', 'propositions', 'ds', 'reglement', '-', 'des_dettes', 'au_gouvernement', ',', 'et', 'aux', 'banquiers', 'des', 'etats_-_unis', '.'], ['quelles', 'seront', 'ces_propositions', '?'], ['dans', 'sa', 'declaration_ministerielle', ',', 'si', 'democratique', \"('.\"], [').'], ['le', 'financier', 'vau', 'do', 'vyvere', ',', 'agent', 'des', 'banquiers', 'des', 'etats_-_unis', ',', \"n_'\", 'a', 'rien', 'dit', 'a', 'ce_propos', '.'], ['il_faudra', 'que', 'son', 'successeur', ',', 'm', '.', 'poul', '-', '!'], ['*-#*,', 'au', 'tout_autre', ',', \"s_'\", 'explique', 'clairement', 'a_ce_sujet', '.'], ['u_faut', 'que', 'les', 'masses', 'ouvriers', 'et', 'paysannes', 'sachent', 'exactement', 'wmment', 'le_gouvernement', 'democratique', 'ballot', '-', 'vandervelde', '-', 'francqui', 'entend', 'rendre', 'ce', 'probleme', 'des_dettes', 'ameri', '-', 'f', \"'\", 'a', 'mes', '.'], ['qui', 'fera', 'les_frais', 'da', 'reglement', '?'], ['deja', \"l_'\", 'on_assure', 'que', 'le_ministre', 'des', '^', 'naiices', 'voudrait', 'inscrire', 'a', 'son_budget', '(', '-', 'c', 'cette', 'aimee', ',', 'une_somme', 'destinee', 'au', '^*', 'mboursement', 'des', '.'], ['interets', 'et', 'a', '1', 'amor', '-', 'lss', 'ement', \"d_'_une_partie\", 'de', 'la', 'detto', 'americain', '.'], ['qcin', '^', 'ajoute', 'au', 'tas', 'de', 'millions', '\"#-', 'vessaires', 'pour', 'payer', 'les_frais', 'dc', \"l_'\", 'aug', '-', '\\'!\\'\"'], [\"n_'\", 'alion', 'des_traitements', 'du_personnel', \"'\", \"'#\", '-', '1', 'etat', 'et', 'aux', 'nombreux', 'millions', 'in', '!', 'dispensables', 'pour', 'realiser', 'au_moins', 'quelques', 'reformes', 'sociales', 'du', 'programme', 'gouvernemental', ',', 'nous', 'amene', 'a', 'plus', \"d_'\", 'u', '.', 't', 'milliard', 'de', 'francs', 'de', 'depenses', 'nouvelles', 'non', 'prevues', 'au_budget', 'belge', '.'], ['ou', 'trouver', 'pareilles', 'sommes', 'chaque_annee', '?'], ['cette_situation', 'financiere', 'inextricable', 'explique', 'en', 'partie', 'les', 'difficulte', '?'], ['de', '-', 'a', 'formation', 'du', 'nouveau_gouvernement', 'et', 'les', 'tripotages', 'des', 'financiers', 'et', 'des', 'banquiers', 'meles', 'a', 'la_crise', 'politique', 'qu', 'ils', 'esperent', 'exploiter', 'au', 'mieux', 'de', 'leurs', 'interets', 'personnels', '.'], [\"l_'_etat\", 'bourgeois', 'devra', 'donc', 'proceder_a', 'une_nouvelle', 'inflation', ',', 'a', 'une_nouvelle', 'emission', 'de', 'papier', '-', 'monnaie', 'pour_faire', ':', 'face_aux', 'depenses', 'accrues', 'avec', ',', 'com', ';:', 'e', 'consequences', ',', 'une_nouvelle', 'chute', 'dc', 'la_valeur', 'du_franc', 'et', 'tout', 'ce_qui', \"s_'\", 'ensuit', ':', 'vie_chere', ',', 'speculations', ',', 'expropriation', 'c', '1o', 's', 'petits', '-', 'bourgeois', ',', 'augmentation', 'tic', 'la_puissance', 'des', 'grandes_banques', '...'], ['et', 'comment', 'payer', 'les', 'millions', 'de', 'dollars', \"d_'_amortissement\", 'annuel', 'des', 'dett', 's', 'euvers', 'les', 'etats_-_unis', '?'], ['evidemment', ',', 'en', 'achetant', 'des', 'dollars', 'avee', 'des', 'francs', '.'], ['u', 'no', 'manquera', 'pas', 'do', 'grandes_banques', 'belges', 'pour', 'se', 'disputer', 'celte', 'operation', '.'], ['ces', 'banques', 'soumises', 'a', \"l_'\", 'uiiluenee', 'americaine', 'et', 'agissant', 'aux', 'ordres', 'de', 'mor', '-', 'gan', 'et', '*', 'cie', ',', 'placeront', ',', 'pour', 'compte', 'des', 'financiers', 'americains', ',', 'ces', 'francs', 'dans', 'des', 'entreprises', 'belges', ',', 'elles', 'exigeront', 'du_gouvernement', ',', 'la', 'cession', 'totale', 'ou', 'pap', 'tielle', 'dc', 'grands', 'services', 'publies', 'qui', '.'], ['rapportent', ':', 'telephones', ';', 'railways', ',', 'etc', '..', 'elles', 'creeront', ',', \"s_'\", 'il', 'le', 'faut', ',', 'clo', 'nouvelles', 'usines', 'pour', 'compte', 'des', 'americains', '.'], ['elles', 'contraindront', ',', 'grace_a', 'la_chute', 'du', 'iranc', ',', 'les', 'entreprises_industrielles', 'belges', 'visees', 'par', 'les_banquiers', \"d_'_amerique\", 'a', 'augmenter', 'leur', 'capital_social', ',', \"qu_'_elles\", 'souscriront', ',', 'de', 'facon', 'a', 'les', 'soumettre', 'a', 'leu', ';-', 'cqntrule', '.'], [\"'\", 't', 'a', 'celui', 'du_capital', 'americain', '.'], ['et', 'ainsi', '1', '..:', 'tf', '&', 'nsfert', 'de', 'lu', 'ei', '-', 'e', '-<', 'nce', '.'], ['*', 'owte', '-', 'ricaine', 'sera', 'realise', 'et', 'durant', 'de', 'longues_annees', \"s_'\", 'etendra', \"l_'\", 'emprise', 'progressive', 'de', \"l_'_imperialisme\", 'americain', 'derriere', 'le_dollar', 'colonisai', 'eur', '.'], ['les', 'masses', 'ouvrieres', 'de', 'belgique', 'connaitront', 'la', 'double', 'exploitai', 'ion', 'du', 'capitalisme', 'national', 'et', 'do', \"l_'_imperialisme\", 'etranger', '.'], ['#', '-', 'de', 'cette', 'menace', ',', 'qui_sera', 'la', 'realiee', 'do', 'demain', ',', 'lu', 'soeiad', '-', 'demooratie', 'est', 'incapable', 'de', 'preserver', 'les_travailleurs', '.'], ['elle', \"l_'\", 'accepte', ',', 'elle', \"s_'\", 'y', \"'\", 'soumet', '.'], ['seul', ',', 'le', 'parti_communiste', 'international', 'appelle', 'les', 'masses', 'exploitees', '.', 'ei', 'asservies', 'a', \"l_'_imperialisme\", 'a', 'la_lutte', 'tncossa', 'ta', 'pour', 'la', 'defenso', 'de', 'leur', '?'], ['moyens', \"d_'\", 'ex', \"'\", 's', '-', 'tence', 'et', 'contre', 'lu', 'regime', 'capitaliste', 'et', 'toutes_ses', 'consequences', '.'], ['m_\"\"', 'une_conference', 'sur_la_question', 'des_dettes', 'a', 'londres', 'ou', 'a', 'nsw', '-_york', 'on', 'mtuido', 'de', 'washington', 'que', \"l_'\", 'am', '-', 'li', '.\"-*.'], ['*', 'ivlj', \"'.\", 'u', '-', 'de', 'belgique', ',', 'm', '.', 'cartier', 'de', 'marehie', '-', 'mic', \"s_'\", 'embarquera', 'lo', '0', 'juin', 'pour', 'la', ',', 'belgique', '.'], ['il', 'c', '?', 't', 'alle', 'rendre', 'visite', 'lundi', 'au', 'president', 'ccoliflge', '.'], [\"d_'_autre\", 'pari', ':,', 'suivant', 'lo', '<<', 'ne', '-\\\\', 'v', '-*', 'york', 'world', '>>', 'le_president', 'co', '-', 'olidgo', 'serait', \"l_'\", 'inspirateur', 'de', '.'], [\"l_'_article\", 'publie', 'par', 'la', '.'], ['<<', 'washington', 'post', '>>,', 'dans_lequel', 'm', '.', 'hanrvcy', ',', 'ancien', 'ambassadeur', 'des', 'etats_-_unis', 'a', 'londres', ',', 'suggerait', ';', 'la', 'retuu', '-:<<', 'n', \"d_'\", 'une_conference', 'a', 'londres', 'au_sujet', 'de', 'la', 'detto', 'francaise', 'envers_les', 'etats_-_unis', 'ct', 'la_grande', '-_bretagne', '.'], ['mais', 'la', '.'], ['<<', 'chicago', 'tribune', '>>', 'declare_que', 'les_membres', 'de', 'la', '..', 'commission', 'des_dettes', \"n_'\", 'approuvent', 'pas', 'la', 'suggestion', 'emise', 'par', 'le_colonel', 'hat', '-', 'voy', 'ou', 'vue', 'de', 'la_reunion', \"d_'_un\", '*-.,', 'conference', 'des_dettes', 'a', 'londres', '.'], ['comment', 'fut', 'pendu', 'le', 'heros', 'friedmann', 'marco', 'friedmann', 'est', 'mort', 'en', 'proclamant', 'son', 'innocence', \"l_'_execution\", 'en', 'place', 'publique', ',', 'a', 'so', '(-,', 'fia', ',', 'des', 'trois', 'condamnes', 'a', 'mort', 'friad', '-', 'mann', ',', 'koeff', 'et', 'zadgorski', ',', 'est', 'un_crime', 'nouveau', 'qui_vient', 'grossir', 'ie', 'dgssier', 'sanglant', 'du_gouvernement', 'tsankoff', '.'], ['aucune', 'preuve', 'de', 'la_participation', 'de', 'friedminn', 'a', \"l_'\", 'attentat', 'de', 'ia', '.', 'catheiralc', 'r', \".'\", 'a', 'pu_etre', 'fou', '-', 'nic', '.'], ['mais', 'il_fallait', 'a', '.', 'bso', '-', '1', 'jment', 'incriminer', 'le_communisme', '*', 'et', 'la', 'hle', 'internationale', ',', 'et', 'le', 'communiste', 'friedmann', 'avait_ete', '.', 'officier', 'du_genie', '..', 'ca', 'suffisait', '.'], ['dans', 'un', 'entretien_avec', 'uai', 'journaliste', 'italien', ',', 'quelques_heures', 'avant', \"l_'\", 'exeeu', '--', 'tion', ',', 'friedmann', 'a', 'repete', \"qu_'_il\", 'etait', 'innocent', '.'], ['#', 'voici', 'eoniment', 'les_journaux', 'bourgeois', 'depeignent', \"l_'\", 'horrible', 'scene', 'de', 'la', 'pendaison', '.'], ['des_milliers', \"d_'_hommes\", ',', 'de', 'femmes', 'et', \"'\", \"d_'_enfants\", 'se', 'pressaienf', \"'\", 'sur', 'la', 'place', ',', 'ou_trois', 'gibets', 'avaient_ete', 'dresses', '.'], ['quelques_minutes', 'avant', 'huit_heures', ',', 'un', '(c)', 'automobile', 'amena', ',', 'les', 'condamnes', ',', 'entoures', 'do', 'soldats', '.'], ['us', 'etaient', 'habilles', 'comme', 'a', \"l_'_ordinaire\", ',', 'mais', 'sans', 'cols', ',', 'et', 'leurs', 'mains', 'etaient', 'lourdement', 'chargees', 'de', 'chaines', '.'], ['friedmann', 'et', 'za', '/', 'lgorslri', 'etaient', \"'\", 'calmes', ',', 'tandis_que', 'koeff', 'sc', 'montrait', 'agite', '.'], ['la', ',', 'lecture', 'de', \"l_'_acte\", \"d_'\", 'accusation', 'et', 'de', 'la', 'condamnation', 'dura', 'uno', 'demi_-', 'heure', '.'], ['friedmann', 'souriait', ',', 'taudis', 'que', 'les_deux', 'autres', 'baissaient', 'la_tete', '.'], ['un', '.'], ['officier', 'demandant', 'aux', 'condamnes', \"s_'\", 'ils', \"n_'\", 'a', '.', 'vaient', 'rien', 'a', 'declarer', ',', 'friedmann', 'declara_qu', \"'\", 'il_etait', 'communiste', ',', 'et', 'mour', '-', 'i', 'irait', 'en', 'communiste', ',', 'mais', \"qu_'_il\", \"n_'\", 'avait', 'en', 'rien', 'participe', \"l_'\", 'attentat', 'dc', 'la_cathedrale', 'le', 'sacristain', 'repeta', 'sou', 'aveu', '.'], ['koeff', 'nia', \"jusqu_'_au_bout\", 'toute', 'culpabilite', 'ct', '.', 'demanda', 'a', 'la', 'feula', 'de', 'lo', 'sauver', '.'], ['finalement', ',', 'il', 'remit', 'a', 'un_officier', 'une_lettre', 'pour', 'sa_femme', '.'], ['.', '.', 'a', 'huit_heures', 'quarante', 'arriverent', 'trais', 'tzigan', '#;;', 'nus', '-', 'pieds', 'et', 'en', 'haillons', ',', 'qui_avaient', 'ete', 'engages', 'pour_cent', 'francs', 'chacun', '.'], ['ils', 'porterent', 'lea', 'trois', ',', 'eondant', '-', 'j', 'ne', '*', \"l_'\", 'un', 'apres', 'tautre', 'a', 'la', 'table', 'placee', 'sous', 'le', 'gibet', '.'], ['kcaff', 'fut', 'pendu', 'le_premier', ',', \"l_'\", 'ne', 'cagoule', 'blanche', 'lui', 'cacha', 'le', 'visage', ',', 'la', 'corde', 'fut', 'pla', '-', 'cee', 'autour_du', 'son', 'cou', ',', 'puis', 'la', '*', 'table', 'fut', 'renversee', '.'], ['une_minute', 'plus_tard', ',', 'son_cadavre', 'pendait', '...', 'fuis', 'ce_fut', 'le', 'tour', \"'\", 'ie', 'zadgorski', 'et', '.'], ['enfin', ',', 'celui', 'de', 'friedmann', '.'], ['qui_avait', 'du', \"assister_a_l_'\", 'execution', 'des', 'deux_autres', '...'], ['le', 'proletariat', 'intemationaj', 'inscrira', 'le_nom', 'de', 'friedmann', ',', 'innocemment', 'pendu', 'par', 'le', 'bourreau', 'tsanfcoff', ',', 'dans', 'le', 'livre', \"d_'_or\", 'de', 'la', 'causc', 'ouvriere', '.'], ['encore', 'deux_ministres', 'de', 'stamb0uli5ki', 'assassines', 'on_annonce', 'un_nouveau', 'crime', 'de', 'tsatikoff', '.'], [\"l_'\", 'ancien_ministre', 'des_finances', ',', 'jancff', 'et', 'le_president', 'du', 'sobranie', 'poteff', ',', 'qui_avaient', 'ete_condamnes', 'a', 'dix_ans', 'dc', 'prison', ',', 'viennent', 'd', 'etre', 'assassines', 'par', 'leurs', 'gardiens', '.'], ['naturellement', ',', 'comme', 'pour', 'liebknecht', ',', 'on', 'affirme', \"qu_'_ils_ont\", 'tente', 'do', 'fuir', '.'], ['--', 'o', '>>', '*---', '.'], ['un_ouvrier', 'noye', 'a', 'esneux', '(', 'do', 'notre_correspondant', ')', 'on', 'a', 'repeche', 'lundi', ',', 'ver', '3', '1', 'heure', 'do', '1', 'apres', '-', 'mini', ',', 'le_cadavre', 'de', \"l_'_ouvrier\", 'joseph', 'marechal', 'tombe', 'dans', \"l_'_ourthe\", 'entre', 'le', \"l_'\", 'ont', 'et', \"l_'\", 'ecluse', 'depuis', 'samedi_soir', '.'], ['chose', 'inconcevable', ':', \"parce_qu_'\", 'il', \"s_'\", 'a', ',', 'git', \"d_'\", 'un_ouvrier', ',', 'les_autorites', \"n_'\", 'ont', '#', 'seulement', 'fait', 'des', 'recherches', 'que', 'pendant_quelques', 'heures', 'et', 'sans', 'guere', 'ee', 'gener', '.'], ['u', 'a_fallu', 'que', 'le', 'beau', '-', 'pere', 'de', 'la_victime', \"s_'\", 'en', 'occupat', '.'], ['au_bout', 'de', 'peu', 'de', 'temps', ',', 'le_corps', 'do', 'la_victime', 'fut', 'ramene', 'sur', 'la', 'berge', 'et', 'remis', 'aux', 'siens', '.'], ['il', 'laisse', 'une_femme', 'et', 'deux_enfants', 'dont', 'un', 'fils', 'qui', 'a', 'fini', 'son', 'terme', 'militaire', '-', \"s_'\", 'il', \"s_'\", 'etait', 'agi', \"d_'_un\", 'bourgeois', ',', 'quelles', \"n_'\", 'auraient_pas', 'ete', 'les', 'recherches', 'diligentes', 'et', 'mome', 'lis', 'requisitions', '!*!'], ['cooperative', '<<', 'socialiste', '>>', 'jaune', '--', 'ooo', 'le', 'scandale', 'du_palais', 'de', \"l_'_industrie\", 'et', 'du_travail', 'a', 'charleroi', 'on', '60', 'souvient', 'de', 'la_greve', 'du_palais', 'dc', \"l_'_industrie\", 'et', 'du_travail', 'a', 'charleroi', ',', 'greve', 'provoquee_par', 'les', 'administrateurs', 'exploiteurs', 'de', 'cette', 'cooperative', '*', 'soi', '-', 'disant', 'socialiste', 'qui', \"n_'\", 'est', 'ni', 'cooperative', 'ni', 'socialiste', '.'], ['nous_avons', 'deja', 'mis_en', 'relief', 'les', 'diverses', 'attitudes', 'reactionnaires', ',', 'dignes', 'de', 'fascistes', ',', 'du_citoyen', 'duibois', 'et', 'de', 'ses', 'acolytes', 'du_conseil', \"d_'_administration\", '.']]\n"
     ]
    }
   ],
   "source": [
    "print(corpus[:100])"
   ]
  },
  {
   "cell_type": "markdown",
   "metadata": {},
   "source": [
    "## Entrainement d'un modèle Word2Vec sur ce corpus"
   ]
  },
  {
   "cell_type": "code",
   "execution_count": 22,
   "metadata": {},
   "outputs": [
    {
     "name": "stdout",
     "output_type": "stream",
     "text": [
      "CPU times: total: 3.03 s\n",
      "Wall time: 7.78 s\n"
     ]
    }
   ],
   "source": [
    "%%time\n",
    "model = Word2Vec(\n",
    "    corpus, # On passe le corpus de ngrams que nous venons de créer\n",
    "    vector_size=32, # Le nombre de dimensions dans lesquelles le contexte des mots devra être réduit, aka. vector_size\n",
    "    window=4, # La taille du \"contexte\", ici 4 mots avant et après le mot observé\n",
    "    min_count=5, # On ignore les mots qui n'apparaissent pas au moins 7 fois dans le corpus\n",
    "    workers=3, # Permet de paralléliser l'entraînement du modèle en 4 threads\n",
    "    epochs=5 # Nombre d'itérations du réseau de neurones sur le jeu de données pour ajuster les paramètres avec la descente de gradient, aka. epochs.\n",
    ")"
   ]
  },
  {
   "cell_type": "markdown",
   "metadata": {},
   "source": [
    "#### Remarque\n",
    "\n",
    "Vous voyez ici que l'entrainement du modèle est parallélisé (sur 4 workers).\n",
    "\n",
    "Lors qu'on parallélise l'entrainement du modèle, 4 modèles \"séparés\" sont entrainés sur environ un quart des phrases.\n",
    "\n",
    "Ensuite, les résultats sont agrégés pour ne plus faire qu'un seul modèle.\n",
    "\n",
    "On ne peut prédire quel worker aura quelle phrase, car il y a des aléas lors de la parallélisation (p. ex. un worker qui serait plus lent, etc.).\n",
    "\n",
    "Du coup, les valeurs peuvent varier légèrement d'un entrainement à l'autre.\n",
    "\n",
    "Mais, globalement, les résultats restent cohérents."
   ]
  },
  {
   "cell_type": "markdown",
   "metadata": {},
   "source": [
    "### Sauver le modèle dans un fichier"
   ]
  },
  {
   "cell_type": "code",
   "execution_count": 24,
   "metadata": {},
   "outputs": [],
   "source": [
    "outfile = f\"../tp4/corpustp4.model\"\n",
    "model.save(outfile)"
   ]
  },
  {
   "cell_type": "markdown",
   "metadata": {},
   "source": [
    "## Explorer le modèle"
   ]
  },
  {
   "cell_type": "markdown",
   "metadata": {},
   "source": [
    "### Charger le modèle en mémoire"
   ]
  },
  {
   "cell_type": "code",
   "execution_count": 26,
   "metadata": {},
   "outputs": [],
   "source": [
    "model = Word2Vec.load(\"../tp4/corpustp4.model\")"
   ]
  },
  {
   "cell_type": "markdown",
   "metadata": {},
   "source": [
    "### Imprimer le vecteur d'un terme"
   ]
  },
  {
   "cell_type": "code",
   "execution_count": 27,
   "metadata": {},
   "outputs": [
    {
     "data": {
      "text/plain": [
       "array([ 0.03437484,  0.2121894 ,  0.49203292,  1.6599562 , -0.0867386 ,\n",
       "        1.3023146 ,  0.8333397 ,  1.9949716 ,  0.54165703, -0.08588617,\n",
       "        0.09908707, -3.4434903 ,  0.8731355 ,  1.1881496 ,  2.061644  ,\n",
       "        1.5250937 , -0.08205003, -1.1289623 , -0.04794616,  2.6105053 ,\n",
       "        0.7871473 , -0.2297672 ,  2.4509017 , -3.355376  ,  1.1252146 ,\n",
       "        1.5698082 ,  0.4949429 , -0.59427774,  0.05728798, -0.936747  ,\n",
       "       -0.8835765 ,  0.18020944], dtype=float32)"
      ]
     },
     "execution_count": 27,
     "metadata": {},
     "output_type": "execute_result"
    }
   ],
   "source": [
    "model.wv[\"banque\"]"
   ]
  },
  {
   "cell_type": "code",
   "execution_count": 28,
   "metadata": {},
   "outputs": [
    {
     "data": {
      "text/plain": [
       "array([-0.12775141, -0.22854167, -0.6612524 ,  0.15537733, -0.1464727 ,\n",
       "       -0.75726926, -0.841578  ,  0.53345025,  0.1776856 ,  0.3042975 ,\n",
       "        1.3647552 , -1.6804311 , -0.06034093, -0.571746  , -0.3754234 ,\n",
       "        0.26141614, -0.07571358,  0.31219697,  0.9429393 ,  0.49520496,\n",
       "        1.5386255 ,  1.7201954 ,  0.9387401 , -0.5405968 ,  0.597436  ,\n",
       "       -0.21553768, -0.6214239 , -0.68250006,  1.00557   , -0.5917789 ,\n",
       "       -0.50789523, -0.2571825 ], dtype=float32)"
      ]
     },
     "execution_count": 28,
     "metadata": {},
     "output_type": "execute_result"
    }
   ],
   "source": [
    "model.wv[\"etat\"]"
   ]
  },
  {
   "cell_type": "markdown",
   "metadata": {},
   "source": [
    "### Calculer la similarité entre deux termes"
   ]
  },
  {
   "cell_type": "code",
   "execution_count": 29,
   "metadata": {},
   "outputs": [
    {
     "data": {
      "text/plain": [
       "0.51527447"
      ]
     },
     "execution_count": 29,
     "metadata": {},
     "output_type": "execute_result"
    }
   ],
   "source": [
    "model.wv.similarity(\"cours\", \"obligations\")"
   ]
  },
  {
   "cell_type": "code",
   "execution_count": 30,
   "metadata": {},
   "outputs": [
    {
     "data": {
      "text/plain": [
       "0.6349034"
      ]
     },
     "execution_count": 30,
     "metadata": {},
     "output_type": "execute_result"
    }
   ],
   "source": [
    "model.wv.similarity(\"obligations\", \"obligation\")"
   ]
  },
  {
   "cell_type": "code",
   "execution_count": 31,
   "metadata": {},
   "outputs": [
    {
     "data": {
      "text/plain": [
       "0.79148525"
      ]
     },
     "execution_count": 31,
     "metadata": {},
     "output_type": "execute_result"
    }
   ],
   "source": [
    "model.wv.similarity(\"france\", \"belgique\")\n",
    "\n"
   ]
  },
  {
   "cell_type": "markdown",
   "metadata": {},
   "source": [
    "### Chercher les mots les plus proches d'un terme donné"
   ]
  },
  {
   "cell_type": "code",
   "execution_count": 32,
   "metadata": {},
   "outputs": [
    {
     "data": {
      "text/plain": [
       "[(':_extra_fancy', 0.9659507870674133),\n",
       " ('gaspard', 0.9633066058158875),\n",
       " ('gustave', 0.9578896164894104),\n",
       " ('toile', 0.9558913111686707),\n",
       " ('bleu', 0.9547534584999084)]"
      ]
     },
     "execution_count": 32,
     "metadata": {},
     "output_type": "execute_result"
    }
   ],
   "source": [
    "model.wv.most_similar(\"noir\", topn=5)"
   ]
  },
  {
   "cell_type": "code",
   "execution_count": 33,
   "metadata": {},
   "outputs": [
    {
     "data": {
      "text/plain": [
       "[('pre', 0.949506938457489),\n",
       " ('matin', 0.9382753968238831),\n",
       " ('siecle', 0.9382133483886719),\n",
       " ('capitaine', 0.9332357048988342),\n",
       " ('cinema', 0.9332219362258911)]"
      ]
     },
     "execution_count": 33,
     "metadata": {},
     "output_type": "execute_result"
    }
   ],
   "source": [
    "model.wv.most_similar(\"soir\", topn=5)"
   ]
  },
  {
   "cell_type": "code",
   "execution_count": 34,
   "metadata": {},
   "outputs": [
    {
     "data": {
      "text/plain": [
       "[('obligations', 0.8504869937896729),\n",
       " ('banques', 0.8275479078292847),\n",
       " ('jouissance', 0.8054082989692688),\n",
       " ('depots', 0.7919761538505554),\n",
       " ('divers', 0.7897666692733765)]"
      ]
     },
     "execution_count": 34,
     "metadata": {},
     "output_type": "execute_result"
    }
   ],
   "source": [
    "model.wv.most_similar(\"actions\", topn=5)"
   ]
  },
  {
   "cell_type": "code",
   "execution_count": 35,
   "metadata": {},
   "outputs": [
    {
     "data": {
      "text/plain": [
       "[('concierge', 0.9580684304237366),\n",
       " ('la_lettre', 0.9555862545967102),\n",
       " ('dimanche_soir', 0.9539945721626282),\n",
       " ('veuve', 0.9538886547088623),\n",
       " ('botte', 0.952717661857605)]"
      ]
     },
     "execution_count": 35,
     "metadata": {},
     "output_type": "execute_result"
    }
   ],
   "source": [
    "model.wv.most_similar(\"reine\", topn=5)"
   ]
  },
  {
   "cell_type": "code",
   "execution_count": 36,
   "metadata": {},
   "outputs": [
    {
     "data": {
      "text/plain": [
       "[('prononce', 0.964993417263031),\n",
       " ('assure', 0.9625561237335205),\n",
       " ('juge', 0.9600217938423157),\n",
       " ('tire', 0.9576895236968994),\n",
       " ('certainement', 0.9574370980262756)]"
      ]
     },
     "execution_count": 36,
     "metadata": {},
     "output_type": "execute_result"
    }
   ],
   "source": [
    "model.wv.most_similar(\"homme\", topn=5)"
   ]
  },
  {
   "cell_type": "code",
   "execution_count": 37,
   "metadata": {},
   "outputs": [
    {
     "data": {
      "text/plain": [
       "[('des_chemins', 0.830240786075592),\n",
       " ('chemin', 0.825129508972168),\n",
       " ('actions_des_chemins', 0.7695838212966919),\n",
       " ('societe', 0.7685903310775757),\n",
       " ('du_chemin', 0.7618299126625061)]"
      ]
     },
     "execution_count": 37,
     "metadata": {},
     "output_type": "execute_result"
    }
   ],
   "source": [
    "model.wv.most_similar(\"fer\", topn=5)"
   ]
  },
  {
   "cell_type": "code",
   "execution_count": 38,
   "metadata": {},
   "outputs": [
    {
     "data": {
      "text/plain": [
       "[('prunes', 0.9437491297721863),\n",
       " ('academiciens', 0.9427877068519592),\n",
       " ('bonifications', 0.9412000179290771),\n",
       " ('accueillir', 0.9410020709037781),\n",
       " ('opinions', 0.9402633309364319)]"
      ]
     },
     "execution_count": 38,
     "metadata": {},
     "output_type": "execute_result"
    }
   ],
   "source": [
    "model.wv.most_similar(\"esclaves\", topn=5)"
   ]
  },
  {
   "cell_type": "markdown",
   "metadata": {},
   "source": [
    "### Faire des recherches complexes à travers l'espace vectoriel"
   ]
  },
  {
   "cell_type": "code",
   "execution_count": 39,
   "metadata": {},
   "outputs": [
    {
     "name": "stdout",
     "output_type": "stream",
     "text": [
      "[('nouvelles', 0.8279739618301392), ('divers', 0.8275811672210693), ('ventes', 0.80405193567276), ('hommes', 0.8008569478988647), ('dix', 0.7914671897888184), ('quatre', 0.7910668253898621), ('livres', 0.788156270980835), ('cinq', 0.7787719964981079), ('fleurs', 0.7755892276763916), ('sieges', 0.7689218521118164)]\n"
     ]
    }
   ],
   "source": [
    "print(model.wv.most_similar(positive=['actions', 'titres'], negative=['belge']))"
   ]
  },
  {
   "cell_type": "code",
   "execution_count": 40,
   "metadata": {},
   "outputs": [
    {
     "name": "stdout",
     "output_type": "stream",
     "text": [
      "[('peres', 0.8351684808731079), ('terri', 0.8148234486579895), (';-', 0.8138992786407471), ('enfantine', 0.8127315640449524), ('wallons', 0.8101525902748108), ('combustion', 0.8088886737823486), ('jolis', 0.8087049722671509), ('democrates', 0.8060357570648193), ('ours', 0.8041902184486389), ('depeches', 0.8029871582984924)]\n"
     ]
    }
   ],
   "source": [
    "print(model.wv.most_similar(positive=['congo', 'affaires'], negative=['belge']))"
   ]
  },
  {
   "cell_type": "code",
   "execution_count": 41,
   "metadata": {},
   "outputs": [
    {
     "name": "stdout",
     "output_type": "stream",
     "text": [
      "[('lins', 0.8587356209754944), ('73_k', 0.8583097457885742), ('oct', 0.8542829751968384), ('australie', 0.8521870374679565), ('danube', 0.8510916829109192), ('mixed', 0.8495192527770996), ('extra', 0.8468750715255737), ('bahia', 0.8442003130912781), ('bombay', 0.841560959815979), ('canada', 0.8398005366325378)]\n"
     ]
    }
   ],
   "source": [
    "print(model.wv.most_similar(positive=['noir', 'blanc'], negative=['couleur']))"
   ]
  },
  {
   "cell_type": "code",
   "execution_count": 42,
   "metadata": {},
   "outputs": [
    {
     "name": "stdout",
     "output_type": "stream",
     "text": [
      "[('sien', 0.8862278461456299), ('manager', 0.8751124739646912), ('sultan', 0.8750342130661011), ('mur', 0.873248279094696), ('fascisme', 0.8716664910316467), ('requisitoire', 0.8699246644973755), ('prince_leopold', 0.8692768216133118), ('portrait', 0.8679009675979614), ('panorama', 0.8650959134101868), ('prefet', 0.8644734025001526)]\n"
     ]
    }
   ],
   "source": [
    "print(model.wv.most_similar(positive=['banquier', 'metier'], negative=['communication']))"
   ]
  }
 ],
 "metadata": {
  "kernelspec": {
   "display_name": "Python 3.10.7 ('tac_venv': venv)",
   "language": "python",
   "name": "python3"
  },
  "language_info": {
   "codemirror_mode": {
    "name": "ipython",
    "version": 3
   },
   "file_extension": ".py",
   "mimetype": "text/x-python",
   "name": "python",
   "nbconvert_exporter": "python",
   "pygments_lexer": "ipython3",
   "version": "3.10.7"
  },
  "vscode": {
   "interpreter": {
    "hash": "1371f28b61a57566aca84f831e458ad1b8215d81e6228e59fe3401f9a480bc22"
   }
  }
 },
 "nbformat": 4,
 "nbformat_minor": 4
}
