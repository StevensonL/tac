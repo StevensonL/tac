{
 "cells": [
  {
   "cell_type": "markdown",
   "metadata": {},
   "source": [
    "# Clustering de documents"
   ]
  },
  {
   "cell_type": "markdown",
   "metadata": {},
   "source": [
    "## Imports"
   ]
  },
  {
   "cell_type": "code",
   "execution_count": 5,
   "metadata": {},
   "outputs": [],
   "source": [
    "import collections\n",
    "import os\n",
    "import string\n",
    "import sys\n",
    "\n",
    "import pandas as pd\n",
    "from nltk import word_tokenize\n",
    "from nltk.corpus import stopwords\n",
    "from pprint import pprint\n",
    "from sklearn.cluster import KMeans\n",
    "from sklearn.feature_extraction.text import TfidfVectorizer\n",
    "from sklearn.decomposition import PCA\n",
    "import numpy as np\n",
    "import matplotlib.pyplot as plt\n",
    "from scipy.spatial.distance import cosine"
   ]
  },
  {
   "cell_type": "code",
   "execution_count": 6,
   "metadata": {},
   "outputs": [
    {
     "name": "stderr",
     "output_type": "stream",
     "text": [
      "[nltk_data] Downloading package punkt to\n",
      "[nltk_data]     C:\\Users\\elaur\\AppData\\Roaming\\nltk_data...\n",
      "[nltk_data]   Package punkt is already up-to-date!\n"
     ]
    },
    {
     "data": {
      "text/plain": [
       "True"
      ]
     },
     "execution_count": 6,
     "metadata": {},
     "output_type": "execute_result"
    }
   ],
   "source": [
    "import nltk\n",
    "\n",
    "nltk.download('punkt')"
   ]
  },
  {
   "cell_type": "code",
   "execution_count": 7,
   "metadata": {},
   "outputs": [],
   "source": [
    "data_path = \"../data/txt/\""
   ]
  },
  {
   "cell_type": "markdown",
   "metadata": {},
   "source": [
    "## Choisir une décennie"
   ]
  },
  {
   "cell_type": "code",
   "execution_count": 8,
   "metadata": {},
   "outputs": [],
   "source": [
    "DECADE = \"1900\""
   ]
  },
  {
   "cell_type": "markdown",
   "metadata": {},
   "source": [
    "## Charger tous les  fichiers de la décennie et en créer une liste de textes"
   ]
  },
  {
   "cell_type": "code",
   "execution_count": 9,
   "metadata": {},
   "outputs": [],
   "source": [
    "files = [f for f in sorted(os.listdir(data_path)) if f\"_{DECADE[:-1]}\" in f]"
   ]
  },
  {
   "cell_type": "code",
   "execution_count": 10,
   "metadata": {},
   "outputs": [
    {
     "data": {
      "text/plain": [
       "['KB_JB838_1900-01-02_01-00002.txt',\n",
       " 'KB_JB838_1900-01-07_01-00007.txt',\n",
       " 'KB_JB838_1900-01-08_01-00003.txt',\n",
       " 'KB_JB838_1900-01-18_01-00008.txt',\n",
       " 'KB_JB838_1900-01-19_01-00004.txt']"
      ]
     },
     "execution_count": 10,
     "metadata": {},
     "output_type": "execute_result"
    }
   ],
   "source": [
    "# Exemple de fichiers\n",
    "files[:5]"
   ]
  },
  {
   "cell_type": "code",
   "execution_count": 11,
   "metadata": {},
   "outputs": [],
   "source": [
    "texts = [open(data_path + f, encoding=\"utf-8\").read() for f in files]"
   ]
  },
  {
   "cell_type": "code",
   "execution_count": 12,
   "metadata": {},
   "outputs": [
    {
     "data": {
      "text/plain": [
       "'La bretelle, sur les origines de laquelle le;- •pinions sont contradictoires, n’en remonte pa,> moins à une honorable antiquité. De tous temps, bien que sous des formes diverses, elle a servi à maintenir la culotte et, plus tard, le pantalon. Sous Louis-Philippe, elle eut même son heure de gloire. On la vit aux culottes-à-pont de la garde nationale, et le roi lui-méme, dans telles estampes recherc'"
      ]
     },
     "execution_count": 12,
     "metadata": {},
     "output_type": "execute_result"
    }
   ],
   "source": [
    "# Exemple de textes\n",
    "texts[0][:400]"
   ]
  },
  {
   "cell_type": "markdown",
   "metadata": {},
   "source": [
    "## Vectoriser les documents à l'aide de TF-IDF"
   ]
  },
  {
   "cell_type": "code",
   "execution_count": 13,
   "metadata": {},
   "outputs": [],
   "source": [
    "# Création d'une fonction de pré-traitement\n",
    "def preprocessing(text, stem=True):\n",
    "    \"\"\" Tokenize text and remove punctuation \"\"\"\n",
    "    text = text.translate(string.punctuation)\n",
    "    tokens = word_tokenize(text)\n",
    "    return tokens"
   ]
  },
  {
   "cell_type": "markdown",
   "metadata": {},
   "source": [
    "### Instancier le modèle TF-IDF avec ses arguments"
   ]
  },
  {
   "cell_type": "code",
   "execution_count": 14,
   "metadata": {},
   "outputs": [],
   "source": [
    "vectorizer = TfidfVectorizer(\n",
    "    tokenizer=preprocessing,\n",
    "    stop_words=stopwords.words('french'),\n",
    "    max_df=0.5,\n",
    "    min_df=0.1,\n",
    "    lowercase=True)"
   ]
  },
  {
   "cell_type": "markdown",
   "metadata": {},
   "source": [
    "### Construire la matrice de vecteurs à l'aide de la fonction `fit_transform`"
   ]
  },
  {
   "cell_type": "code",
   "execution_count": 15,
   "metadata": {},
   "outputs": [],
   "source": [
    "tfidf_vectors = vectorizer.fit_transform(texts)"
   ]
  },
  {
   "cell_type": "code",
   "execution_count": 16,
   "metadata": {},
   "outputs": [
    {
     "data": {
      "text/plain": [
       "(1000, 3942)"
      ]
     },
     "execution_count": 16,
     "metadata": {},
     "output_type": "execute_result"
    }
   ],
   "source": [
    "# Détail de la matrice\n",
    "tfidf_vectors.shape"
   ]
  },
  {
   "cell_type": "markdown",
   "metadata": {},
   "source": [
    "### Imprimer le vecteur tf-IDF du premier document"
   ]
  },
  {
   "cell_type": "code",
   "execution_count": 17,
   "metadata": {},
   "outputs": [
    {
     "data": {
      "text/plain": [
       "janvier       0.289411\n",
       "président     0.217008\n",
       "dépêche       0.182851\n",
       "anglaises     0.152892\n",
       "guerre        0.143251\n",
       "                ...   \n",
       "découvert     0.000000\n",
       "découverte    0.000000\n",
       "découvrir     0.000000\n",
       "décès         0.000000\n",
       "♦             0.000000\n",
       "Length: 3942, dtype: float64"
      ]
     },
     "execution_count": 17,
     "metadata": {},
     "output_type": "execute_result"
    }
   ],
   "source": [
    "pd.Series(\n",
    "    tfidf_vectors[0].toarray()[0],\n",
    "    index=vectorizer.get_feature_names_out()\n",
    "    ).sort_values(ascending=False)"
   ]
  },
  {
   "cell_type": "markdown",
   "metadata": {},
   "source": [
    "## Comprendre les vecteurs et leurs \"distances\""
   ]
  },
  {
   "cell_type": "code",
   "execution_count": 18,
   "metadata": {},
   "outputs": [
    {
     "data": {
      "text/plain": [
       "0"
      ]
     },
     "execution_count": 18,
     "metadata": {},
     "output_type": "execute_result"
    }
   ],
   "source": [
    "cosine([1, 2, 3], [1, 2, 3])"
   ]
  },
  {
   "cell_type": "code",
   "execution_count": 19,
   "metadata": {},
   "outputs": [
    {
     "data": {
      "text/plain": [
       "0.02004211298777725"
      ]
     },
     "execution_count": 19,
     "metadata": {},
     "output_type": "execute_result"
    }
   ],
   "source": [
    "cosine([1, 2, 3], [1, 2, 2])"
   ]
  },
  {
   "cell_type": "code",
   "execution_count": 20,
   "metadata": {},
   "outputs": [
    {
     "data": {
      "text/plain": [
       "0.07417990022744858"
      ]
     },
     "execution_count": 20,
     "metadata": {},
     "output_type": "execute_result"
    }
   ],
   "source": [
    "cosine([1, 2, 3], [2, 2, 2])"
   ]
  },
  {
   "cell_type": "markdown",
   "metadata": {},
   "source": [
    "### Tests sur nos documents"
   ]
  },
  {
   "cell_type": "code",
   "execution_count": 21,
   "metadata": {},
   "outputs": [],
   "source": [
    "tfidf_array = tfidf_vectors.toarray()"
   ]
  },
  {
   "cell_type": "code",
   "execution_count": 22,
   "metadata": {},
   "outputs": [
    {
     "data": {
      "text/plain": [
       "array([0., 0., 0., ..., 0., 0., 0.])"
      ]
     },
     "execution_count": 22,
     "metadata": {},
     "output_type": "execute_result"
    }
   ],
   "source": [
    "# Vecteur du document 0\n",
    "tfidf_array[0]"
   ]
  },
  {
   "cell_type": "code",
   "execution_count": 23,
   "metadata": {},
   "outputs": [
    {
     "data": {
      "text/plain": [
       "array([0., 0., 0., ..., 0., 0., 0.])"
      ]
     },
     "execution_count": 23,
     "metadata": {},
     "output_type": "execute_result"
    }
   ],
   "source": [
    "# Vecteur du document 1\n",
    "tfidf_array[1]"
   ]
  },
  {
   "cell_type": "code",
   "execution_count": 24,
   "metadata": {},
   "outputs": [
    {
     "data": {
      "text/plain": [
       "0.8598526598061422"
      ]
     },
     "execution_count": 24,
     "metadata": {},
     "output_type": "execute_result"
    }
   ],
   "source": [
    "cosine(tfidf_array[0], tfidf_array[1])"
   ]
  },
  {
   "cell_type": "markdown",
   "metadata": {},
   "source": [
    "## Appliquer un algorithme de clustering sur les vecteurs TF-IDF des documents"
   ]
  },
  {
   "cell_type": "markdown",
   "metadata": {},
   "source": [
    "Pour en savoir plus sur le KMeans clustering :\n",
    "- https://medium.com/dataseries/k-means-clustering-explained-visually-in-5-minutes-b900cc69d175"
   ]
  },
  {
   "cell_type": "markdown",
   "metadata": {},
   "source": [
    "### Définir un nombre de clusters"
   ]
  },
  {
   "cell_type": "code",
   "execution_count": 25,
   "metadata": {},
   "outputs": [],
   "source": [
    "N_CLUSTERS = 5"
   ]
  },
  {
   "cell_type": "markdown",
   "metadata": {},
   "source": [
    "### Instancier le modèle K-Means et ses arguments"
   ]
  },
  {
   "cell_type": "code",
   "execution_count": 26,
   "metadata": {},
   "outputs": [],
   "source": [
    "km_model = KMeans(n_clusters=N_CLUSTERS)"
   ]
  },
  {
   "cell_type": "markdown",
   "metadata": {},
   "source": [
    "### Appliquer le clustering à l'aide de la fonction `fit_predict`"
   ]
  },
  {
   "cell_type": "code",
   "execution_count": 27,
   "metadata": {},
   "outputs": [],
   "source": [
    "#distance intra et extra cluster, des centres tres eloignes l'un de l'autre et des points tres regroupe autour du centre\n",
    "clusters = km_model.fit_predict(tfidf_vectors)"
   ]
  },
  {
   "cell_type": "code",
   "execution_count": 28,
   "metadata": {},
   "outputs": [],
   "source": [
    "clustering = collections.defaultdict(list)\n",
    "\n",
    "for idx, label in enumerate(clusters):\n",
    "    clustering[label].append(files[idx])"
   ]
  },
  {
   "cell_type": "code",
   "execution_count": 29,
   "metadata": {},
   "outputs": [
    {
     "name": "stdout",
     "output_type": "stream",
     "text": [
      "{0: ['KB_JB838_1900-01-21_01-00008.txt',\n",
      "     'KB_JB838_1900-01-28_01-00008.txt',\n",
      "     'KB_JB838_1900-02-13_01-00003.txt',\n",
      "     'KB_JB838_1900-05-24_01-00008.txt',\n",
      "     'KB_JB838_1900-06-07_01-00003.txt',\n",
      "     'KB_JB838_1900-07-19_01-00003.txt',\n",
      "     'KB_JB838_1900-08-30_01-00003.txt',\n",
      "     'KB_JB838_1900-09-08_01-00003.txt',\n",
      "     'KB_JB838_1901-02-07_01-00006.txt',\n",
      "     'KB_JB838_1901-02-12_01-00003.txt',\n",
      "     'KB_JB838_1901-03-31_01-00008.txt',\n",
      "     'KB_JB838_1901-04-05_01-00004.txt',\n",
      "     'KB_JB838_1901-04-18_01-00008.txt',\n",
      "     'KB_JB838_1901-05-11_01-00006.txt',\n",
      "     'KB_JB838_1901-05-16_01-00005.txt',\n",
      "     'KB_JB838_1901-06-23_01-00007.txt',\n",
      "     'KB_JB838_1901-06-27_01-00008.txt',\n",
      "     'KB_JB838_1901-09-14_01-00004.txt',\n",
      "     'KB_JB838_1901-09-20_01-00003.txt',\n",
      "     'KB_JB838_1901-09-28_01-00004.txt',\n",
      "     'KB_JB838_1901-10-23_01-00003.txt',\n",
      "     'KB_JB838_1901-12-05_01-00005.txt',\n",
      "     'KB_JB838_1901-12-29_01-00010.txt',\n",
      "     'KB_JB838_1902-01-01_01-00008.txt',\n",
      "     'KB_JB838_1902-02-15_01-00006.txt',\n",
      "     'KB_JB838_1902-03-06_01-00006.txt',\n",
      "     'KB_JB838_1902-04-23_01-00006.txt',\n",
      "     'KB_JB838_1902-05-08_01-00005.txt',\n",
      "     'KB_JB838_1902-05-16_01-00006.txt',\n",
      "     'KB_JB838_1902-05-23_01-00004.txt',\n",
      "     'KB_JB838_1902-11-05_01-00004.txt',\n",
      "     'KB_JB838_1902-11-08_01-00004.txt',\n",
      "     'KB_JB838_1902-11-13_01-00005.txt',\n",
      "     'KB_JB838_1902-12-04_01-00005.txt',\n",
      "     'KB_JB838_1902-12-19_01-00004.txt',\n",
      "     'KB_JB838_1903-01-02_01-00004.txt',\n",
      "     'KB_JB838_1903-01-04_01-00008.txt',\n",
      "     'KB_JB838_1903-01-09_01-00003.txt',\n",
      "     'KB_JB838_1903-01-29_01-00008.txt',\n",
      "     'KB_JB838_1903-02-19_01-00006.txt',\n",
      "     'KB_JB838_1903-02-25_01-00004.txt',\n",
      "     'KB_JB838_1903-03-11_01-00006.txt',\n",
      "     'KB_JB838_1903-04-03_01-00004.txt',\n",
      "     'KB_JB838_1903-04-09_01-00007.txt',\n",
      "     'KB_JB838_1903-04-12_01-00010.txt',\n",
      "     'KB_JB838_1903-07-03_01-00004.txt',\n",
      "     'KB_JB838_1903-07-11_01-00004.txt',\n",
      "     'KB_JB838_1903-08-12_01-00006.txt',\n",
      "     'KB_JB838_1903-09-02_01-00003.txt',\n",
      "     'KB_JB838_1903-09-23_01-00004.txt',\n",
      "     'KB_JB838_1903-09-24_01-00008.txt',\n",
      "     'KB_JB838_1903-10-03_01-00004.txt',\n",
      "     'KB_JB838_1903-10-22_01-00004.txt',\n",
      "     'KB_JB838_1903-12-13_01-00009.txt',\n",
      "     'KB_JB838_1903-12-14_01-00006.txt',\n",
      "     'KB_JB838_1904-01-05_01-00004.txt',\n",
      "     'KB_JB838_1904-02-03_01-00004.txt',\n",
      "     'KB_JB838_1904-03-05_01-00003.txt',\n",
      "     'KB_JB838_1904-03-05_01-00006.txt',\n",
      "     'KB_JB838_1904-03-20_01-00007.txt',\n",
      "     'KB_JB838_1904-04-09_01-00006.txt',\n",
      "     'KB_JB838_1904-04-23_01-00003.txt',\n",
      "     'KB_JB838_1904-04-24_01-00007.txt',\n",
      "     'KB_JB838_1904-04-24_01-00012.txt',\n",
      "     'KB_JB838_1904-05-19_01-00008.txt',\n",
      "     'KB_JB838_1904-06-22_01-00003.txt',\n",
      "     'KB_JB838_1904-06-23_01-00005.txt',\n",
      "     'KB_JB838_1904-08-07_01-00007.txt',\n",
      "     'KB_JB838_1904-08-18_01-00005.txt',\n",
      "     'KB_JB838_1904-08-18_01-00008.txt',\n",
      "     'KB_JB838_1904-10-25_01-00004.txt',\n",
      "     'KB_JB838_1904-12-02_01-00012.txt',\n",
      "     'KB_JB838_1904-12-13_01-00004.txt',\n",
      "     'KB_JB838_1904-12-15_01-00012.txt',\n",
      "     'KB_JB838_1904-12-18_01-00007.txt',\n",
      "     'KB_JB838_1905-02-24_01-00006.txt',\n",
      "     'KB_JB838_1905-02-27_01-00006.txt',\n",
      "     'KB_JB838_1905-03-03_01-00004.txt',\n",
      "     'KB_JB838_1905-05-05_01-00006.txt',\n",
      "     'KB_JB838_1905-06-08_01-00004.txt',\n",
      "     'KB_JB838_1905-06-25_01-00007.txt',\n",
      "     'KB_JB838_1905-07-06_01-00008.txt',\n",
      "     'KB_JB838_1905-08-08_01-00006.txt',\n",
      "     'KB_JB838_1905-08-10_01-00008.txt',\n",
      "     'KB_JB838_1905-08-22_01-00006.txt',\n",
      "     'KB_JB838_1905-08-26_01-00004.txt',\n",
      "     'KB_JB838_1905-09-23_01-00004.txt',\n",
      "     'KB_JB838_1905-10-02_01-00004.txt',\n",
      "     'KB_JB838_1905-10-04_01-00006.txt',\n",
      "     'KB_JB838_1905-10-07_01-00006.txt',\n",
      "     'KB_JB838_1905-10-20_01-00006.txt',\n",
      "     'KB_JB838_1905-10-28_01-00008.txt',\n",
      "     'KB_JB838_1905-10-29_01-00012.txt',\n",
      "     'KB_JB838_1905-11-05_01-00009.txt',\n",
      "     'KB_JB838_1905-11-16_01-00004.txt',\n",
      "     'KB_JB838_1905-12-09_01-00004.txt',\n",
      "     'KB_JB838_1905-12-21_01-00008.txt',\n",
      "     'KB_JB838_1906-01-14_01-00009.txt',\n",
      "     'KB_JB838_1906-02-14_01-00004.txt',\n",
      "     'KB_JB838_1906-02-22_01-00008.txt',\n",
      "     'KB_JB838_1906-03-05_01-00006.txt',\n",
      "     'KB_JB838_1906-03-08_01-00003.txt',\n",
      "     'KB_JB838_1906-03-13_01-00004.txt',\n",
      "     'KB_JB838_1906-03-15_01-00008.txt',\n",
      "     'KB_JB838_1906-03-27_01-00004.txt',\n",
      "     'KB_JB838_1906-04-13_01-00005.txt',\n",
      "     'KB_JB838_1906-04-22_01-00004.txt',\n",
      "     'KB_JB838_1906-05-19_01-00008.txt',\n",
      "     'KB_JB838_1906-06-03_01-00010.txt',\n",
      "     'KB_JB838_1906-06-09_01-00006.txt',\n",
      "     'KB_JB838_1906-06-11_01-00006.txt',\n",
      "     'KB_JB838_1906-06-20_01-00008.txt',\n",
      "     'KB_JB838_1906-06-27_01-00008.txt',\n",
      "     'KB_JB838_1906-07-12_01-00005.txt',\n",
      "     'KB_JB838_1906-08-11_01-00006.txt',\n",
      "     'KB_JB838_1906-08-27_01-00006.txt',\n",
      "     'KB_JB838_1906-09-02_01-00008.txt',\n",
      "     'KB_JB838_1906-10-07_01-00006.txt',\n",
      "     'KB_JB838_1906-10-30_01-00006.txt',\n",
      "     'KB_JB838_1906-11-18_01-00005.txt',\n",
      "     'KB_JB838_1906-11-20_01-00004.txt',\n",
      "     'KB_JB838_1906-11-23_01-00006.txt',\n",
      "     'KB_JB838_1906-12-06_01-00008.txt',\n",
      "     'KB_JB838_1906-12-20_01-00005.txt',\n",
      "     'KB_JB838_1907-01-20_01-00010.txt',\n",
      "     'KB_JB838_1907-01-31_01-00005.txt',\n",
      "     'KB_JB838_1907-02-01_01-00006.txt',\n",
      "     'KB_JB838_1907-03-26_01-00006.txt',\n",
      "     'KB_JB838_1907-04-20_01-00005.txt',\n",
      "     'KB_JB838_1907-05-29_01-00004.txt',\n",
      "     'KB_JB838_1907-06-13_01-00008.txt',\n",
      "     'KB_JB838_1907-06-21_01-00004.txt',\n",
      "     'KB_JB838_1907-06-22_01-00008.txt',\n",
      "     'KB_JB838_1907-07-11_01-00008.txt',\n",
      "     'KB_JB838_1907-07-25_01-00005.txt',\n",
      "     'KB_JB838_1907-08-10_01-00006.txt',\n",
      "     'KB_JB838_1907-08-11_01-00010.txt',\n",
      "     'KB_JB838_1907-08-13_01-00004.txt',\n",
      "     'KB_JB838_1907-10-21_02-00006.txt',\n",
      "     'KB_JB838_1907-10-24_01-00008.txt',\n",
      "     'KB_JB838_1907-11-14_01-00005.txt',\n",
      "     'KB_JB838_1907-12-08_01-00006.txt',\n",
      "     'KB_JB838_1907-12-16_01-00006.txt',\n",
      "     'KB_JB838_1907-12-22_01-00006.txt',\n",
      "     'KB_JB838_1907-12-27_01-00006.txt',\n",
      "     'KB_JB838_1908-01-15_01-00004.txt',\n",
      "     'KB_JB838_1908-01-21_01-00004.txt',\n",
      "     'KB_JB838_1908-02-16_01-00005.txt',\n",
      "     'KB_JB838_1908-03-02_01-00006.txt',\n",
      "     'KB_JB838_1908-03-15_01-00009.txt',\n",
      "     'KB_JB838_1908-03-31_01-00004.txt',\n",
      "     'KB_JB838_1908-04-16_01-00008.txt',\n",
      "     'KB_JB838_1908-05-03_01-00012.txt',\n",
      "     'KB_JB838_1908-05-10_01-00004.txt',\n",
      "     'KB_JB838_1908-05-10_01-00006.txt',\n",
      "     'KB_JB838_1908-05-15_01-00004.txt',\n",
      "     'KB_JB838_1908-05-22_01-00004.txt',\n",
      "     'KB_JB838_1908-06-29_01-00006.txt',\n",
      "     'KB_JB838_1908-07-02_01-00008.txt',\n",
      "     'KB_JB838_1908-07-23_01-00008.txt',\n",
      "     'KB_JB838_1908-09-06_01-00010.txt',\n",
      "     'KB_JB838_1908-09-25_01-00008.txt',\n",
      "     'KB_JB838_1908-11-13_01-00008.txt',\n",
      "     'KB_JB838_1908-11-21_01-00005.txt',\n",
      "     'KB_JB838_1908-12-03_01-00008.txt',\n",
      "     'KB_JB838_1908-12-08_01-00004.txt',\n",
      "     'KB_JB838_1908-12-10_01-00005.txt',\n",
      "     'KB_JB838_1909-01-11_01-00006.txt',\n",
      "     'KB_JB838_1909-02-13_01-00005.txt',\n",
      "     'KB_JB838_1909-02-18_01-00007.txt',\n",
      "     'KB_JB838_1909-02-19_01-00010.txt',\n",
      "     'KB_JB838_1909-02-24_01-00006.txt',\n",
      "     'KB_JB838_1909-03-18_01-00008.txt',\n",
      "     'KB_JB838_1909-04-09_01-00005.txt',\n",
      "     'KB_JB838_1909-05-05_01-00008.txt',\n",
      "     'KB_JB838_1909-06-19_01-00005.txt',\n",
      "     'KB_JB838_1909-09-16_01-00008.txt',\n",
      "     'KB_JB838_1909-10-14_01-00008.txt',\n",
      "     'KB_JB838_1909-10-16_01-00007.txt',\n",
      "     'KB_JB838_1909-10-27_02-00004.txt',\n",
      "     'KB_JB838_1909-11-14_01-00006.txt',\n",
      "     'KB_JB838_1909-11-17_01-00007.txt',\n",
      "     'KB_JB838_1909-11-26_01-00007.txt',\n",
      "     'KB_JB838_1909-11-30_01-00005.txt',\n",
      "     'KB_JB838_1909-12-11_01-00008.txt',\n",
      "     'KB_JB838_1909-12-17_01-00007.txt',\n",
      "     'KB_JB838_1909-12-17_01-00008.txt',\n",
      "     'KB_JB838_1909-12-19_01-00006.txt'],\n",
      " 1: ['KB_JB838_1900-01-18_01-00008.txt',\n",
      "     'KB_JB838_1900-04-26_01-00007.txt',\n",
      "     'KB_JB838_1900-07-08_01-00008.txt',\n",
      "     'KB_JB838_1900-07-27_01-00003.txt',\n",
      "     'KB_JB838_1900-09-20_01-00007.txt',\n",
      "     'KB_JB838_1900-09-26_01-00003.txt',\n",
      "     'KB_JB838_1900-10-05_01-00003.txt',\n",
      "     'KB_JB838_1900-11-18_01-00008.txt',\n",
      "     'KB_JB838_1900-11-22_01-00008.txt',\n",
      "     'KB_JB838_1900-11-26_01-00004.txt',\n",
      "     'KB_JB838_1900-12-09_01-00008.txt',\n",
      "     'KB_JB838_1901-03-26_01-00003.txt',\n",
      "     'KB_JB838_1901-04-16_01-00003.txt',\n",
      "     'KB_JB838_1901-04-18_01-00006.txt',\n",
      "     'KB_JB838_1901-04-27_01-00003.txt',\n",
      "     'KB_JB838_1901-04-28_01-00006.txt',\n",
      "     'KB_JB838_1901-05-05_01-00006.txt',\n",
      "     'KB_JB838_1901-06-27_01-00006.txt',\n",
      "     'KB_JB838_1901-06-28_01-00003.txt',\n",
      "     'KB_JB838_1901-10-04_01-00003.txt',\n",
      "     'KB_JB838_1901-10-22_01-00003.txt',\n",
      "     'KB_JB838_1902-01-17_01-00005.txt',\n",
      "     'KB_JB838_1902-03-30_01-00006.txt',\n",
      "     'KB_JB838_1902-04-03_01-00006.txt',\n",
      "     'KB_JB838_1902-04-23_01-00004.txt',\n",
      "     'KB_JB838_1902-04-27_01-00006.txt',\n",
      "     'KB_JB838_1902-05-22_01-00005.txt',\n",
      "     'KB_JB838_1902-06-16_01-00004.txt',\n",
      "     'KB_JB838_1902-07-01_01-00005.txt',\n",
      "     'KB_JB838_1902-07-29_01-00005.txt',\n",
      "     'KB_JB838_1902-08-16_01-00007.txt',\n",
      "     'KB_JB838_1902-09-26_01-00004.txt',\n",
      "     'KB_JB838_1902-10-12_01-00006.txt',\n",
      "     'KB_JB838_1902-10-26_01-00006.txt',\n",
      "     'KB_JB838_1902-11-04_01-00005.txt',\n",
      "     'KB_JB838_1903-01-08_01-00006.txt',\n",
      "     'KB_JB838_1903-01-26_01-00005.txt',\n",
      "     'KB_JB838_1903-02-02_01-00005.txt',\n",
      "     'KB_JB838_1903-03-23_01-00005.txt',\n",
      "     'KB_JB838_1903-04-02_01-00006.txt',\n",
      "     'KB_JB838_1903-04-19_01-00010.txt',\n",
      "     'KB_JB838_1903-04-24_01-00004.txt',\n",
      "     'KB_JB838_1903-08-16_01-00005.txt',\n",
      "     'KB_JB838_1903-09-24_01-00006.txt',\n",
      "     'KB_JB838_1903-11-20_01-00004.txt',\n",
      "     'KB_JB838_1904-02-11_01-00018.txt',\n",
      "     'KB_JB838_1904-03-19_01-00004.txt',\n",
      "     'KB_JB838_1904-04-29_01-00004.txt',\n",
      "     'KB_JB838_1904-05-16_01-00005.txt',\n",
      "     'KB_JB838_1904-10-14_01-00004.txt',\n",
      "     'KB_JB838_1904-12-08_01-00006.txt',\n",
      "     'KB_JB838_1905-02-11_01-00005.txt',\n",
      "     'KB_JB838_1905-02-23_01-00006.txt',\n",
      "     'KB_JB838_1905-03-09_01-00006.txt',\n",
      "     'KB_JB838_1905-03-29_01-00004.txt',\n",
      "     'KB_JB838_1905-04-23_01-00012.txt',\n",
      "     'KB_JB838_1905-06-01_01-00006.txt',\n",
      "     'KB_JB838_1905-08-07_01-00006.txt',\n",
      "     'KB_JB838_1905-10-18_01-00004.txt',\n",
      "     'KB_JB838_1905-11-20_01-00005.txt',\n",
      "     'KB_JB838_1906-05-30_01-00006.txt',\n",
      "     'KB_JB838_1906-07-02_01-00005.txt',\n",
      "     'KB_JB838_1906-08-16_01-00006.txt',\n",
      "     'KB_JB838_1907-03-30_01-00004.txt',\n",
      "     'KB_JB838_1907-04-18_01-00006.txt',\n",
      "     'KB_JB838_1907-05-04_01-00006.txt',\n",
      "     'KB_JB838_1907-09-12_01-00006.txt',\n",
      "     'KB_JB838_1908-01-18_01-00007.txt',\n",
      "     'KB_JB838_1908-03-05_02-00006.txt',\n",
      "     'KB_JB838_1908-03-29_01-00008.txt',\n",
      "     'KB_JB838_1908-05-06_01-00006.txt',\n",
      "     'KB_JB838_1908-06-21_01-00009.txt',\n",
      "     'KB_JB838_1908-06-24_01-00006.txt',\n",
      "     'KB_JB838_1908-10-22_01-00005.txt',\n",
      "     'KB_JB838_1909-01-06_01-00006.txt',\n",
      "     'KB_JB838_1909-01-11_01-00004.txt',\n",
      "     'KB_JB838_1909-03-01_01-00014.txt',\n",
      "     'KB_JB838_1909-06-05_01-00006.txt',\n",
      "     'KB_JB838_1909-06-18_01-00005.txt',\n",
      "     'KB_JB838_1909-06-28_01-00005.txt',\n",
      "     'KB_JB838_1909-10-16_01-00005.txt',\n",
      "     'KB_JB838_1909-10-27_01-00005.txt',\n",
      "     'KB_JB838_1909-11-17_01-00005.txt',\n",
      "     'KB_JB838_1909-11-19_01-00006.txt',\n",
      "     'KB_JB838_1909-12-17_02-00005.txt'],\n",
      " 2: ['KB_JB838_1900-01-02_01-00002.txt',\n",
      "     'KB_JB838_1900-01-08_01-00003.txt',\n",
      "     'KB_JB838_1900-01-28_01-00002.txt',\n",
      "     'KB_JB838_1900-01-29_01-00003.txt',\n",
      "     'KB_JB838_1900-02-09_01-00001.txt',\n",
      "     'KB_JB838_1900-02-12_01-00001.txt',\n",
      "     'KB_JB838_1900-02-13_01-00002.txt',\n",
      "     'KB_JB838_1900-02-18_01-00002.txt',\n",
      "     'KB_JB838_1900-02-22_01-00006.txt',\n",
      "     'KB_JB838_1900-02-24_01-00005.txt',\n",
      "     'KB_JB838_1900-02-25_01-00002.txt',\n",
      "     'KB_JB838_1900-03-11_01-00006.txt',\n",
      "     'KB_JB838_1900-03-21_01-00002.txt',\n",
      "     'KB_JB838_1900-03-27_01-00001.txt',\n",
      "     'KB_JB838_1900-03-28_01-00001.txt',\n",
      "     'KB_JB838_1900-03-31_01-00002.txt',\n",
      "     'KB_JB838_1900-04-23_01-00001.txt',\n",
      "     'KB_JB838_1900-04-26_01-00005.txt',\n",
      "     'KB_JB838_1900-04-30_01-00001.txt',\n",
      "     'KB_JB838_1900-05-05_01-00003.txt',\n",
      "     'KB_JB838_1900-05-21_01-00001.txt',\n",
      "     'KB_JB838_1900-06-06_01-00001.txt',\n",
      "     'KB_JB838_1900-06-13_01-00001.txt',\n",
      "     'KB_JB838_1900-06-14_01-00001.txt',\n",
      "     'KB_JB838_1900-06-16_01-00004.txt',\n",
      "     'KB_JB838_1900-06-20_01-00001.txt',\n",
      "     'KB_JB838_1900-06-27_01-00002.txt',\n",
      "     'KB_JB838_1900-06-29_01-00002.txt',\n",
      "     'KB_JB838_1900-07-07_01-00003.txt',\n",
      "     'KB_JB838_1900-07-08_01-00006.txt',\n",
      "     'KB_JB838_1900-07-21_01-00005.txt',\n",
      "     'KB_JB838_1900-07-29_01-00002.txt',\n",
      "     'KB_JB838_1900-07-30_01-00003.txt',\n",
      "     'KB_JB838_1900-08-01_01-00001.txt',\n",
      "     'KB_JB838_1900-08-03_01-00001.txt',\n",
      "     'KB_JB838_1900-08-04_01-00002.txt',\n",
      "     'KB_JB838_1900-08-15_01-00001.txt',\n",
      "     'KB_JB838_1900-08-16_01-00001.txt',\n",
      "     'KB_JB838_1900-08-19_01-00001.txt',\n",
      "     'KB_JB838_1900-08-28_01-00002.txt',\n",
      "     'KB_JB838_1900-08-30_01-00002.txt',\n",
      "     'KB_JB838_1900-09-10_01-00002.txt',\n",
      "     'KB_JB838_1900-09-20_01-00005.txt',\n",
      "     'KB_JB838_1900-09-30_01-00001.txt',\n",
      "     'KB_JB838_1900-10-01_01-00001.txt',\n",
      "     'KB_JB838_1900-10-14_01-00002.txt',\n",
      "     'KB_JB838_1900-10-19_01-00001.txt',\n",
      "     'KB_JB838_1900-10-27_01-00001.txt',\n",
      "     'KB_JB838_1900-10-30_01-00002.txt',\n",
      "     'KB_JB838_1900-11-06_01-00002.txt',\n",
      "     'KB_JB838_1900-11-17_01-00001.txt',\n",
      "     'KB_JB838_1900-11-29_01-00006.txt',\n",
      "     'KB_JB838_1900-12-13_01-00002.txt',\n",
      "     'KB_JB838_1900-12-21_01-00003.txt',\n",
      "     'KB_JB838_1900-12-26_01-00005.txt',\n",
      "     'KB_JB838_1901-01-02_01-00007.txt',\n",
      "     'KB_JB838_1901-01-06_01-00005.txt',\n",
      "     'KB_JB838_1901-01-13_01-00004.txt',\n",
      "     'KB_JB838_1901-01-20_01-00002.txt',\n",
      "     'KB_JB838_1901-02-03_01-00002.txt',\n",
      "     'KB_JB838_1901-02-15_01-00002.txt',\n",
      "     'KB_JB838_1901-03-18_01-00001.txt',\n",
      "     'KB_JB838_1901-03-21_01-00001.txt',\n",
      "     'KB_JB838_1901-03-24_01-00003.txt',\n",
      "     'KB_JB838_1901-04-01_01-00003.txt',\n",
      "     'KB_JB838_1901-04-04_01-00002.txt',\n",
      "     'KB_JB838_1901-04-06_01-00001.txt',\n",
      "     'KB_JB838_1901-04-10_01-00002.txt',\n",
      "     'KB_JB838_1901-04-16_01-00002.txt',\n",
      "     'KB_JB838_1901-04-18_01-00004.txt',\n",
      "     'KB_JB838_1901-05-11_01-00003.txt',\n",
      "     'KB_JB838_1901-05-16_01-00001.txt',\n",
      "     'KB_JB838_1901-05-24_01-00002.txt',\n",
      "     'KB_JB838_1901-05-30_01-00002.txt',\n",
      "     'KB_JB838_1901-05-31_01-00001.txt',\n",
      "     'KB_JB838_1901-06-05_01-00001.txt',\n",
      "     'KB_JB838_1901-06-05_01-00004.txt',\n",
      "     'KB_JB838_1901-06-17_01-00002.txt',\n",
      "     'KB_JB838_1901-06-21_01-00001.txt',\n",
      "     'KB_JB838_1901-06-28_01-00001.txt',\n",
      "     'KB_JB838_1901-06-29_01-00001.txt',\n",
      "     'KB_JB838_1901-07-04_01-00002.txt',\n",
      "     'KB_JB838_1901-07-22_01-00002.txt',\n",
      "     'KB_JB838_1901-08-09_01-00001.txt',\n",
      "     'KB_JB838_1901-08-25_01-00001.txt',\n",
      "     'KB_JB838_1901-09-11_01-00001.txt',\n",
      "     'KB_JB838_1901-09-14_01-00002.txt',\n",
      "     'KB_JB838_1901-09-15_01-00005.txt',\n",
      "     'KB_JB838_1901-09-16_01-00003.txt',\n",
      "     'KB_JB838_1901-09-18_01-00001.txt',\n",
      "     'KB_JB838_1901-10-05_01-00003.txt',\n",
      "     'KB_JB838_1901-10-10_01-00001.txt',\n",
      "     'KB_JB838_1901-10-12_01-00001.txt',\n",
      "     'KB_JB838_1901-10-22_01-00001.txt',\n",
      "     'KB_JB838_1901-10-24_01-00005.txt',\n",
      "     'KB_JB838_1901-11-13_01-00001.txt',\n",
      "     'KB_JB838_1901-11-18_01-00002.txt',\n",
      "     'KB_JB838_1901-11-20_01-00001.txt',\n",
      "     'KB_JB838_1901-12-17_01-00003.txt',\n",
      "     'KB_JB838_1901-12-31_01-00004.txt',\n",
      "     'KB_JB838_1902-01-01_01-00004.txt',\n",
      "     'KB_JB838_1902-01-02_01-00003.txt',\n",
      "     'KB_JB838_1902-01-04_01-00003.txt',\n",
      "     'KB_JB838_1902-01-04_01-00004.txt',\n",
      "     'KB_JB838_1902-01-16_01-00004.txt',\n",
      "     'KB_JB838_1902-01-18_01-00002.txt',\n",
      "     'KB_JB838_1902-01-28_01-00002.txt',\n",
      "     'KB_JB838_1902-01-29_01-00002.txt',\n",
      "     'KB_JB838_1902-01-30_01-00004.txt',\n",
      "     'KB_JB838_1902-02-04_01-00001.txt',\n",
      "     'KB_JB838_1902-02-07_01-00002.txt',\n",
      "     'KB_JB838_1902-02-13_01-00001.txt',\n",
      "     'KB_JB838_1902-02-13_01-00004.txt',\n",
      "     'KB_JB838_1902-02-27_01-00003.txt',\n",
      "     'KB_JB838_1902-02-27_01-00006.txt',\n",
      "     'KB_JB838_1902-03-24_01-00001.txt',\n",
      "     'KB_JB838_1902-03-27_01-00006.txt',\n",
      "     'KB_JB838_1902-04-02_01-00002.txt',\n",
      "     'KB_JB838_1902-04-06_01-00002.txt',\n",
      "     'KB_JB838_1902-04-13_01-00001.txt',\n",
      "     'KB_JB838_1902-04-21_01-00002.txt',\n",
      "     'KB_JB838_1902-04-24_01-00003.txt',\n",
      "     'KB_JB838_1902-06-10_01-00003.txt',\n",
      "     'KB_JB838_1902-06-17_01-00002.txt',\n",
      "     'KB_JB838_1902-06-19_01-00004.txt',\n",
      "     'KB_JB838_1902-07-04_01-00002.txt',\n",
      "     'KB_JB838_1902-07-10_01-00005.txt',\n",
      "     'KB_JB838_1902-07-30_01-00004.txt',\n",
      "     'KB_JB838_1902-08-04_01-00003.txt',\n",
      "     'KB_JB838_1902-08-14_01-00002.txt',\n",
      "     'KB_JB838_1902-08-21_01-00001.txt',\n",
      "     'KB_JB838_1902-08-26_01-00003.txt',\n",
      "     'KB_JB838_1902-08-28_01-00004.txt',\n",
      "     'KB_JB838_1902-09-07_01-00001.txt',\n",
      "     'KB_JB838_1902-09-25_01-00001.txt',\n",
      "     'KB_JB838_1902-09-29_01-00003.txt',\n",
      "     'KB_JB838_1902-10-01_01-00002.txt',\n",
      "     'KB_JB838_1902-10-08_01-00001.txt',\n",
      "     'KB_JB838_1902-10-14_01-00001.txt',\n",
      "     'KB_JB838_1902-10-18_01-00002.txt',\n",
      "     'KB_JB838_1902-10-20_01-00001.txt',\n",
      "     'KB_JB838_1902-10-25_01-00001.txt',\n",
      "     'KB_JB838_1902-11-11_01-00002.txt',\n",
      "     'KB_JB838_1902-11-12_01-00001.txt',\n",
      "     'KB_JB838_1902-11-13_01-00002.txt',\n",
      "     'KB_JB838_1902-12-15_01-00002.txt',\n",
      "     'KB_JB838_1902-12-20_01-00002.txt',\n",
      "     'KB_JB838_1902-12-21_01-00003.txt',\n",
      "     'KB_JB838_1902-12-24_01-00003.txt',\n",
      "     'KB_JB838_1902-12-28_01-00004.txt',\n",
      "     'KB_JB838_1902-12-29_01-00003.txt',\n",
      "     'KB_JB838_1903-01-10_01-00002.txt',\n",
      "     'KB_JB838_1903-01-13_01-00001.txt',\n",
      "     'KB_JB838_1903-01-16_01-00002.txt',\n",
      "     'KB_JB838_1903-01-25_01-00001.txt',\n",
      "     'KB_JB838_1903-02-02_01-00001.txt',\n",
      "     'KB_JB838_1903-02-03_01-00003.txt',\n",
      "     'KB_JB838_1903-02-05_01-00002.txt',\n",
      "     'KB_JB838_1903-02-18_01-00001.txt',\n",
      "     'KB_JB838_1903-04-02_01-00003.txt',\n",
      "     'KB_JB838_1903-04-20_01-00001.txt',\n",
      "     'KB_JB838_1903-04-21_01-00001.txt',\n",
      "     'KB_JB838_1903-04-21_01-00002.txt',\n",
      "     'KB_JB838_1903-04-26_01-00002.txt',\n",
      "     'KB_JB838_1903-04-27_01-00001.txt',\n",
      "     'KB_JB838_1903-04-27_01-00002.txt',\n",
      "     'KB_JB838_1903-04-29_01-00001.txt',\n",
      "     'KB_JB838_1903-05-07_01-00004.txt',\n",
      "     'KB_JB838_1903-05-11_01-00002.txt',\n",
      "     'KB_JB838_1903-05-14_01-00002.txt',\n",
      "     'KB_JB838_1903-05-17_01-00004.txt',\n",
      "     'KB_JB838_1903-05-20_01-00002.txt',\n",
      "     'KB_JB838_1903-05-27_01-00004.txt',\n",
      "     'KB_JB838_1903-05-29_01-00004.txt',\n",
      "     'KB_JB838_1903-06-07_01-00003.txt',\n",
      "     'KB_JB838_1903-06-09_01-00002.txt',\n",
      "     'KB_JB838_1903-06-09_01-00003.txt',\n",
      "     'KB_JB838_1903-06-12_01-00001.txt',\n",
      "     'KB_JB838_1903-06-14_01-00004.txt',\n",
      "     'KB_JB838_1903-06-17_01-00001.txt',\n",
      "     'KB_JB838_1903-06-17_01-00002.txt',\n",
      "     'KB_JB838_1903-07-13_01-00003.txt',\n",
      "     'KB_JB838_1903-07-23_01-00001.txt',\n",
      "     'KB_JB838_1903-07-26_01-00004.txt',\n",
      "     'KB_JB838_1903-07-30_01-00003.txt',\n",
      "     'KB_JB838_1903-07-31_01-00002.txt',\n",
      "     'KB_JB838_1903-08-09_01-00004.txt',\n",
      "     'KB_JB838_1903-08-22_01-00001.txt',\n",
      "     'KB_JB838_1903-08-23_01-00001.txt',\n",
      "     'KB_JB838_1903-08-30_01-00004.txt',\n",
      "     'KB_JB838_1903-10-22_01-00001.txt',\n",
      "     'KB_JB838_1903-11-08_01-00003.txt',\n",
      "     'KB_JB838_1903-11-08_01-00005.txt',\n",
      "     'KB_JB838_1903-11-12_01-00001.txt',\n",
      "     'KB_JB838_1903-11-13_01-00003.txt',\n",
      "     'KB_JB838_1903-11-15_01-00002.txt',\n",
      "     'KB_JB838_1903-12-04_01-00002.txt',\n",
      "     'KB_JB838_1903-12-10_01-00001.txt',\n",
      "     'KB_JB838_1903-12-16_01-00002.txt',\n",
      "     'KB_JB838_1903-12-17_01-00003.txt',\n",
      "     'KB_JB838_1903-12-18_01-00002.txt',\n",
      "     'KB_JB838_1904-01-06_01-00003.txt',\n",
      "     'KB_JB838_1904-01-16_01-00003.txt',\n",
      "     'KB_JB838_1904-01-31_01-00005.txt',\n",
      "     'KB_JB838_1904-02-03_01-00003.txt',\n",
      "     'KB_JB838_1904-02-12_01-00008.txt',\n",
      "     'KB_JB838_1904-03-09_01-00002.txt',\n",
      "     'KB_JB838_1904-03-16_01-00001.txt',\n",
      "     'KB_JB838_1904-03-23_01-00002.txt',\n",
      "     'KB_JB838_1904-04-02_01-00001.txt',\n",
      "     'KB_JB838_1904-04-10_01-00003.txt',\n",
      "     'KB_JB838_1904-04-10_01-00006.txt',\n",
      "     'KB_JB838_1904-04-17_01-00001.txt',\n",
      "     'KB_JB838_1904-05-09_01-00001.txt',\n",
      "     'KB_JB838_1904-05-15_01-00005.txt',\n",
      "     'KB_JB838_1904-06-01_01-00002.txt',\n",
      "     'KB_JB838_1904-07-08_01-00004.txt',\n",
      "     'KB_JB838_1904-07-17_01-00003.txt',\n",
      "     'KB_JB838_1904-07-23_01-00002.txt',\n",
      "     'KB_JB838_1904-08-09_01-00003.txt',\n",
      "     'KB_JB838_1904-08-11_01-00002.txt',\n",
      "     'KB_JB838_1904-08-14_01-00001.txt',\n",
      "     'KB_JB838_1904-08-18_01-00002.txt',\n",
      "     'KB_JB838_1904-08-23_01-00003.txt',\n",
      "     'KB_JB838_1904-08-25_01-00002.txt',\n",
      "     'KB_JB838_1904-10-01_01-00001.txt',\n",
      "     'KB_JB838_1904-10-12_01-00003.txt',\n",
      "     'KB_JB838_1904-10-26_01-00001.txt',\n",
      "     'KB_JB838_1904-10-28_01-00002.txt',\n",
      "     'KB_JB838_1904-11-07_01-00002.txt',\n",
      "     'KB_JB838_1904-11-10_01-00001.txt',\n",
      "     'KB_JB838_1904-11-13_01-00006.txt',\n",
      "     'KB_JB838_1904-11-18_01-00002.txt',\n",
      "     'KB_JB838_1904-12-01_01-00001.txt',\n",
      "     'KB_JB838_1904-12-01_01-00010.txt',\n",
      "     'KB_JB838_1904-12-05_01-00002.txt',\n",
      "     'KB_JB838_1904-12-06_01-00003.txt',\n",
      "     'KB_JB838_1904-12-07_01-00001.txt',\n",
      "     'KB_JB838_1904-12-16_01-00002.txt',\n",
      "     'KB_JB838_1904-12-17_01-00003.txt',\n",
      "     'KB_JB838_1904-12-21_01-00007.txt',\n",
      "     'KB_JB838_1904-12-22_01-00009.txt',\n",
      "     'KB_JB838_1904-12-24_01-00003.txt',\n",
      "     'KB_JB838_1904-12-28_01-00003.txt',\n",
      "     'KB_JB838_1905-01-23_01-00001.txt',\n",
      "     'KB_JB838_1905-02-01_01-00002.txt',\n",
      "     'KB_JB838_1905-02-04_01-00001.txt',\n",
      "     'KB_JB838_1905-02-07_01-00001.txt',\n",
      "     'KB_JB838_1905-02-20_01-00002.txt',\n",
      "     'KB_JB838_1905-02-26_01-00004.txt',\n",
      "     'KB_JB838_1905-03-03_01-00001.txt',\n",
      "     'KB_JB838_1905-03-05_01-00002.txt',\n",
      "     'KB_JB838_1905-03-10_01-00001.txt',\n",
      "     'KB_JB838_1905-03-21_01-00002.txt',\n",
      "     'KB_JB838_1905-03-22_01-00002.txt',\n",
      "     'KB_JB838_1905-03-26_01-00006.txt',\n",
      "     'KB_JB838_1905-03-29_01-00001.txt',\n",
      "     'KB_JB838_1905-04-06_01-00001.txt',\n",
      "     'KB_JB838_1905-04-08_01-00001.txt',\n",
      "     'KB_JB838_1905-06-02_01-00001.txt',\n",
      "     'KB_JB838_1905-06-15_01-00002.txt',\n",
      "     'KB_JB838_1905-07-05_01-00002.txt',\n",
      "     'KB_JB838_1905-07-06_01-00001.txt',\n",
      "     'KB_JB838_1905-07-10_01-00001.txt',\n",
      "     'KB_JB838_1905-07-13_01-00003.txt',\n",
      "     'KB_JB838_1905-07-17_01-00001.txt',\n",
      "     'KB_JB838_1905-08-07_01-00003.txt',\n",
      "     'KB_JB838_1905-08-16_01-00001.txt',\n",
      "     'KB_JB838_1905-08-16_01-00004.txt',\n",
      "     'KB_JB838_1905-08-18_01-00001.txt',\n",
      "     'KB_JB838_1905-08-20_01-00002.txt',\n",
      "     'KB_JB838_1905-08-31_01-00001.txt',\n",
      "     'KB_JB838_1905-09-03_01-00004.txt',\n",
      "     'KB_JB838_1905-09-16_01-00003.txt',\n",
      "     'KB_JB838_1905-09-17_01-00002.txt',\n",
      "     'KB_JB838_1905-09-28_01-00005.txt',\n",
      "     'KB_JB838_1905-10-12_01-00002.txt',\n",
      "     'KB_JB838_1905-10-18_01-00002.txt',\n",
      "     'KB_JB838_1905-11-01_01-00001.txt',\n",
      "     'KB_JB838_1905-11-12_01-00005.txt',\n",
      "     'KB_JB838_1905-11-17_01-00001.txt',\n",
      "     'KB_JB838_1905-11-21_01-00001.txt',\n",
      "     'KB_JB838_1905-11-26_01-00001.txt',\n",
      "     'KB_JB838_1905-11-26_01-00004.txt',\n",
      "     'KB_JB838_1905-12-07_01-00004.txt',\n",
      "     'KB_JB838_1905-12-10_01-00003.txt',\n",
      "     'KB_JB838_1905-12-20_01-00002.txt',\n",
      "     'KB_JB838_1905-12-21_01-00001.txt',\n",
      "     'KB_JB838_1905-12-21_01-00003.txt',\n",
      "     'KB_JB838_1905-12-22_01-00002.txt',\n",
      "     'KB_JB838_1906-01-05_01-00001.txt',\n",
      "     'KB_JB838_1906-01-10_01-00003.txt',\n",
      "     'KB_JB838_1906-01-14_01-00007.txt',\n",
      "     'KB_JB838_1906-01-22_01-00001.txt',\n",
      "     'KB_JB838_1906-01-23_01-00002.txt',\n",
      "     'KB_JB838_1906-02-02_01-00002.txt',\n",
      "     'KB_JB838_1906-02-03_01-00001.txt',\n",
      "     'KB_JB838_1906-02-15_01-00001.txt',\n",
      "     'KB_JB838_1906-02-21_01-00003.txt',\n",
      "     'KB_JB838_1906-03-01_01-00001.txt',\n",
      "     'KB_JB838_1906-03-17_01-00002.txt',\n",
      "     'KB_JB838_1906-03-22_01-00003.txt',\n",
      "     'KB_JB838_1906-04-01_01-00002.txt',\n",
      "     'KB_JB838_1906-04-29_01-00004.txt',\n",
      "     'KB_JB838_1906-05-05_01-00001.txt',\n",
      "     'KB_JB838_1906-05-05_01-00002.txt',\n",
      "     'KB_JB838_1906-05-13_01-00002.txt',\n",
      "     'KB_JB838_1906-05-21_01-00002.txt',\n",
      "     'KB_JB838_1906-05-25_01-00003.txt',\n",
      "     'KB_JB838_1906-06-04_01-00001.txt',\n",
      "     'KB_JB838_1906-06-09_01-00002.txt',\n",
      "     'KB_JB838_1906-06-09_01-00003.txt',\n",
      "     'KB_JB838_1906-06-27_01-00003.txt',\n",
      "     'KB_JB838_1906-06-27_01-00004.txt',\n",
      "     'KB_JB838_1906-07-02_01-00001.txt',\n",
      "     'KB_JB838_1906-07-08_01-00001.txt',\n",
      "     'KB_JB838_1906-07-15_01-00003.txt',\n",
      "     'KB_JB838_1906-07-23_01-00007.txt',\n",
      "     'KB_JB838_1906-08-03_01-00003.txt',\n",
      "     'KB_JB838_1906-08-10_01-00002.txt',\n",
      "     'KB_JB838_1906-08-13_01-00004.txt',\n",
      "     'KB_JB838_1906-08-19_01-00003.txt',\n",
      "     'KB_JB838_1906-08-21_01-00003.txt',\n",
      "     'KB_JB838_1906-08-23_01-00002.txt',\n",
      "     'KB_JB838_1906-08-27_01-00004.txt',\n",
      "     'KB_JB838_1906-09-06_01-00001.txt',\n",
      "     'KB_JB838_1906-09-06_01-00004.txt',\n",
      "     'KB_JB838_1906-10-05_01-00001.txt',\n",
      "     'KB_JB838_1906-10-22_01-00001.txt',\n",
      "     'KB_JB838_1906-10-30_01-00002.txt',\n",
      "     'KB_JB838_1906-10-31_01-00003.txt',\n",
      "     'KB_JB838_1906-11-02_01-00001.txt',\n",
      "     'KB_JB838_1906-11-05_01-00002.txt',\n",
      "     'KB_JB838_1906-11-14_01-00001.txt',\n",
      "     'KB_JB838_1906-12-03_01-00001.txt',\n",
      "     'KB_JB838_1906-12-14_01-00003.txt',\n",
      "     'KB_JB838_1906-12-15_01-00003.txt',\n",
      "     'KB_JB838_1906-12-20_01-00002.txt',\n",
      "     'KB_JB838_1906-12-24_01-00002.txt',\n",
      "     'KB_JB838_1906-12-26_01-00003.txt',\n",
      "     'KB_JB838_1906-12-29_01-00003.txt',\n",
      "     'KB_JB838_1906-12-31_01-00006.txt',\n",
      "     'KB_JB838_1907-01-06_01-00001.txt',\n",
      "     'KB_JB838_1907-01-23_01-00002.txt',\n",
      "     'KB_JB838_1907-01-23_01-00004.txt',\n",
      "     'KB_JB838_1907-01-26_02-00003.txt',\n",
      "     'KB_JB838_1907-01-28_01-00001.txt',\n",
      "     'KB_JB838_1907-02-16_01-00004.txt',\n",
      "     'KB_JB838_1907-02-20_01-00003.txt',\n",
      "     'KB_JB838_1907-02-20_01-00004.txt',\n",
      "     'KB_JB838_1907-03-08_01-00001.txt',\n",
      "     'KB_JB838_1907-03-09_01-00001.txt',\n",
      "     'KB_JB838_1907-03-10_01-00005.txt',\n",
      "     'KB_JB838_1907-03-11_01-00001.txt',\n",
      "     'KB_JB838_1907-03-11_01-00003.txt',\n",
      "     'KB_JB838_1907-04-28_01-00004.txt',\n",
      "     'KB_JB838_1907-04-29_01-00001.txt',\n",
      "     'KB_JB838_1907-05-04_01-00005.txt',\n",
      "     'KB_JB838_1907-05-06_01-00002.txt',\n",
      "     'KB_JB838_1907-05-13_01-00001.txt',\n",
      "     'KB_JB838_1907-05-13_01-00003.txt',\n",
      "     'KB_JB838_1907-05-14_01-00003.txt',\n",
      "     'KB_JB838_1907-05-17_01-00002.txt',\n",
      "     'KB_JB838_1907-05-28_01-00003.txt',\n",
      "     'KB_JB838_1907-05-31_01-00003.txt',\n",
      "     'KB_JB838_1907-06-11_01-00002.txt',\n",
      "     'KB_JB838_1907-06-21_01-00003.txt',\n",
      "     'KB_JB838_1907-06-23_01-00002.txt',\n",
      "     'KB_JB838_1907-07-20_01-00003.txt',\n",
      "     'KB_JB838_1907-08-04_01-00002.txt',\n",
      "     'KB_JB838_1907-08-09_01-00001.txt',\n",
      "     'KB_JB838_1907-08-18_01-00002.txt',\n",
      "     'KB_JB838_1907-08-18_01-00008.txt',\n",
      "     'KB_JB838_1907-08-23_01-00001.txt',\n",
      "     'KB_JB838_1907-08-25_01-00001.txt',\n",
      "     'KB_JB838_1907-08-27_01-00003.txt',\n",
      "     'KB_JB838_1907-09-01_01-00008.txt',\n",
      "     'KB_JB838_1907-09-15_01-00003.txt',\n",
      "     'KB_JB838_1907-09-23_01-00003.txt',\n",
      "     'KB_JB838_1907-10-04_01-00002.txt',\n",
      "     'KB_JB838_1907-10-28_01-00001.txt',\n",
      "     'KB_JB838_1907-11-05_01-00001.txt',\n",
      "     'KB_JB838_1907-11-07_01-00002.txt',\n",
      "     'KB_JB838_1907-11-18_01-00003.txt',\n",
      "     'KB_JB838_1907-11-19_01-00001.txt',\n",
      "     'KB_JB838_1907-11-28_01-00002.txt',\n",
      "     'KB_JB838_1907-11-28_01-00003.txt',\n",
      "     'KB_JB838_1907-12-01_01-00002.txt',\n",
      "     'KB_JB838_1907-12-13_01-00003.txt',\n",
      "     'KB_JB838_1907-12-21_01-00002.txt',\n",
      "     'KB_JB838_1907-12-29_01-00005.txt',\n",
      "     'KB_JB838_1908-01-05_01-00002.txt',\n",
      "     'KB_JB838_1908-01-17_01-00002.txt',\n",
      "     'KB_JB838_1908-01-20_01-00001.txt',\n",
      "     'KB_JB838_1908-01-31_01-00001.txt',\n",
      "     'KB_JB838_1908-02-03_01-00003.txt',\n",
      "     'KB_JB838_1908-02-06_01-00004.txt',\n",
      "     'KB_JB838_1908-02-07_01-00002.txt',\n",
      "     'KB_JB838_1908-02-09_01-00004.txt',\n",
      "     'KB_JB838_1908-02-11_01-00003.txt',\n",
      "     'KB_JB838_1908-02-15_01-00001.txt',\n",
      "     'KB_JB838_1908-02-28_01-00001.txt',\n",
      "     'KB_JB838_1908-02-28_01-00002.txt',\n",
      "     'KB_JB838_1908-03-05_01-00004.txt',\n",
      "     'KB_JB838_1908-03-08_01-00005.txt',\n",
      "     'KB_JB838_1908-03-11_01-00003.txt',\n",
      "     'KB_JB838_1908-03-17_01-00002.txt',\n",
      "     'KB_JB838_1908-03-20_01-00004.txt',\n",
      "     'KB_JB838_1908-03-22_01-00003.txt',\n",
      "     'KB_JB838_1908-03-31_01-00002.txt',\n",
      "     'KB_JB838_1908-04-02_01-00002.txt',\n",
      "     'KB_JB838_1908-04-04_01-00003.txt',\n",
      "     'KB_JB838_1908-04-09_01-00003.txt',\n",
      "     'KB_JB838_1908-04-15_01-00002.txt',\n",
      "     'KB_JB838_1908-04-24_01-00003.txt',\n",
      "     'KB_JB838_1908-04-26_01-00005.txt',\n",
      "     'KB_JB838_1908-04-28_01-00001.txt',\n",
      "     'KB_JB838_1908-05-09_01-00003.txt',\n",
      "     'KB_JB838_1908-05-10_01-00005.txt',\n",
      "     'KB_JB838_1908-05-15_01-00003.txt',\n",
      "     'KB_JB838_1908-05-27_01-00004.txt',\n",
      "     'KB_JB838_1908-06-21_01-00001.txt',\n",
      "     'KB_JB838_1908-07-11_01-00001.txt',\n",
      "     'KB_JB838_1908-07-17_01-00004.txt',\n",
      "     'KB_JB838_1908-07-18_01-00001.txt',\n",
      "     'KB_JB838_1908-07-27_01-00001.txt',\n",
      "     'KB_JB838_1908-08-19_01-00002.txt',\n",
      "     'KB_JB838_1908-08-19_01-00004.txt',\n",
      "     'KB_JB838_1908-09-05_01-00002.txt',\n",
      "     'KB_JB838_1908-09-09_01-00001.txt',\n",
      "     'KB_JB838_1908-09-17_01-00003.txt',\n",
      "     'KB_JB838_1908-10-18_01-00005.txt',\n",
      "     'KB_JB838_1908-11-27_01-00001.txt',\n",
      "     'KB_JB838_1908-12-04_01-00004.txt',\n",
      "     'KB_JB838_1909-01-04_01-00003.txt',\n",
      "     'KB_JB838_1909-01-10_01-00007.txt',\n",
      "     'KB_JB838_1909-01-14_01-00004.txt',\n",
      "     'KB_JB838_1909-01-22_01-00001.txt',\n",
      "     'KB_JB838_1909-01-23_01-00002.txt',\n",
      "     'KB_JB838_1909-02-02_01-00002.txt',\n",
      "     'KB_JB838_1909-02-03_01-00003.txt',\n",
      "     'KB_JB838_1909-02-05_01-00001.txt',\n",
      "     'KB_JB838_1909-02-11_01-00004.txt',\n",
      "     'KB_JB838_1909-02-20_01-00003.txt',\n",
      "     'KB_JB838_1909-02-27_01-00004.txt',\n",
      "     'KB_JB838_1909-03-04_01-00004.txt',\n",
      "     'KB_JB838_1909-03-07_01-00003.txt',\n",
      "     'KB_JB838_1909-03-10_01-00003.txt',\n",
      "     'KB_JB838_1909-03-14_01-00002.txt',\n",
      "     'KB_JB838_1909-03-14_01-00009.txt',\n",
      "     'KB_JB838_1909-03-25_01-00002.txt',\n",
      "     'KB_JB838_1909-04-11_01-00001.txt',\n",
      "     'KB_JB838_1909-04-29_01-00003.txt',\n",
      "     'KB_JB838_1909-05-26_01-00001.txt',\n",
      "     'KB_JB838_1909-05-29_01-00003.txt',\n",
      "     'KB_JB838_1909-06-08_01-00001.txt',\n",
      "     'KB_JB838_1909-06-13_01-00001.txt',\n",
      "     'KB_JB838_1909-06-27_01-00001.txt',\n",
      "     'KB_JB838_1909-06-29_01-00001.txt',\n",
      "     'KB_JB838_1909-06-29_01-00003.txt',\n",
      "     'KB_JB838_1909-07-01_01-00003.txt',\n",
      "     'KB_JB838_1909-07-04_01-00004.txt',\n",
      "     'KB_JB838_1909-07-05_01-00001.txt',\n",
      "     'KB_JB838_1909-07-09_01-00001.txt',\n",
      "     'KB_JB838_1909-07-09_01-00002.txt',\n",
      "     'KB_JB838_1909-07-28_02-00003.txt',\n",
      "     'KB_JB838_1909-07-29_01-00003.txt',\n",
      "     'KB_JB838_1909-08-01_01-00001.txt',\n",
      "     'KB_JB838_1909-08-29_01-00004.txt',\n",
      "     'KB_JB838_1909-09-03_01-00001.txt',\n",
      "     'KB_JB838_1909-09-04_01-00003.txt',\n",
      "     'KB_JB838_1909-09-25_01-00001.txt',\n",
      "     'KB_JB838_1909-09-27_01-00002.txt',\n",
      "     'KB_JB838_1909-10-02_01-00004.txt',\n",
      "     'KB_JB838_1909-10-05_01-00002.txt',\n",
      "     'KB_JB838_1909-10-30_01-00002.txt',\n",
      "     'KB_JB838_1909-11-01_01-00002.txt',\n",
      "     'KB_JB838_1909-11-16_01-00002.txt',\n",
      "     'KB_JB838_1909-11-25_01-00003.txt',\n",
      "     'KB_JB838_1909-11-29_01-00001.txt',\n",
      "     'KB_JB838_1909-12-12_01-00002.txt',\n",
      "     'KB_JB838_1909-12-26_01-00001.txt',\n",
      "     'KB_JB838_1909-12-31_01-00001.txt'],\n",
      " 3: ['KB_JB838_1900-01-07_01-00007.txt',\n",
      "     'KB_JB838_1900-05-27_01-00006.txt',\n",
      "     'KB_JB838_1900-06-10_01-00006.txt',\n",
      "     'KB_JB838_1900-08-05_01-00003.txt',\n",
      "     'KB_JB838_1900-08-26_01-00003.txt',\n",
      "     'KB_JB838_1900-09-16_01-00003.txt',\n",
      "     'KB_JB838_1900-11-25_01-00007.txt',\n",
      "     'KB_JB838_1900-12-02_01-00007.txt',\n",
      "     'KB_JB838_1900-12-03_01-00003.txt',\n",
      "     'KB_JB838_1901-02-03_01-00005.txt',\n",
      "     'KB_JB838_1901-02-17_01-00004.txt',\n",
      "     'KB_JB838_1901-04-21_01-00005.txt',\n",
      "     'KB_JB838_1901-06-23_01-00004.txt',\n",
      "     'KB_JB838_1901-06-30_01-00005.txt',\n",
      "     'KB_JB838_1901-11-04_01-00003.txt',\n",
      "     'KB_JB838_1901-12-09_01-00003.txt',\n",
      "     'KB_JB838_1902-02-09_01-00006.txt',\n",
      "     'KB_JB838_1902-02-23_01-00006.txt',\n",
      "     'KB_JB838_1902-03-16_01-00005.txt',\n",
      "     'KB_JB838_1902-03-30_01-00005.txt',\n",
      "     'KB_JB838_1902-06-22_01-00004.txt',\n",
      "     'KB_JB838_1902-11-09_01-00006.txt',\n",
      "     'KB_JB838_1902-11-24_01-00004.txt',\n",
      "     'KB_JB838_1902-11-30_01-00004.txt',\n",
      "     'KB_JB838_1903-05-17_01-00007.txt',\n",
      "     'KB_JB838_1903-10-04_01-00007.txt',\n",
      "     'KB_JB838_1903-12-06_01-00006.txt',\n",
      "     'KB_JB838_1904-04-17_01-00008.txt',\n",
      "     'KB_JB838_1904-05-30_01-00004.txt',\n",
      "     'KB_JB838_1904-09-11_01-00006.txt',\n",
      "     'KB_JB838_1904-09-25_01-00005.txt',\n",
      "     'KB_JB838_1904-11-13_01-00009.txt',\n",
      "     'KB_JB838_1905-04-23_01-00010.txt',\n",
      "     'KB_JB838_1905-05-28_01-00005.txt',\n",
      "     'KB_JB838_1905-06-25_01-00004.txt',\n",
      "     'KB_JB838_1905-07-10_01-00004.txt',\n",
      "     'KB_JB838_1905-12-24_01-00008.txt',\n",
      "     'KB_JB838_1906-02-24_01-00013.txt',\n",
      "     'KB_JB838_1906-03-11_01-00008.txt',\n",
      "     'KB_JB838_1906-06-03_01-00007.txt',\n",
      "     'KB_JB838_1906-08-12_01-00007.txt',\n",
      "     'KB_JB838_1906-11-12_01-00004.txt',\n",
      "     'KB_JB838_1906-12-16_01-00007.txt',\n",
      "     'KB_JB838_1907-01-07_01-00004.txt',\n",
      "     'KB_JB838_1907-01-21_01-00003.txt',\n",
      "     'KB_JB838_1907-05-05_01-00006.txt',\n",
      "     'KB_JB838_1907-05-19_01-00008.txt',\n",
      "     'KB_JB838_1907-07-08_01-00004.txt',\n",
      "     'KB_JB838_1907-11-24_01-00010.txt',\n",
      "     'KB_JB838_1908-02-17_01-00004.txt',\n",
      "     'KB_JB838_1908-03-08_01-00008.txt',\n",
      "     'KB_JB838_1908-04-12_01-00009.txt',\n",
      "     'KB_JB838_1908-04-19_01-00007.txt',\n",
      "     'KB_JB838_1908-04-22_01-00004.txt',\n",
      "     'KB_JB838_1908-05-17_01-00008.txt',\n",
      "     'KB_JB838_1908-07-26_01-00007.txt',\n",
      "     'KB_JB838_1908-09-13_01-00007.txt',\n",
      "     'KB_JB838_1908-10-12_01-00004.txt',\n",
      "     'KB_JB838_1909-01-10_01-00016.txt',\n",
      "     'KB_JB838_1909-03-22_01-00003.txt',\n",
      "     'KB_JB838_1909-07-11_01-00007.txt',\n",
      "     'KB_JB838_1909-09-27_01-00003.txt'],\n",
      " 4: ['KB_JB838_1900-01-19_01-00004.txt',\n",
      "     'KB_JB838_1900-01-25_01-00004.txt',\n",
      "     'KB_JB838_1900-02-14_01-00004.txt',\n",
      "     'KB_JB838_1900-02-28_01-00004.txt',\n",
      "     'KB_JB838_1900-03-01_01-00004.txt',\n",
      "     'KB_JB838_1900-03-04_01-00004.txt',\n",
      "     'KB_JB838_1900-03-18_01-00003.txt',\n",
      "     'KB_JB838_1900-05-10_01-00003.txt',\n",
      "     'KB_JB838_1900-05-11_01-00004.txt',\n",
      "     'KB_JB838_1900-06-02_01-00004.txt',\n",
      "     'KB_JB838_1900-07-13_01-00004.txt',\n",
      "     'KB_JB838_1900-08-18_01-00004.txt',\n",
      "     'KB_JB838_1900-09-14_01-00004.txt',\n",
      "     'KB_JB838_1900-09-30_01-00004.txt',\n",
      "     'KB_JB838_1900-10-02_01-00004.txt',\n",
      "     'KB_JB838_1900-10-03_01-00004.txt',\n",
      "     'KB_JB838_1900-10-18_01-00003.txt',\n",
      "     'KB_JB838_1901-01-09_01-00004.txt',\n",
      "     'KB_JB838_1901-01-20_01-00008.txt',\n",
      "     'KB_JB838_1901-01-23_01-00008.txt',\n",
      "     'KB_JB838_1901-02-08_01-00004.txt',\n",
      "     'KB_JB838_1901-02-28_01-00008.txt',\n",
      "     'KB_JB838_1901-03-19_01-00004.txt',\n",
      "     'KB_JB838_1901-04-22_01-00004.txt',\n",
      "     'KB_JB838_1901-04-26_01-00005.txt',\n",
      "     'KB_JB838_1901-05-01_01-00003.txt',\n",
      "     'KB_JB838_1901-05-30_01-00008.txt',\n",
      "     'KB_JB838_1901-06-20_01-00007.txt',\n",
      "     'KB_JB838_1901-06-27_01-00007.txt',\n",
      "     'KB_JB838_1901-07-14_01-00009.txt',\n",
      "     'KB_JB838_1901-07-19_01-00004.txt',\n",
      "     'KB_JB838_1901-08-10_01-00004.txt',\n",
      "     'KB_JB838_1901-09-07_01-00005.txt',\n",
      "     'KB_JB838_1901-09-19_01-00007.txt',\n",
      "     'KB_JB838_1901-10-27_01-00007.txt',\n",
      "     'KB_JB838_1901-10-31_01-00008.txt',\n",
      "     'KB_JB838_1901-11-13_01-00005.txt',\n",
      "     'KB_JB838_1901-11-29_01-00005.txt',\n",
      "     'KB_JB838_1901-12-03_01-00004.txt',\n",
      "     'KB_JB838_1901-12-25_01-00007.txt',\n",
      "     'KB_JB838_1902-01-22_01-00005.txt',\n",
      "     'KB_JB838_1902-02-22_01-00006.txt',\n",
      "     'KB_JB838_1902-03-13_01-00007.txt',\n",
      "     'KB_JB838_1902-03-22_01-00005.txt',\n",
      "     'KB_JB838_1902-03-26_01-00005.txt',\n",
      "     'KB_JB838_1902-04-08_01-00006.txt',\n",
      "     'KB_JB838_1902-05-28_01-00006.txt',\n",
      "     'KB_JB838_1902-06-07_01-00006.txt',\n",
      "     'KB_JB838_1902-07-06_01-00007.txt',\n",
      "     'KB_JB838_1902-07-11_01-00006.txt',\n",
      "     'KB_JB838_1902-07-23_01-00004.txt',\n",
      "     'KB_JB838_1902-09-21_01-00007.txt',\n",
      "     'KB_JB838_1902-10-30_01-00007.txt',\n",
      "     'KB_JB838_1902-12-12_01-00006.txt',\n",
      "     'KB_JB838_1902-12-16_01-00006.txt',\n",
      "     'KB_JB838_1903-01-02_01-00006.txt',\n",
      "     'KB_JB838_1903-02-09_01-00006.txt',\n",
      "     'KB_JB838_1903-03-04_01-00005.txt',\n",
      "     'KB_JB838_1903-03-12_01-00007.txt',\n",
      "     'KB_JB838_1903-04-08_01-00005.txt',\n",
      "     'KB_JB838_1903-04-15_01-00005.txt',\n",
      "     'KB_JB838_1903-06-08_01-00008.txt',\n",
      "     'KB_JB838_1903-06-29_01-00006.txt',\n",
      "     'KB_JB838_1903-07-05_01-00009.txt',\n",
      "     'KB_JB838_1903-07-17_01-00005.txt',\n",
      "     'KB_JB838_1903-08-14_01-00004.txt',\n",
      "     'KB_JB838_1903-09-12_01-00006.txt',\n",
      "     'KB_JB838_1903-10-10_01-00006.txt',\n",
      "     'KB_JB838_1903-10-12_01-00006.txt',\n",
      "     'KB_JB838_1903-11-11_01-00005.txt',\n",
      "     'KB_JB838_1903-12-16_01-00006.txt',\n",
      "     'KB_JB838_1903-12-26_01-00009.txt',\n",
      "     'KB_JB838_1904-01-07_01-00007.txt',\n",
      "     'KB_JB838_1904-01-12_01-00005.txt',\n",
      "     'KB_JB838_1904-01-31_01-00009.txt',\n",
      "     'KB_JB838_1904-02-12_01-00012.txt',\n",
      "     'KB_JB838_1904-03-04_01-00012.txt',\n",
      "     'KB_JB838_1904-03-10_01-00014.txt',\n",
      "     'KB_JB838_1904-03-31_01-00009.txt',\n",
      "     'KB_JB838_1904-05-09_01-00006.txt',\n",
      "     'KB_JB838_1904-05-23_01-00006.txt',\n",
      "     'KB_JB838_1904-06-13_01-00006.txt',\n",
      "     'KB_JB838_1904-06-17_01-00011.txt',\n",
      "     'KB_JB838_1904-06-19_01-00009.txt',\n",
      "     'KB_JB838_1904-07-04_01-00006.txt',\n",
      "     'KB_JB838_1904-08-06_01-00006.txt',\n",
      "     'KB_JB838_1904-08-16_01-00006.txt',\n",
      "     'KB_JB838_1904-08-27_01-00006.txt',\n",
      "     'KB_JB838_1904-09-13_01-00005.txt',\n",
      "     'KB_JB838_1904-09-27_01-00005.txt',\n",
      "     'KB_JB838_1904-10-03_01-00006.txt',\n",
      "     'KB_JB838_1904-10-20_01-00007.txt',\n",
      "     'KB_JB838_1904-10-21_01-00006.txt',\n",
      "     'KB_JB838_1904-10-29_01-00004.txt',\n",
      "     'KB_JB838_1904-11-10_01-00007.txt',\n",
      "     'KB_JB838_1904-11-18_01-00005.txt',\n",
      "     'KB_JB838_1904-11-28_01-00006.txt',\n",
      "     'KB_JB838_1904-12-07_01-00005.txt',\n",
      "     'KB_JB838_1905-01-09_01-00006.txt',\n",
      "     'KB_JB838_1905-01-10_01-00006.txt',\n",
      "     'KB_JB838_1905-01-13_01-00005.txt',\n",
      "     'KB_JB838_1905-01-17_01-00005.txt',\n",
      "     'KB_JB838_1905-02-25_01-00005.txt',\n",
      "     'KB_JB838_1905-04-09_01-00011.txt',\n",
      "     'KB_JB838_1905-05-09_01-00005.txt',\n",
      "     'KB_JB838_1905-05-10_01-00005.txt',\n",
      "     'KB_JB838_1905-05-26_01-00006.txt',\n",
      "     'KB_JB838_1905-05-30_01-00005.txt',\n",
      "     'KB_JB838_1905-09-12_01-00005.txt',\n",
      "     'KB_JB838_1905-09-18_01-00006.txt',\n",
      "     'KB_JB838_1905-10-12_01-00006.txt',\n",
      "     'KB_JB838_1905-10-17_01-00006.txt',\n",
      "     'KB_JB838_1905-10-21_01-00007.txt',\n",
      "     'KB_JB838_1905-10-27_01-00008.txt',\n",
      "     'KB_JB838_1905-11-07_01-00005.txt',\n",
      "     'KB_JB838_1905-12-14_01-00007.txt',\n",
      "     'KB_JB838_1906-01-16_01-00005.txt',\n",
      "     'KB_JB838_1906-03-13_01-00005.txt',\n",
      "     'KB_JB838_1906-04-12_01-00008.txt',\n",
      "     'KB_JB838_1906-05-04_01-00012.txt',\n",
      "     'KB_JB838_1906-05-22_01-00005.txt',\n",
      "     'KB_JB838_1906-05-31_01-00006.txt',\n",
      "     'KB_JB838_1906-06-23_01-00005.txt',\n",
      "     'KB_JB838_1906-07-25_01-00006.txt',\n",
      "     'KB_JB838_1906-10-04_01-00007.txt',\n",
      "     'KB_JB838_1906-11-08_01-00007.txt',\n",
      "     'KB_JB838_1906-11-15_01-00006.txt',\n",
      "     'KB_JB838_1906-11-30_01-00005.txt',\n",
      "     'KB_JB838_1907-01-31_02-00007.txt',\n",
      "     'KB_JB838_1907-02-02_01-00006.txt',\n",
      "     'KB_JB838_1907-02-12_01-00005.txt',\n",
      "     'KB_JB838_1907-04-12_01-00006.txt',\n",
      "     'KB_JB838_1907-04-18_01-00007.txt',\n",
      "     'KB_JB838_1907-04-28_01-00009.txt',\n",
      "     'KB_JB838_1907-05-14_01-00006.txt',\n",
      "     'KB_JB838_1907-05-17_01-00005.txt',\n",
      "     'KB_JB838_1907-05-28_01-00005.txt',\n",
      "     'KB_JB838_1907-05-29_01-00006.txt',\n",
      "     'KB_JB838_1907-06-19_01-00006.txt',\n",
      "     'KB_JB838_1907-06-28_01-00005.txt',\n",
      "     'KB_JB838_1907-07-01_01-00008.txt',\n",
      "     'KB_JB838_1907-07-17_01-00005.txt',\n",
      "     'KB_JB838_1907-07-24_01-00006.txt',\n",
      "     'KB_JB838_1907-07-27_01-00009.txt',\n",
      "     'KB_JB838_1907-08-21_01-00006.txt',\n",
      "     'KB_JB838_1907-10-07_01-00006.txt',\n",
      "     'KB_JB838_1907-10-08_01-00006.txt',\n",
      "     'KB_JB838_1907-12-25_01-00007.txt',\n",
      "     'KB_JB838_1908-02-05_01-00006.txt',\n",
      "     'KB_JB838_1908-02-07_01-00005.txt',\n",
      "     'KB_JB838_1908-02-18_01-00006.txt',\n",
      "     'KB_JB838_1908-03-01_01-00009.txt',\n",
      "     'KB_JB838_1908-03-06_01-00006.txt',\n",
      "     'KB_JB838_1908-03-11_01-00011.txt',\n",
      "     'KB_JB838_1908-03-28_01-00006.txt',\n",
      "     'KB_JB838_1908-04-10_01-00007.txt',\n",
      "     'KB_JB838_1908-04-15_01-00007.txt',\n",
      "     'KB_JB838_1908-04-26_01-00009.txt',\n",
      "     'KB_JB838_1908-05-01_01-00006.txt',\n",
      "     'KB_JB838_1908-05-26_01-00005.txt',\n",
      "     'KB_JB838_1908-06-07_01-00011.txt',\n",
      "     'KB_JB838_1908-08-14_01-00007.txt',\n",
      "     'KB_JB838_1908-08-25_01-00005.txt',\n",
      "     'KB_JB838_1908-09-23_01-00007.txt',\n",
      "     'KB_JB838_1908-09-29_01-00005.txt',\n",
      "     'KB_JB838_1908-10-13_01-00005.txt',\n",
      "     'KB_JB838_1908-10-19_01-00007.txt',\n",
      "     'KB_JB838_1909-01-10_01-00010.txt',\n",
      "     'KB_JB838_1909-03-06_01-00006.txt',\n",
      "     'KB_JB838_1909-04-24_01-00007.txt',\n",
      "     'KB_JB838_1909-05-08_01-00007.txt',\n",
      "     'KB_JB838_1909-05-13_01-00006.txt',\n",
      "     'KB_JB838_1909-06-13_01-00007.txt',\n",
      "     'KB_JB838_1909-06-27_01-00004.txt',\n",
      "     'KB_JB838_1909-07-09_01-00007.txt',\n",
      "     'KB_JB838_1909-08-15_01-00008.txt',\n",
      "     'KB_JB838_1909-10-06_01-00007.txt',\n",
      "     'KB_JB838_1909-10-29_01-00006.txt',\n",
      "     'KB_JB838_1909-11-15_01-00007.txt',\n",
      "     'KB_JB838_1909-12-02_01-00006.txt',\n",
      "     'KB_JB838_1909-12-17_02-00006.txt',\n",
      "     'KB_JB838_1909-12-18_01-00011.txt']}\n"
     ]
    }
   ],
   "source": [
    "pprint(dict(clustering))"
   ]
  },
  {
   "cell_type": "markdown",
   "metadata": {},
   "source": [
    "## Visualiser les clusters"
   ]
  },
  {
   "cell_type": "markdown",
   "metadata": {},
   "source": [
    "### Réduire les vecteurs à 2 dimensions à l'aide de l'algorithme PCA\n",
    "Cette étape est nécessaire afin de visualiser les documents dans un espace 2D\n",
    "\n",
    "https://fr.wikipedia.org/wiki/Analyse_en_composantes_principales"
   ]
  },
  {
   "cell_type": "code",
   "execution_count": 30,
   "metadata": {},
   "outputs": [],
   "source": [
    "pca = PCA(n_components=2)\n",
    "reduced_vectors = pca.fit_transform(tfidf_vectors.toarray())"
   ]
  },
  {
   "cell_type": "code",
   "execution_count": 31,
   "metadata": {},
   "outputs": [
    {
     "data": {
      "text/plain": [
       "array([[-0.29863371, -0.18098934],\n",
       "       [-0.16672903,  0.51822785],\n",
       "       [-0.08271536,  0.10386053],\n",
       "       [ 0.20097485,  0.26703696],\n",
       "       [ 0.64203844, -0.24300442],\n",
       "       [ 0.09443748,  0.21750646],\n",
       "       [ 0.63832941, -0.26708497],\n",
       "       [-0.31550701, -0.17332105],\n",
       "       [ 0.03022567,  0.18802817],\n",
       "       [-0.24407136,  0.10471282]])"
      ]
     },
     "execution_count": 31,
     "metadata": {},
     "output_type": "execute_result"
    }
   ],
   "source": [
    "# Reduction des vecteurs a 10 dimension\n",
    "reduced_vectors[:10]"
   ]
  },
  {
   "cell_type": "markdown",
   "metadata": {},
   "source": [
    "### Générer le plot"
   ]
  },
  {
   "cell_type": "code",
   "execution_count": 32,
   "metadata": {},
   "outputs": [
    {
     "data": {
      "text/plain": [
       "<matplotlib.legend.Legend at 0x11e98c8a8c0>"
      ]
     },
     "execution_count": 32,
     "metadata": {},
     "output_type": "execute_result"
    },
    {
     "data": {
      "image/png": "[encoded data removed]",
      "text/plain": [
       "<Figure size 1000x1000 with 1 Axes>"
      ]
     },
     "metadata": {},
     "output_type": "display_data"
    }
   ],
   "source": [
    "x_axis = reduced_vectors[:, 0]\n",
    "y_axis = reduced_vectors[:, 1]\n",
    "\n",
    "plt.figure(figsize=(10,10))\n",
    "scatter = plt.scatter(x_axis, y_axis, s=100, c=clusters)\n",
    "\n",
    "# Ajouter les centroïdes\n",
    "centroids = pca.transform(km_model.cluster_centers_)\n",
    "plt.scatter(centroids[:, 0], centroids[:, 1],  marker = \"x\", s=100, linewidths = 2, color='black')\n",
    "\n",
    "# Ajouter la légende\n",
    "plt.legend(handles=scatter.legend_elements()[0], labels=set(clusters), title=\"Clusters\")"
   ]
  },
  {
   "cell_type": "markdown",
   "metadata": {},
   "source": [
    "# Segmentation en phrases"
   ]
  },
  {
   "cell_type": "markdown",
   "metadata": {},
   "source": [
    "## Imports"
   ]
  },
  {
   "cell_type": "code",
   "execution_count": null,
   "metadata": {},
   "outputs": [],
   "source": [
    "import os\n",
    "import sys\n",
    "import nltk\n",
    "from nltk.tokenize import sent_tokenize"
   ]
  },
  {
   "cell_type": "code",
   "execution_count": null,
   "metadata": {},
   "outputs": [],
   "source": [
    "import sys\n",
    "import nltk\n",
    "from nltk.tokenize import sent_tokenize"
   ]
  },
  {
   "cell_type": "markdown",
   "metadata": {},
   "source": [
    "## Fichiers d'inputs et d'outputs"
   ]
  },
  {
   "cell_type": "code",
   "execution_count": null,
   "metadata": {},
   "outputs": [],
   "source": [
    "infile = \"../data/all.txt\"\n",
    "outfile = \"../data/sents.txt\""
   ]
  },
  {
   "cell_type": "markdown",
   "metadata": {},
   "source": [
    "## Segmentation en phrases du corpus complet et création d'un nouveau fichier"
   ]
  },
  {
   "cell_type": "markdown",
   "metadata": {},
   "source": [
    "**Important** : pour traiter le corpus complet, indiquez `LIMIT = None`"
   ]
  },
  {
   "cell_type": "code",
   "execution_count": null,
   "metadata": {},
   "outputs": [],
   "source": [
    "LIMIT = 1000000"
   ]
  },
  {
   "cell_type": "code",
   "execution_count": null,
   "metadata": {
    "tags": []
   },
   "outputs": [
    {
     "name": "stdout",
     "output_type": "stream",
     "text": [
      "processing line 0/7936\n",
      "processing line 100/7936\n",
      "processing line 200/7936\n",
      "processing line 300/7936\n",
      "processing line 400/7936\n",
      "processing line 500/7936\n",
      "processing line 600/7936\n",
      "processing line 700/7936\n",
      "processing line 800/7936\n",
      "processing line 900/7936\n",
      "processing line 1000/7936\n",
      "processing line 1100/7936\n",
      "processing line 1200/7936\n",
      "processing line 1300/7936\n",
      "processing line 1400/7936\n",
      "processing line 1500/7936\n",
      "processing line 1600/7936\n",
      "processing line 1700/7936\n",
      "processing line 1800/7936\n",
      "processing line 1900/7936\n",
      "processing line 2000/7936\n",
      "processing line 2100/7936\n",
      "processing line 2200/7936\n",
      "processing line 2300/7936\n",
      "processing line 2400/7936\n",
      "processing line 2500/7936\n",
      "processing line 2600/7936\n",
      "processing line 2700/7936\n",
      "processing line 2800/7936\n",
      "processing line 2900/7936\n",
      "processing line 3000/7936\n",
      "processing line 3100/7936\n",
      "processing line 3200/7936\n",
      "processing line 3300/7936\n",
      "processing line 3400/7936\n",
      "processing line 3500/7936\n",
      "processing line 3600/7936\n",
      "processing line 3700/7936\n",
      "processing line 3800/7936\n",
      "processing line 3900/7936\n",
      "processing line 4000/7936\n",
      "processing line 4100/7936\n",
      "processing line 4200/7936\n",
      "processing line 4300/7936\n",
      "processing line 4400/7936\n",
      "processing line 4500/7936\n",
      "processing line 4600/7936\n",
      "processing line 4700/7936\n",
      "processing line 4800/7936\n",
      "processing line 4900/7936\n",
      "processing line 5000/7936\n",
      "processing line 5100/7936\n",
      "processing line 5200/7936\n",
      "processing line 5300/7936\n",
      "processing line 5400/7936\n",
      "processing line 5500/7936\n",
      "processing line 5600/7936\n",
      "processing line 5700/7936\n",
      "processing line 5800/7936\n",
      "processing line 5900/7936\n",
      "processing line 6000/7936\n",
      "processing line 6100/7936\n",
      "processing line 6200/7936\n",
      "processing line 6300/7936\n",
      "processing line 6400/7936\n",
      "processing line 6500/7936\n",
      "processing line 6600/7936\n",
      "processing line 6700/7936\n",
      "processing line 6800/7936\n",
      "processing line 6900/7936\n",
      "processing line 7000/7936\n",
      "processing line 7100/7936\n",
      "processing line 7200/7936\n",
      "processing line 7300/7936\n",
      "processing line 7400/7936\n",
      "processing line 7500/7936\n",
      "processing line 7600/7936\n",
      "processing line 7700/7936\n",
      "processing line 7800/7936\n",
      "processing line 7900/7936\n",
      "Done\n"
     ]
    }
   ],
   "source": [
    "with open(outfile, 'w', encoding=\"utf-8\") as output:\n",
    "    with open(infile, encoding=\"utf-8\", errors=\"backslashreplace\") as f:\n",
    "        content = f.readlines()\n",
    "        content = content[:LIMIT] if LIMIT is not None else content\n",
    "        n_lines = len(content)\n",
    "        for i, line in enumerate(content):\n",
    "            if i % 100 == 0:\n",
    "                print(f'processing line {i}/{n_lines}')\n",
    "            sentences = sent_tokenize(line)\n",
    "            for sent in sentences:\n",
    "                output.write(sent + \"\\n\")\n",
    "print(\"Done\")"
   ]
  },
  {
   "cell_type": "markdown",
   "metadata": {},
   "source": [
    "# Word Embeddings : le modèle Word2Vec"
   ]
  },
  {
   "cell_type": "markdown",
   "metadata": {},
   "source": [
    "## Imports"
   ]
  },
  {
   "cell_type": "code",
   "execution_count": null,
   "metadata": {},
   "outputs": [],
   "source": [
    "import sys\n",
    "\n",
    "from gensim.models.phrases import Phrases, Phraser\n",
    "from gensim.models import Word2Vec\n",
    "\n",
    "import nltk\n",
    "from nltk.tokenize import wordpunct_tokenize\n",
    "from unidecode import unidecode"
   ]
  },
  {
   "cell_type": "markdown",
   "metadata": {},
   "source": [
    "## Chargement et traitement des phrases du corpus"
   ]
  },
  {
   "cell_type": "markdown",
   "metadata": {},
   "source": [
    "### Création d'un objet qui *streame* les lignes d'un fichier pour économiser de la RAM"
   ]
  },
  {
   "cell_type": "code",
   "execution_count": null,
   "metadata": {},
   "outputs": [],
   "source": [
    "class MySentences(object):\n",
    "    \"\"\"Tokenize and Lemmatize sentences\"\"\"\n",
    "    def __init__(self, filename):\n",
    "        self.filename = filename\n",
    "\n",
    "    def __iter__(self):\n",
    "        for line in open(self.filename, encoding='utf-8', errors=\"backslashreplace\"):\n",
    "            yield [unidecode(w.lower()) for w in wordpunct_tokenize(line)]"
   ]
  },
  {
   "cell_type": "code",
   "execution_count": null,
   "metadata": {},
   "outputs": [],
   "source": [
    "infile = f\"../data/sents.txt\"\n",
    "sentences = MySentences(infile)"
   ]
  },
  {
   "cell_type": "markdown",
   "metadata": {},
   "source": [
    "### Détection des bigrams\n",
    "\n",
    "Article intéressant sur le sujet : https://towardsdatascience.com/word2vec-for-phrases-learning-embeddings-for-more-than-one-word-727b6cf723cf"
   ]
  },
  {
   "cell_type": "code",
   "execution_count": null,
   "metadata": {},
   "outputs": [],
   "source": [
    "bigram_phrases = Phrases(sentences)"
   ]
  },
  {
   "cell_type": "markdown",
   "metadata": {},
   "source": [
    "L'object `phrases` peut être vu comme un large dictionnaire d'expressions multi-mots associées à un score, le *PMI-like scoring*. Ce dictionnaire est construit par un apprentissage sur base d'exemples.\n",
    "Voir les références ci-dessous :\n",
    "- https://arxiv.org/abs/1310.4546\n",
    "- https://en.wikipedia.org/wiki/Pointwise_mutual_information"
   ]
  },
  {
   "cell_type": "code",
   "execution_count": null,
   "metadata": {},
   "outputs": [
    {
     "data": {
      "text/plain": [
       "dict"
      ]
     },
     "metadata": {},
     "output_type": "display_data"
    }
   ],
   "source": [
    "type(bigram_phrases.vocab)"
   ]
  },
  {
   "cell_type": "markdown",
   "metadata": {},
   "source": [
    "Il contient de nombreuses clés qui sont autant de termes observés dans le corpus"
   ]
  },
  {
   "cell_type": "code",
   "execution_count": null,
   "metadata": {},
   "outputs": [
    {
     "data": {
      "text/plain": [
       "15761694"
      ]
     },
     "metadata": {},
     "output_type": "display_data"
    }
   ],
   "source": [
    "len(bigram_phrases.vocab.keys())"
   ]
  },
  {
   "cell_type": "markdown",
   "metadata": {},
   "source": [
    "Prenons une clé au hasard :"
   ]
  },
  {
   "cell_type": "code",
   "execution_count": null,
   "metadata": {},
   "outputs": [
    {
     "name": "stdout",
     "output_type": "stream",
     "text": [
      ";'%\n"
     ]
    }
   ],
   "source": [
    "key_ = list(bigram_phrases.vocab.keys())[144]\n",
    "print(key_)"
   ]
  },
  {
   "cell_type": "markdown",
   "metadata": {},
   "source": [
    "Le dictionnaire indique le score de cette coocurrence :"
   ]
  },
  {
   "cell_type": "code",
   "execution_count": null,
   "metadata": {},
   "outputs": [
    {
     "data": {
      "text/plain": [
       "1"
      ]
     },
     "metadata": {},
     "output_type": "display_data"
    }
   ],
   "source": [
    "bigram_phrases.vocab[key_]"
   ]
  },
  {
   "cell_type": "markdown",
   "metadata": {},
   "source": [
    "Lorsque l'instance de `Phrases` a été entraînée, elle peut concaténer les bigrams dans les phrases lorsque c'est pertinent."
   ]
  },
  {
   "cell_type": "markdown",
   "metadata": {},
   "source": [
    "### Conversion des `Phrases` en objet `Phraser`\n",
    "\n",
    "`Phraser` est un alias pour `gensim.models.phrases.FrozenPhrases`, voir ici https://radimrehurek.com/gensim/models/phrases.html.\n",
    "\n",
    "Le `Phraser` est une version *light* du `Phrases`, plus optimale pour transformer les phrases en concaténant les bigrams."
   ]
  },
  {
   "cell_type": "code",
   "execution_count": null,
   "metadata": {},
   "outputs": [],
   "source": [
    "bigram_phraser = Phraser(phrases_model=bigram_phrases)"
   ]
  },
  {
   "cell_type": "markdown",
   "metadata": {},
   "source": [
    "Le `Phraser` est un objet qui convertit certains unigrams d'une liste en bigrams lorsqu'ils ont été identifiés comme pertinents."
   ]
  },
  {
   "cell_type": "markdown",
   "metadata": {},
   "source": [
    "### Extraction des trigrams"
   ]
  },
  {
   "cell_type": "markdown",
   "metadata": {},
   "source": [
    "Nous répétons l'opération en envoyant cette fois la liste de bigrams afin d'extraire les trigrams."
   ]
  },
  {
   "cell_type": "code",
   "execution_count": null,
   "metadata": {},
   "outputs": [],
   "source": [
    "trigram_phrases = Phrases(bigram_phraser[sentences])"
   ]
  },
  {
   "cell_type": "code",
   "execution_count": null,
   "metadata": {},
   "outputs": [],
   "source": [
    "trigram_phraser = Phraser(phrases_model=trigram_phrases)"
   ]
  },
  {
   "cell_type": "markdown",
   "metadata": {},
   "source": [
    "### Création d'un corpus d'unigrams, bigrams, trigrams"
   ]
  },
  {
   "cell_type": "code",
   "execution_count": null,
   "metadata": {},
   "outputs": [],
   "source": [
    "corpus = list(trigram_phraser[bigram_phraser[sentences]])"
   ]
  },
  {
   "cell_type": "code",
   "execution_count": null,
   "metadata": {},
   "outputs": [],
   "source": [
    "print(corpus[:100])"
   ]
  },
  {
   "cell_type": "markdown",
   "metadata": {},
   "source": [
    "## Entrainement d'un modèle Word2Vec sur ce corpus"
   ]
  },
  {
   "cell_type": "code",
   "execution_count": null,
   "metadata": {},
   "outputs": [],
   "source": [
    "%%time\n",
    "model = Word2Vec(\n",
    "    corpus, # On passe le corpus de ngrams que nous venons de créer\n",
    "    vector_size=32, # Le nombre de dimensions dans lesquelles le contexte des mots devra être réduit, aka. vector_size\n",
    "    window=5, # La taille du \"contexte\", ici 5 mots avant et après le mot observé\n",
    "    min_count=5, # On ignore les mots qui n'apparaissent pas au moins 5 fois dans le corpus\n",
    "    workers=4, # Permet de paralléliser l'entraînement du modèle en 4 threads\n",
    "    epochs=5 # Nombre d'itérations du réseau de neurones sur le jeu de données pour ajuster les paramètres avec la descente de gradient, aka. epochs.\n",
    ")"
   ]
  },
  {
   "cell_type": "markdown",
   "metadata": {},
   "source": [
    "#### Remarque\n",
    "\n",
    "Vous voyez ici que l'entrainement du modèle est parallélisé (sur 4 workers).\n",
    "\n",
    "Lors qu'on parallélise l'entrainement du modèle, 4 modèles \"séparés\" sont entrainés sur environ un quart des phrases.\n",
    "\n",
    "Ensuite, les résultats sont agrégés pour ne plus faire qu'un seul modèle.\n",
    "\n",
    "On ne peut prédire quel worker aura quelle phrase, car il y a des aléas lors de la parallélisation (p. ex. un worker qui serait plus lent, etc.).\n",
    "\n",
    "Du coup, les valeurs peuvent varier légèrement d'un entrainement à l'autre.\n",
    "\n",
    "Mais, globalement, les résultats restent cohérents."
   ]
  },
  {
   "cell_type": "markdown",
   "metadata": {},
   "source": [
    "### Sauver le modèle dans un fichier"
   ]
  },
  {
   "cell_type": "code",
   "execution_count": null,
   "metadata": {},
   "outputs": [],
   "source": [
    "outfile = f\"../data/newspapers.model\"\n",
    "model.save(outfile)"
   ]
  },
  {
   "cell_type": "markdown",
   "metadata": {},
   "source": [
    "## Explorer le modèle"
   ]
  },
  {
   "cell_type": "markdown",
   "metadata": {},
   "source": [
    "### Charger le modèle en mémoire"
   ]
  },
  {
   "cell_type": "code",
   "execution_count": null,
   "metadata": {},
   "outputs": [],
   "source": [
    "model = Word2Vec.load(\"../data/newspapers.model\")"
   ]
  },
  {
   "cell_type": "markdown",
   "metadata": {},
   "source": [
    "### Imprimer le vecteur d'un terme"
   ]
  },
  {
   "cell_type": "code",
   "execution_count": null,
   "metadata": {},
   "outputs": [],
   "source": [
    "model.wv[\"ministre\"]"
   ]
  },
  {
   "cell_type": "markdown",
   "metadata": {},
   "source": [
    "### Calculer la similarité entre deux termes"
   ]
  },
  {
   "cell_type": "code",
   "execution_count": null,
   "metadata": {},
   "outputs": [],
   "source": [
    "model.wv.similarity(\"ministre\", \"roi\")"
   ]
  },
  {
   "cell_type": "markdown",
   "metadata": {},
   "source": [
    "### Chercher les mots les plus proches d'un terme donné"
   ]
  },
  {
   "cell_type": "code",
   "execution_count": null,
   "metadata": {},
   "outputs": [],
   "source": [
    "model.wv.most_similar(\"ministre\", topn=10)"
   ]
  },
  {
   "cell_type": "markdown",
   "metadata": {},
   "source": [
    "### Faire des recherches complexes à travers l'espace vectoriel"
   ]
  },
  {
   "cell_type": "code",
   "execution_count": null,
   "metadata": {},
   "outputs": [],
   "source": [
    "print(model.wv.most_similar(positive=['paris', 'londres'], negative=['belgique']))"
   ]
  }
 ],
 "metadata": {
  "kernelspec": {
   "display_name": "Python 3.10.7 ('tac_venv': venv)",
   "language": "python",
   "name": "python3"
  },
  "language_info": {
   "codemirror_mode": {
    "name": "ipython",
    "version": 3
   },
   "file_extension": ".py",
   "mimetype": "text/x-python",
   "name": "python",
   "nbconvert_exporter": "python",
   "pygments_lexer": "ipython3",
   "version": "3.10.7"
  },
  "vscode": {
   "interpreter": {
    "hash": "1371f28b61a57566aca84f831e458ad1b8215d81e6228e59fe3401f9a480bc22"
   }
  }
 },
 "nbformat": 4,
 "nbformat_minor": 4
}
