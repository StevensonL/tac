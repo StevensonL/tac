{
 "cells": [
  {
   "cell_type": "markdown",
   "metadata": {},
   "source": [
    "# Extraction de Keywords"
   ]
  },
  {
   "cell_type": "markdown",
   "metadata": {},
   "source": [
    "## Imports"
   ]
  },
  {
   "cell_type": "code",
   "execution_count": 14,
   "metadata": {},
   "outputs": [],
   "source": [
    "import os\n",
    "import yake"
   ]
  },
  {
   "cell_type": "markdown",
   "metadata": {},
   "source": [
    "## Extraire les mots clés d'un document avec Yake"
   ]
  },
  {
   "cell_type": "markdown",
   "metadata": {},
   "source": [
    "https://github.com/LIAAD/yake"
   ]
  },
  {
   "cell_type": "code",
   "execution_count": 15,
   "metadata": {},
   "outputs": [
    {
     "data": {
      "text/plain": [
       "<yake.yake.KeywordExtractor at 0x259f16ffc70>"
      ]
     },
     "execution_count": 15,
     "metadata": {},
     "output_type": "execute_result"
    }
   ],
   "source": [
    "# Instantier l'extracteur de mots clés\n",
    "kw_extractor = yake.KeywordExtractor(lan=\"fr\", top=50)\n",
    "kw_extractor"
   ]
  },
  {
   "cell_type": "code",
   "execution_count": 16,
   "metadata": {},
   "outputs": [],
   "source": [
    "# Lister les Fichiers\n",
    "data_path = \"../data/txt/\"\n",
    "files = os.listdir(data_path)"
   ]
  },
  {
   "cell_type": "code",
   "execution_count": 17,
   "metadata": {},
   "outputs": [
    {
     "data": {
      "text/plain": [
       "7936"
      ]
     },
     "execution_count": 17,
     "metadata": {},
     "output_type": "execute_result"
    }
   ],
   "source": [
    "# Imprimer le nombre de fichiers identifiés\n",
    "len(files)"
   ]
  },
  {
   "cell_type": "code",
   "execution_count": 18,
   "metadata": {},
   "outputs": [
    {
     "data": {
      "text/plain": [
       "['KB_JB838_1970-01-03_01-00002.txt',\n",
       " 'KB_JB838_1970-01-06_01-00004.txt',\n",
       " 'KB_JB838_1970-01-07_01-00020.txt',\n",
       " 'KB_JB838_1970-01-09_01-00010.txt',\n",
       " 'KB_JB838_1970-01-10_01-00029.txt',\n",
       " 'KB_JB838_1970-01-18_01-00013.txt',\n",
       " 'KB_JB838_1970-01-21_01-00011.txt',\n",
       " 'KB_JB838_1970-01-22_01-00032.txt',\n",
       " 'KB_JB838_1970-01-25_01-00014.txt',\n",
       " 'KB_JB838_1970-02-04_01-00006.txt',\n",
       " 'KB_JB838_1970-02-11_01-00015.txt',\n",
       " 'KB_JB838_1970-02-13_01-00026.txt',\n",
       " 'KB_JB838_1970-02-14_01-00006.txt',\n",
       " 'KB_JB838_1970-02-14_01-00022.txt',\n",
       " 'KB_JB838_1970-02-15_01-00016.txt',\n",
       " 'KB_JB838_1970-02-19_01-00011.txt',\n",
       " 'KB_JB838_1970-02-20_01-00007.txt',\n",
       " 'KB_JB838_1970-02-26_01-00022.txt',\n",
       " 'KB_JB838_1970-03-04_01-00015.txt',\n",
       " 'KB_JB838_1970-03-10_01-00024.txt',\n",
       " 'KB_JB838_1970-03-15_01-00011.txt',\n",
       " 'KB_JB838_1970-03-19_01-00015.txt',\n",
       " 'KB_JB838_1970-03-22_01-00002.txt',\n",
       " 'KB_JB838_1970-03-22_01-00029.txt',\n",
       " 'KB_JB838_1970-03-27_01-00018.txt',\n",
       " 'KB_JB838_1970-03-28_01-00027.txt',\n",
       " 'KB_JB838_1970-06-02_01-00032.txt',\n",
       " 'KB_JB838_1970-06-03_01-00001.txt',\n",
       " 'KB_JB838_1970-06-04_01-00009.txt',\n",
       " 'KB_JB838_1970-06-09_01-00017.txt',\n",
       " 'KB_JB838_1970-06-11_01-00004.txt',\n",
       " 'KB_JB838_1970-06-13_01-00012.txt',\n",
       " 'KB_JB838_1970-06-18_01-00020.txt',\n",
       " 'KB_JB838_1970-06-18_01-00023.txt',\n",
       " 'KB_JB838_1970-06-18_01-00025.txt',\n",
       " 'KB_JB838_1970-06-19_01-00017.txt',\n",
       " 'KB_JB838_1970-06-20_01-00020.txt',\n",
       " 'KB_JB838_1970-06-21_01-00001.txt',\n",
       " 'KB_JB838_1970-06-21_01-00029.txt',\n",
       " 'KB_JB838_1970-06-24_01-00001.txt',\n",
       " 'KB_JB838_1970-06-28_01-00011.txt',\n",
       " 'KB_JB838_1970-06-30_01-00005.txt',\n",
       " 'KB_JB838_1970-08-01_01-00011.txt',\n",
       " 'KB_JB838_1970-08-01_01-00020.txt',\n",
       " 'KB_JB838_1970-08-06_01-00020.txt',\n",
       " 'KB_JB838_1970-08-12_01-00021.txt',\n",
       " 'KB_JB838_1970-08-14_01-00012.txt',\n",
       " 'KB_JB838_1970-08-15_01-00007.txt',\n",
       " 'KB_JB838_1970-08-18_01-00004.txt',\n",
       " 'KB_JB838_1970-08-20_01-00001.txt',\n",
       " 'KB_JB838_1970-08-20_01-00030.txt',\n",
       " 'KB_JB838_1970-08-26_01-00017.txt',\n",
       " 'KB_JB838_1970-08-27_01-00014.txt',\n",
       " 'KB_JB838_1970-08-30_01-00011.txt',\n",
       " 'KB_JB838_1970-08-30_01-00029.txt',\n",
       " 'KB_JB838_1970-09-04_01-00008.txt',\n",
       " 'KB_JB838_1970-09-06_01-00004.txt',\n",
       " 'KB_JB838_1970-09-12_01-00013.txt',\n",
       " 'KB_JB838_1970-09-12_01-00028.txt',\n",
       " 'KB_JB838_1970-09-16_01-00019.txt',\n",
       " 'KB_JB838_1970-09-19_01-00011.txt',\n",
       " 'KB_JB838_1970-09-20_01-00032.txt',\n",
       " 'KB_JB838_1970-09-22_01-00026.txt',\n",
       " 'KB_JB838_1970-09-27_01-00016.txt',\n",
       " 'KB_JB838_1970-10-03_01-00023.txt',\n",
       " 'KB_JB838_1970-10-07_01-00017.txt',\n",
       " 'KB_JB838_1970-10-08_01-00028.txt',\n",
       " 'KB_JB838_1970-10-08_01-00032.txt',\n",
       " 'KB_JB838_1970-10-09_01-00013.txt',\n",
       " 'KB_JB838_1970-10-10_01-00035.txt',\n",
       " 'KB_JB838_1970-10-11_01-00007.txt',\n",
       " 'KB_JB838_1970-10-11_01-00021.txt',\n",
       " 'KB_JB838_1970-10-11_01-00033.txt',\n",
       " 'KB_JB838_1970-10-14_01-00016.txt',\n",
       " 'KB_JB838_1970-10-14_01-00024.txt',\n",
       " 'KB_JB838_1970-10-14_01-00029.txt',\n",
       " 'KB_JB838_1970-10-15_01-00009.txt',\n",
       " 'KB_JB838_1970-10-16_01-00031.txt',\n",
       " 'KB_JB838_1970-10-17_01-00011.txt',\n",
       " 'KB_JB838_1970-10-17_01-00032.txt',\n",
       " 'KB_JB838_1970-10-25_01-00029.txt',\n",
       " 'KB_JB838_1970-10-28_01-00016.txt',\n",
       " 'KB_JB838_1970-10-29_01-00007.txt',\n",
       " 'KB_JB838_1970-11-08_01-00025.txt',\n",
       " 'KB_JB838_1970-11-10_01-00006.txt',\n",
       " 'KB_JB838_1970-11-13_01-00004.txt',\n",
       " 'KB_JB838_1970-11-13_01-00012.txt',\n",
       " 'KB_JB838_1970-11-15_01-00033.txt',\n",
       " 'KB_JB838_1970-11-21_01-00029.txt',\n",
       " 'KB_JB838_1970-11-25_01-00021.txt',\n",
       " 'KB_JB838_1970-11-28_01-00031.txt',\n",
       " 'KB_JB838_1970-11-29_01-00039.txt',\n",
       " 'KB_JB838_1970-12-03_01-00010.txt',\n",
       " 'KB_JB838_1970-12-05_01-00019.txt',\n",
       " 'KB_JB838_1970-12-06_01-00007.txt',\n",
       " 'KB_JB838_1970-12-06_01-00030.txt',\n",
       " 'KB_JB838_1970-12-08_01-00012.txt',\n",
       " 'KB_JB838_1970-12-13_01-00001.txt',\n",
       " 'KB_JB838_1970-12-19_01-00002.txt',\n",
       " 'KB_JB838_1970-12-29_01-00011.txt']"
      ]
     },
     "execution_count": 18,
     "metadata": {},
     "output_type": "execute_result"
    }
   ],
   "source": [
    "# Les 100  fichiers\n",
    "files[7836:7937]"
   ]
  },
  {
   "cell_type": "code",
   "execution_count": 19,
   "metadata": {},
   "outputs": [
    {
     "data": {
      "text/plain": [
       "'KB_JB838_1970-10-03_01-00023.txt'"
      ]
     },
     "execution_count": 19,
     "metadata": {},
     "output_type": "execute_result"
    }
   ],
   "source": [
    "# Choisir un fichier\n",
    "this_file = files[7900]\n",
    "this_file"
   ]
  },
  {
   "cell_type": "code",
   "execution_count": 20,
   "metadata": {},
   "outputs": [
    {
     "data": {
      "text/plain": [
       "\"SAMEDI 3 QCTOBRE 1970 OCTOBRE LE MO IS DU TÀ PI S A cette occasion et afin d'alléger notre stock avant l'applica- tion' de la’T;V.A., plusieurs lots de tapis de toutes provenances, de toutes dimensions, de tous coloris et de tous dessins vous seront,offerts-à des prix incroyables. RABAIS DE 20 à 40 % QUELQUES PRIX SACRIFIES Carpette Tapis Tapis Tapis. Tapis ■ etc.. tournai laine dim. 0.60 x 1.20 tournai,laine dim. 1.20 x l.80 tournai laine dim. 1.90 x 2.80 percé lamé dim. 1.70 x ’ 2 V 40 ' • Per\""
      ]
     },
     "execution_count": 20,
     "metadata": {},
     "output_type": "execute_result"
    }
   ],
   "source": [
    "# Récupérer le texte du fichier\n",
    "text = open(os.path.join(data_path, this_file),'r', encoding=\"utf-8\").read()\n",
    "text[:500]"
   ]
  },
  {
   "cell_type": "code",
   "execution_count": 26,
   "metadata": {},
   "outputs": [
    {
     "data": {
      "text/plain": [
       "[('rue', 0.026452144130170836),\n",
       " ('heures', 0.026978523921583158),\n",
       " ('nullement d’autre cliese', 0.02743225812321008),\n",
       " ('qu’il', 0.027493746262644104),\n",
       " ('Paris', 0.02867285819475733),\n",
       " ('capitaine', 0.030771921460266187),\n",
       " ('Thérèse', 0.035338933754119006),\n",
       " ('capitaine Mac Donald', 0.04946685384312266),\n",
       " ('fut', 0.053217567279997144),\n",
       " ('matin', 0.053829713395140075),\n",
       " ('Bruxelles', 0.05490885502563032),\n",
       " ('soir', 0.055666532461919896),\n",
       " ('Van de Zande', 0.05725322718469239),\n",
       " ('fois', 0.06108423613823516),\n",
       " ('Dubuc', 0.06208931250369379),\n",
       " ('police', 0.06228432151386402),\n",
       " ('trouvait', 0.06387136042379844),\n",
       " ('ans', 0.06413813335525427),\n",
       " ('Sauvetage', 0.0672701512885437),\n",
       " ('qu’elle', 0.06846243312323019),\n",
       " ('temps', 0.0686086066988925),\n",
       " ('New-York', 0.06867220324672696),\n",
       " ('mer', 0.06868762207496344),\n",
       " ('jour', 0.07517773247319469),\n",
       " ('nuit', 0.07964917098795998),\n",
       " ('capitaine Mac', 0.08101576073136586),\n",
       " ('Lachaud', 0.08163644848160194),\n",
       " ('Octave', 0.08282499972499195),\n",
       " ('Flandre', 0.08432717351707628),\n",
       " ('voleurs', 0.0872269372510291),\n",
       " ('mort', 0.08889952719430122),\n",
       " ('s’était', 0.08955343126283002),\n",
       " ('vol', 0.0906825673194306),\n",
       " ('décembre', 0.09140619684635252),\n",
       " ('hommes', 0.0945318564865665),\n",
       " ('coup', 0.10049666899906005),\n",
       " ('jeudi', 0.10096990370764893),\n",
       " ('Mme Lachaud', 0.10245088413032481),\n",
       " ('rue Joseph', 0.11037446626048324),\n",
       " ('police qu’il', 0.11451131164378628),\n",
       " ('fille', 0.11725967107705428),\n",
       " ('jeune homme', 0.1179970577127851),\n",
       " ('faire', 0.11917326904775129),\n",
       " ('Frameries', 0.11920125864224337),\n",
       " ('d’une', 0.11941053739962836),\n",
       " ('sieur Léon Flandre', 0.11981766990634186),\n",
       " ('Collard', 0.12222796195461047),\n",
       " ('bateau', 0.122329725879433),\n",
       " ('farine', 0.12234298455692275),\n",
       " ('s’y', 0.12263476882386883)]"
      ]
     },
     "execution_count": 26,
     "metadata": {},
     "output_type": "execute_result"
    }
   ],
   "source": [
    "# Extraire les mots clés de ce texte\n",
    "keywords = kw_extractor.extract_keywords(text)\n",
    "keywords"
   ]
  },
  {
   "cell_type": "code",
   "execution_count": 27,
   "metadata": {},
   "outputs": [
    {
     "data": {
      "text/plain": [
       "['capitaine Mac', 'Mme Lachaud', 'rue Joseph', 'police qu’il', 'jeune homme']"
      ]
     },
     "execution_count": 27,
     "metadata": {},
     "output_type": "execute_result"
    }
   ],
   "source": [
    "# Ne garder que les bigrammes\n",
    "# Regarder si la liste contient 2 elements\n",
    "kept = []\n",
    "for kw, score in keywords:\n",
    "    words = kw.split()\n",
    "    if len(words) == 2:\n",
    "        kept.append(kw)\n",
    "kept"
   ]
  },
  {
   "cell_type": "markdown",
   "metadata": {},
   "source": [
    "## Faire la même opération sur tous les documents"
   ]
  },
  {
   "cell_type": "code",
   "execution_count": 23,
   "metadata": {},
   "outputs": [
    {
     "name": "stdout",
     "output_type": "stream",
     "text": [
      "KB_JB838_1887-12-22_01-00001.txt mentions these keywords: EXEMPLAIRES distribués, assassins politiques, distribués gratuitement, lomération bruxelloise, bruxelloise et.en, ræge quotidien, QUOTIDIEN GRATUIT, GRATUIT Température, facteur rural, Température Baromètre...\n",
      "KB_JB838_1887-12-22_01-00002.txt mentions these keywords: Ligue nalio, rester fidèle, Van Ophem...\n",
      "KB_JB838_1887-12-22_01-00003.txt mentions these keywords: prince Guillaume, Finet critique, Pierrot Macabre, HEURE Vienne...\n",
      "KB_JB838_1887-12-22_01-00004.txt mentions these keywords: demande place, fiVS ÉPICERIES, ÉPICERIES t'Tu, lie Cologne, Fille val., place Madou, Bon Marché, rue Scailquin, rue Plantin, sci rue, bon certifie, rue lie, rue Bines, exposition Bruxelles, place sach, Bruxelles Centre, BRUXELLES Rideauœ...\n",
      "KB_JB838_1887-12-22_01-00005.txt mentions these keywords: rue Plantin, OBJETS PERDUS, PERDUS gravure, LOUER DEMANDES, grande rue, rue Blaes, rue Hôtel, prix Bruxelles, rue Goflhrl, wôporler rue, rue St-Micliel...\n",
      "KB_JB838_1887-12-22_01-00006.txt mentions these keywords: RHUM ST-GEORGES, question militaire, Société royale, Société Philharmonique, l’école militaire, rue Haute, Nord BRUXELLES, préparatifs militaires, loi portant...\n",
      "KB_JB838_1887-12-23_01-00001.txt mentions these keywords: matin Température, Température maximum, GRATUIT température, température Irti, heurte matin, OBSERVATOIRE ROYAL, Irti Baromètre, QUOTIDIEN GRATUIT, JOURNAL QUOTIDIEN, rues Royale, Vent dominant, Haute Pinte, Bruxelles d’un, Pinte rue...\n",
      "KB_JB838_1887-12-23_01-00002.txt mentions these keywords: ...\n",
      "KB_JB838_1887-12-24_01-00001.txt mentions these keywords: TIRAGE QUOTIDIEN, nommé président, JOURNAL QUOTIDIEN, c’est qu’il, QUOTIDIEN GRATUIT, ANNÉE Samedi, section artistique, BRUXELLES PRIX...\n",
      "KB_JB838_1887-12-24_01-00002.txt mentions these keywords: capitaine Mac, Mme Lachaud, rue Joseph, police qu’il, jeune homme...\n"
     ]
    }
   ],
   "source": [
    "#Pour les 10 premiers elements quels sonts les mots cles\n",
    "for f in sorted(files)[:10]:\n",
    "    text = open(os.path.join(data_path, f), 'r', encoding=\"utf-8\").read()\n",
    "    keywords = kw_extractor.extract_keywords(text)\n",
    "    kept = []\n",
    "    for kw, score in keywords:\n",
    "        words = kw.split()\n",
    "        if len(words) == 2:\n",
    "            kept.append(kw)\n",
    "    print(f\"{f} mentions these keywords: {', '.join(kept)}...\")"
   ]
  }
 ],
 "metadata": {
  "kernelspec": {
   "display_name": "Python 3.10.7 ('tac_venv': venv)",
   "language": "python",
   "name": "python3"
  },
  "language_info": {
   "codemirror_mode": {
    "name": "ipython",
    "version": 3
   },
   "file_extension": ".py",
   "mimetype": "text/x-python",
   "name": "python",
   "nbconvert_exporter": "python",
   "pygments_lexer": "ipython3",
   "version": "3.10.7"
  },
  "vscode": {
   "interpreter": {
    "hash": "1371f28b61a57566aca84f831e458ad1b8215d81e6228e59fe3401f9a480bc22"
   }
  }
 },
 "nbformat": 4,
 "nbformat_minor": 4
}
