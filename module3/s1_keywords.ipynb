{
 "cells": [
  {
   "cell_type": "markdown",
   "metadata": {},
   "source": [
    "# Extraction de Keywords"
   ]
  },
  {
   "cell_type": "markdown",
   "metadata": {},
   "source": [
    "## Imports"
   ]
  },
  {
   "cell_type": "code",
   "execution_count": 1,
   "metadata": {},
   "outputs": [],
   "source": [
    "import os\n",
    "import yake"
   ]
  },
  {
   "cell_type": "markdown",
   "metadata": {},
   "source": [
    "## Extraire les mots clés d'un document avec Yake"
   ]
  },
  {
   "cell_type": "markdown",
   "metadata": {},
   "source": [
    "https://github.com/LIAAD/yake"
   ]
  },
  {
   "cell_type": "code",
   "execution_count": 2,
   "metadata": {},
   "outputs": [
    {
     "data": {
      "text/plain": [
       "<yake.yake.KeywordExtractor at 0x175ef17fc40>"
      ]
     },
     "execution_count": 2,
     "metadata": {},
     "output_type": "execute_result"
    }
   ],
   "source": [
    "# Instantier l'extracteur de mots clés\n",
    "kw_extractor = yake.KeywordExtractor(lan=\"fr\", top=50)\n",
    "kw_extractor"
   ]
  },
  {
   "cell_type": "code",
   "execution_count": 3,
   "metadata": {},
   "outputs": [],
   "source": [
    "# Lister les Fichiers\n",
    "data_path = \"../data/txt/\"\n",
    "files = os.listdir(data_path)"
   ]
  },
  {
   "cell_type": "code",
   "execution_count": 4,
   "metadata": {},
   "outputs": [
    {
     "data": {
      "text/plain": [
       "7936"
      ]
     },
     "execution_count": 4,
     "metadata": {},
     "output_type": "execute_result"
    }
   ],
   "source": [
    "# Imprimer le nombre de fichiers identifiés\n",
    "len(files)"
   ]
  },
  {
   "cell_type": "code",
   "execution_count": 6,
   "metadata": {},
   "outputs": [
    {
     "data": {
      "text/plain": [
       "['KB_JB838_1970-01-03_01-00002.txt',\n",
       " 'KB_JB838_1970-01-06_01-00004.txt',\n",
       " 'KB_JB838_1970-01-07_01-00020.txt',\n",
       " 'KB_JB838_1970-01-09_01-00010.txt',\n",
       " 'KB_JB838_1970-01-10_01-00029.txt',\n",
       " 'KB_JB838_1970-01-18_01-00013.txt',\n",
       " 'KB_JB838_1970-01-21_01-00011.txt',\n",
       " 'KB_JB838_1970-01-22_01-00032.txt',\n",
       " 'KB_JB838_1970-01-25_01-00014.txt',\n",
       " 'KB_JB838_1970-02-04_01-00006.txt',\n",
       " 'KB_JB838_1970-02-11_01-00015.txt',\n",
       " 'KB_JB838_1970-02-13_01-00026.txt',\n",
       " 'KB_JB838_1970-02-14_01-00006.txt',\n",
       " 'KB_JB838_1970-02-14_01-00022.txt',\n",
       " 'KB_JB838_1970-02-15_01-00016.txt',\n",
       " 'KB_JB838_1970-02-19_01-00011.txt',\n",
       " 'KB_JB838_1970-02-20_01-00007.txt',\n",
       " 'KB_JB838_1970-02-26_01-00022.txt',\n",
       " 'KB_JB838_1970-03-04_01-00015.txt',\n",
       " 'KB_JB838_1970-03-10_01-00024.txt',\n",
       " 'KB_JB838_1970-03-15_01-00011.txt',\n",
       " 'KB_JB838_1970-03-19_01-00015.txt',\n",
       " 'KB_JB838_1970-03-22_01-00002.txt',\n",
       " 'KB_JB838_1970-03-22_01-00029.txt',\n",
       " 'KB_JB838_1970-03-27_01-00018.txt',\n",
       " 'KB_JB838_1970-03-28_01-00027.txt',\n",
       " 'KB_JB838_1970-06-02_01-00032.txt',\n",
       " 'KB_JB838_1970-06-03_01-00001.txt',\n",
       " 'KB_JB838_1970-06-04_01-00009.txt',\n",
       " 'KB_JB838_1970-06-09_01-00017.txt',\n",
       " 'KB_JB838_1970-06-11_01-00004.txt',\n",
       " 'KB_JB838_1970-06-13_01-00012.txt',\n",
       " 'KB_JB838_1970-06-18_01-00020.txt',\n",
       " 'KB_JB838_1970-06-18_01-00023.txt',\n",
       " 'KB_JB838_1970-06-18_01-00025.txt',\n",
       " 'KB_JB838_1970-06-19_01-00017.txt',\n",
       " 'KB_JB838_1970-06-20_01-00020.txt',\n",
       " 'KB_JB838_1970-06-21_01-00001.txt',\n",
       " 'KB_JB838_1970-06-21_01-00029.txt',\n",
       " 'KB_JB838_1970-06-24_01-00001.txt',\n",
       " 'KB_JB838_1970-06-28_01-00011.txt',\n",
       " 'KB_JB838_1970-06-30_01-00005.txt',\n",
       " 'KB_JB838_1970-08-01_01-00011.txt',\n",
       " 'KB_JB838_1970-08-01_01-00020.txt',\n",
       " 'KB_JB838_1970-08-06_01-00020.txt',\n",
       " 'KB_JB838_1970-08-12_01-00021.txt',\n",
       " 'KB_JB838_1970-08-14_01-00012.txt',\n",
       " 'KB_JB838_1970-08-15_01-00007.txt',\n",
       " 'KB_JB838_1970-08-18_01-00004.txt',\n",
       " 'KB_JB838_1970-08-20_01-00001.txt',\n",
       " 'KB_JB838_1970-08-20_01-00030.txt',\n",
       " 'KB_JB838_1970-08-26_01-00017.txt',\n",
       " 'KB_JB838_1970-08-27_01-00014.txt',\n",
       " 'KB_JB838_1970-08-30_01-00011.txt',\n",
       " 'KB_JB838_1970-08-30_01-00029.txt',\n",
       " 'KB_JB838_1970-09-04_01-00008.txt',\n",
       " 'KB_JB838_1970-09-06_01-00004.txt',\n",
       " 'KB_JB838_1970-09-12_01-00013.txt',\n",
       " 'KB_JB838_1970-09-12_01-00028.txt',\n",
       " 'KB_JB838_1970-09-16_01-00019.txt',\n",
       " 'KB_JB838_1970-09-19_01-00011.txt',\n",
       " 'KB_JB838_1970-09-20_01-00032.txt',\n",
       " 'KB_JB838_1970-09-22_01-00026.txt',\n",
       " 'KB_JB838_1970-09-27_01-00016.txt',\n",
       " 'KB_JB838_1970-10-03_01-00023.txt',\n",
       " 'KB_JB838_1970-10-07_01-00017.txt',\n",
       " 'KB_JB838_1970-10-08_01-00028.txt',\n",
       " 'KB_JB838_1970-10-08_01-00032.txt',\n",
       " 'KB_JB838_1970-10-09_01-00013.txt',\n",
       " 'KB_JB838_1970-10-10_01-00035.txt',\n",
       " 'KB_JB838_1970-10-11_01-00007.txt',\n",
       " 'KB_JB838_1970-10-11_01-00021.txt',\n",
       " 'KB_JB838_1970-10-11_01-00033.txt',\n",
       " 'KB_JB838_1970-10-14_01-00016.txt',\n",
       " 'KB_JB838_1970-10-14_01-00024.txt',\n",
       " 'KB_JB838_1970-10-14_01-00029.txt',\n",
       " 'KB_JB838_1970-10-15_01-00009.txt',\n",
       " 'KB_JB838_1970-10-16_01-00031.txt',\n",
       " 'KB_JB838_1970-10-17_01-00011.txt',\n",
       " 'KB_JB838_1970-10-17_01-00032.txt',\n",
       " 'KB_JB838_1970-10-25_01-00029.txt',\n",
       " 'KB_JB838_1970-10-28_01-00016.txt',\n",
       " 'KB_JB838_1970-10-29_01-00007.txt',\n",
       " 'KB_JB838_1970-11-08_01-00025.txt',\n",
       " 'KB_JB838_1970-11-10_01-00006.txt',\n",
       " 'KB_JB838_1970-11-13_01-00004.txt',\n",
       " 'KB_JB838_1970-11-13_01-00012.txt',\n",
       " 'KB_JB838_1970-11-15_01-00033.txt',\n",
       " 'KB_JB838_1970-11-21_01-00029.txt',\n",
       " 'KB_JB838_1970-11-25_01-00021.txt',\n",
       " 'KB_JB838_1970-11-28_01-00031.txt',\n",
       " 'KB_JB838_1970-11-29_01-00039.txt',\n",
       " 'KB_JB838_1970-12-03_01-00010.txt',\n",
       " 'KB_JB838_1970-12-05_01-00019.txt',\n",
       " 'KB_JB838_1970-12-06_01-00007.txt',\n",
       " 'KB_JB838_1970-12-06_01-00030.txt',\n",
       " 'KB_JB838_1970-12-08_01-00012.txt',\n",
       " 'KB_JB838_1970-12-13_01-00001.txt',\n",
       " 'KB_JB838_1970-12-19_01-00002.txt',\n",
       " 'KB_JB838_1970-12-29_01-00011.txt']"
      ]
     },
     "execution_count": 6,
     "metadata": {},
     "output_type": "execute_result"
    }
   ],
   "source": [
    "# Les dix premiers fichiers\n",
    "files[7836:7937]"
   ]
  },
  {
   "cell_type": "code",
   "execution_count": 22,
   "metadata": {},
   "outputs": [
    {
     "data": {
      "text/plain": [
       "'KB_JB838_1970-10-03_01-00023.txt'"
      ]
     },
     "execution_count": 22,
     "metadata": {},
     "output_type": "execute_result"
    }
   ],
   "source": [
    "# Choisir un fichier\n",
    "this_file = files[7900]\n",
    "this_file"
   ]
  },
  {
   "cell_type": "code",
   "execution_count": 23,
   "metadata": {},
   "outputs": [
    {
     "data": {
      "text/plain": [
       "\"SAMEDI 3 QCTOBRE 1970 OCTOBRE LE MO IS DU TÀ PI S A cette occasion et afin d'alléger notre stock avant l'applica- tion' de la’T;V.A., plusieurs lots de tapis de toutes provenances, de toutes dimensions, de tous coloris et de tous dessins vous seront,offerts-à des prix incroyables. RABAIS DE 20 à 40 % QUELQUES PRIX SACRIFIES Carpette Tapis Tapis Tapis. Tapis ■ etc.. tournai laine dim. 0.60 x 1.20 tournai,laine dim. 1.20 x l.80 tournai laine dim. 1.90 x 2.80 percé lamé dim. 1.70 x ’ 2 V 40 ' • Per\""
      ]
     },
     "execution_count": 23,
     "metadata": {},
     "output_type": "execute_result"
    }
   ],
   "source": [
    "# Récupérer le texte du fichier\n",
    "text = open(os.path.join(data_path, this_file),'r', encoding=\"utf-8\").read()\n",
    "text[:500]"
   ]
  },
  {
   "cell_type": "code",
   "execution_count": 24,
   "metadata": {},
   "outputs": [
    {
     "data": {
      "text/plain": [
       "[('Sacrifié Sacrifié Sacrifié', 0.0009588253124767401),\n",
       " ('Tél', 0.0023621099294790834),\n",
       " ('terr', 0.0038534030968013144),\n",
       " ('Sacrifié Sacrifié', 0.00397105462531194),\n",
       " ('app', 0.006948332012466744),\n",
       " ('Tapis Tapis Tapis', 0.007982765632058313),\n",
       " ('Carpette Tapis Tapis', 0.008735869773257474),\n",
       " ('SACRIFIES Carpette Tapis', 0.009562252766860723),\n",
       " ('PRIX SACRIFIES Carpette', 0.01484209070885097),\n",
       " ('tapis', 0.016094815020725392),\n",
       " ('Sacrifié', 0.016445542218099945),\n",
       " ('cuis', 0.017212735461573234),\n",
       " ('prix', 0.019271611846003133),\n",
       " ('Tapis Tapis', 0.019373785960177917),\n",
       " ('Vis. tél', 0.021535382910676283),\n",
       " ('ares', 0.024363684052667547),\n",
       " ('Liv.', 0.024430440161037407),\n",
       " ('louer', 0.02612584103669886),\n",
       " ('Brux', 0.027007149090045927),\n",
       " ('Bruxelles', 0.028401650467798942),\n",
       " ('rue', 0.029853723981764668),\n",
       " ('faç', 0.03086756018938349),\n",
       " ('cuis.', 0.03540943777365552),\n",
       " ('Terr.', 0.035926423950107964),\n",
       " ('libre', 0.0389479740442753),\n",
       " ('env', 0.04008724710807745),\n",
       " ('Villa', 0.040469212452419655),\n",
       " ('Carpette Tapis', 0.04229850309058141),\n",
       " ('chb', 0.043788643013937846),\n",
       " ('terrain', 0.04420810532269439),\n",
       " ('Wavre', 0.04585648519252438),\n",
       " ('SACRIFIES Carpette', 0.046189321196078284),\n",
       " ('parc', 0.04986254669218687),\n",
       " ('bel app', 0.05226038740922193),\n",
       " ('Ler', 0.05238748813265341),\n",
       " ('repos', 0.054504018821442256),\n",
       " ('Beau terrain', 0.055401203938729326),\n",
       " ('VENDRE', 0.05743382354001217),\n",
       " ('Eau', 0.05848413356095571),\n",
       " ('dim. env', 0.060402082943768344),\n",
       " ('Région', 0.061410526573759505),\n",
       " ('PRIX SACRIFIES', 0.06466795542005326),\n",
       " ('Louvain Nienwrode terr', 0.0664450334686557),\n",
       " ('sdb', 0.06763002312701821),\n",
       " ('Vis.', 0.0679661982022371),\n",
       " ('Tél.', 0.06842592663364122),\n",
       " ('QCTOBRE', 0.06991557385057866),\n",
       " ('TERRAINS', 0.07073296851631103),\n",
       " ('Uccle', 0.07226448074765743),\n",
       " ('villas', 0.07284458241435537)]"
      ]
     },
     "execution_count": 24,
     "metadata": {},
     "output_type": "execute_result"
    }
   ],
   "source": [
    "# Extraire les mots clés de ce texte\n",
    "keywords = kw_extractor.extract_keywords(text)\n",
    "keywords"
   ]
  },
  {
   "cell_type": "code",
   "execution_count": 26,
   "metadata": {},
   "outputs": [
    {
     "data": {
      "text/plain": [
       "['Sacrifié Sacrifié',\n",
       " 'Tapis Tapis',\n",
       " 'Vis. tél',\n",
       " 'Carpette Tapis',\n",
       " 'SACRIFIES Carpette',\n",
       " 'bel app',\n",
       " 'Beau terrain',\n",
       " 'dim. env',\n",
       " 'PRIX SACRIFIES']"
      ]
     },
     "execution_count": 26,
     "metadata": {},
     "output_type": "execute_result"
    }
   ],
   "source": [
    "# Ne garder que les bigrammes\n",
    "# Regarder si la liste contient 2 elements\n",
    "kept = []\n",
    "for kw, score in keywords:\n",
    "    words = kw.split()\n",
    "    if len(words) == 2:\n",
    "        kept.append(kw)\n",
    "kept"
   ]
  },
  {
   "cell_type": "markdown",
   "metadata": {},
   "source": [
    "## Faire la même opération sur tous les documents"
   ]
  },
  {
   "cell_type": "code",
   "execution_count": 27,
   "metadata": {},
   "outputs": [
    {
     "name": "stdout",
     "output_type": "stream",
     "text": [
      "KB_JB838_1887-12-22_01-00001.txt mentions these keywords: EXEMPLAIRES distribués, assassins politiques, distribués gratuitement, lomération bruxelloise, bruxelloise et.en, ræge quotidien, QUOTIDIEN GRATUIT, GRATUIT Température, facteur rural, Température Baromètre...\n",
      "KB_JB838_1887-12-22_01-00002.txt mentions these keywords: Ligue nalio, rester fidèle, Van Ophem...\n",
      "KB_JB838_1887-12-22_01-00003.txt mentions these keywords: prince Guillaume, Finet critique, Pierrot Macabre, HEURE Vienne...\n",
      "KB_JB838_1887-12-22_01-00004.txt mentions these keywords: demande place, fiVS ÉPICERIES, ÉPICERIES t'Tu, lie Cologne, Fille val., place Madou, Bon Marché, rue Scailquin, rue Plantin, sci rue, bon certifie, rue lie, rue Bines, exposition Bruxelles, place sach, Bruxelles Centre, BRUXELLES Rideauœ...\n",
      "KB_JB838_1887-12-22_01-00005.txt mentions these keywords: rue Plantin, OBJETS PERDUS, PERDUS gravure, LOUER DEMANDES, grande rue, rue Blaes, rue Hôtel, prix Bruxelles, rue Goflhrl, wôporler rue, rue St-Micliel...\n",
      "KB_JB838_1887-12-22_01-00006.txt mentions these keywords: RHUM ST-GEORGES, question militaire, Société royale, Société Philharmonique, l’école militaire, rue Haute, Nord BRUXELLES, préparatifs militaires, loi portant...\n",
      "KB_JB838_1887-12-23_01-00001.txt mentions these keywords: matin Température, Température maximum, GRATUIT température, température Irti, heurte matin, OBSERVATOIRE ROYAL, Irti Baromètre, QUOTIDIEN GRATUIT, JOURNAL QUOTIDIEN, rues Royale, Vent dominant, Haute Pinte, Bruxelles d’un, Pinte rue...\n",
      "KB_JB838_1887-12-23_01-00002.txt mentions these keywords: ...\n",
      "KB_JB838_1887-12-24_01-00001.txt mentions these keywords: TIRAGE QUOTIDIEN, nommé président, JOURNAL QUOTIDIEN, c’est qu’il, QUOTIDIEN GRATUIT, ANNÉE Samedi, section artistique, BRUXELLES PRIX...\n",
      "KB_JB838_1887-12-24_01-00002.txt mentions these keywords: capitaine Mac, Mme Lachaud, rue Joseph, police qu’il, jeune homme...\n"
     ]
    }
   ],
   "source": [
    "#Pour les 10 premiers elements quels sonts les mots cles\n",
    "for f in sorted(files)[:10]:\n",
    "    text = open(os.path.join(data_path, f), 'r', encoding=\"utf-8\").read()\n",
    "    keywords = kw_extractor.extract_keywords(text)\n",
    "    kept = []\n",
    "    for kw, score in keywords:\n",
    "        words = kw.split()\n",
    "        if len(words) == 2:\n",
    "            kept.append(kw)\n",
    "    print(f\"{f} mentions these keywords: {', '.join(kept)}...\")"
   ]
  }
 ],
 "metadata": {
  "kernelspec": {
   "display_name": "Python 3.10.7 ('tac_venv': venv)",
   "language": "python",
   "name": "python3"
  },
  "language_info": {
   "codemirror_mode": {
    "name": "ipython",
    "version": 3
   },
   "file_extension": ".py",
   "mimetype": "text/x-python",
   "name": "python",
   "nbconvert_exporter": "python",
   "pygments_lexer": "ipython3",
   "version": "3.10.7"
  },
  "vscode": {
   "interpreter": {
    "hash": "1371f28b61a57566aca84f831e458ad1b8215d81e6228e59fe3401f9a480bc22"
   }
  }
 },
 "nbformat": 4,
 "nbformat_minor": 4
}
