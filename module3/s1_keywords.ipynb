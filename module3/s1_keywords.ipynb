{
 "cells": [
  {
   "cell_type": "markdown",
   "metadata": {},
   "source": [
    "# Extraction de Keywords"
   ]
  },
  {
   "cell_type": "markdown",
   "metadata": {},
   "source": [
    "## Imports"
   ]
  },
  {
   "cell_type": "code",
   "execution_count": 1,
   "metadata": {},
   "outputs": [],
   "source": [
    "import os\n",
    "import yake"
   ]
  },
  {
   "cell_type": "markdown",
   "metadata": {},
   "source": [
    "## Extraire les mots clés d'un document avec Yake"
   ]
  },
  {
   "cell_type": "markdown",
   "metadata": {},
   "source": [
    "https://github.com/LIAAD/yake"
   ]
  },
  {
   "cell_type": "code",
   "execution_count": 2,
   "metadata": {},
   "outputs": [
    {
     "data": {
      "text/plain": [
       "<yake.yake.KeywordExtractor at 0x2391d52f910>"
      ]
     },
     "execution_count": 2,
     "metadata": {},
     "output_type": "execute_result"
    }
   ],
   "source": [
    "# Instantier l'extracteur de mots clés\n",
    "kw_extractor = yake.KeywordExtractor(lan=\"fr\", top=50)\n",
    "kw_extractor"
   ]
  },
  {
   "cell_type": "code",
   "execution_count": 3,
   "metadata": {},
   "outputs": [],
   "source": [
    "# Lister les Fichiers\n",
    "data_path = \"../data/txt/\"\n",
    "files = os.listdir(data_path)"
   ]
  },
  {
   "cell_type": "code",
   "execution_count": 4,
   "metadata": {},
   "outputs": [
    {
     "data": {
      "text/plain": [
       "7936"
      ]
     },
     "execution_count": 4,
     "metadata": {},
     "output_type": "execute_result"
    }
   ],
   "source": [
    "# Imprimer le nombre de fichiers identifiés\n",
    "len(files)"
   ]
  },
  {
   "cell_type": "code",
   "execution_count": 5,
   "metadata": {},
   "outputs": [
    {
     "data": {
      "text/plain": [
       "['KB_JB838_1887-12-22_01-00001.txt',\n",
       " 'KB_JB838_1887-12-22_01-00002.txt',\n",
       " 'KB_JB838_1887-12-22_01-00003.txt',\n",
       " 'KB_JB838_1887-12-22_01-00004.txt',\n",
       " 'KB_JB838_1887-12-22_01-00005.txt',\n",
       " 'KB_JB838_1887-12-22_01-00006.txt',\n",
       " 'KB_JB838_1887-12-23_01-00001.txt',\n",
       " 'KB_JB838_1887-12-23_01-00002.txt',\n",
       " 'KB_JB838_1887-12-24_01-00001.txt',\n",
       " 'KB_JB838_1887-12-24_01-00002.txt']"
      ]
     },
     "execution_count": 5,
     "metadata": {},
     "output_type": "execute_result"
    }
   ],
   "source": [
    "# Les dix premiers fichiers\n",
    "files[:10]"
   ]
  },
  {
   "cell_type": "code",
   "execution_count": 6,
   "metadata": {},
   "outputs": [
    {
     "data": {
      "text/plain": [
       "'KB_JB838_1887-12-24_01-00003.txt'"
      ]
     },
     "execution_count": 6,
     "metadata": {},
     "output_type": "execute_result"
    }
   ],
   "source": [
    "# Choisir un fichier\n",
    "this_file = files[10]\n",
    "this_file"
   ]
  },
  {
   "cell_type": "code",
   "execution_count": 7,
   "metadata": {},
   "outputs": [
    {
     "data": {
      "text/plain": [
       "\"V'\\\\: . - ■ jr* WUÏÏS YJSRDUS Perdu gravure ancienne. Rapporter rue St-Michel, 14, ENSEIGNERENT Piano, chant, prof, marié, expér.40 fr.p. mois, S leç.par sem.Ecr. D.C. 49,r.Brabant. 41S MAISONS APPARTEMENTS, QUARTIERS 7 SITUATION EXCEPTIONN“e Maison & louer pour rentier, petit ménage, rue Royale, 431, en faco du Jardin Botanique. 110 Belle maison de rent.àlouer av. de la Reine, 23 (pl. Liedts jard, etserre, eaux aux étages. . 126 Bel appartement non garni au 4«* à louer rue du Viaduc, 98, Ixelics\""
      ]
     },
     "execution_count": 7,
     "metadata": {},
     "output_type": "execute_result"
    }
   ],
   "source": [
    "# Récupérer le texte du fichier\n",
    "text = open(os.path.join(data_path, this_file),'r', encoding=\"utf-8\").read()\n",
    "text[:500]"
   ]
  },
  {
   "cell_type": "code",
   "execution_count": 8,
   "metadata": {},
   "outputs": [
    {
     "data": {
      "text/plain": [
       "[('WUÏÏS YJSRDUS Perdu', 0.0002849845682271765),\n",
       " ('YJSRDUS Perdu gravure', 0.0009274037697988),\n",
       " ('Perdu gravure ancienne', 0.002961683091797396),\n",
       " ('WUÏÏS YJSRDUS', 0.004291108726708354),\n",
       " ('YJSRDUS Perdu', 0.00435855186021619),\n",
       " ('rue', 0.011824606218814796),\n",
       " ('Perdu gravure', 0.01384684546884514),\n",
       " ('Bel appartement', 0.025074553899081205),\n",
       " ('demande', 0.03033884329481766),\n",
       " ('Bruxelles', 0.03112331210122937),\n",
       " ('Maison', 0.03236877938364905),\n",
       " ('place', 0.03935461745608164),\n",
       " ('gravure ancienne', 0.04394998477841696),\n",
       " ('rue Royale', 0.04449363122393318),\n",
       " ('louer', 0.04598993723531121),\n",
       " ('DEMANDES', 0.04854214927170825),\n",
       " ('Soir', 0.05082818884381789),\n",
       " ('Ecrire', 0.050921867149411625),\n",
       " ('journal', 0.05231096777333656),\n",
       " ('appartement', 0.05749075880949169),\n",
       " ('WUÏÏS', 0.06486093171179282),\n",
       " ('YJSRDUS', 0.06587592371934398),\n",
       " ('Perdu', 0.06587592371934398),\n",
       " ('bureau', 0.06725607337801091),\n",
       " ('rue Neuve BRUXELLES', 0.06799092977219195),\n",
       " ('Bel', 0.07927837896821419),\n",
       " ('S’ad.', 0.08787402571071921),\n",
       " ('MAISONS APPARTEMENTS', 0.09139417313321935),\n",
       " ('Rapporter rue St-Michel', 0.09306517221327311),\n",
       " ('OFFRES', 0.09373929455676124),\n",
       " ('demande place', 0.09405132229061196),\n",
       " ('rue Sâliît Michel', 0.09577914909634232),\n",
       " ('louer rue', 0.09595511921364397),\n",
       " ('DEMANDES ET OFFRES', 0.09849791212882515),\n",
       " ('poste', 0.09929146267453819),\n",
       " ('cherche bel appartement', 0.10004973713211567),\n",
       " ('Royale', 0.10015422369362284),\n",
       " ('grand', 0.10597396368988829),\n",
       " ('ENSEIGNERENT Piano', 0.11166539602337909),\n",
       " ('coin rue Royale', 0.1138680366283183),\n",
       " ('Place Royale', 0.11909566134829443),\n",
       " ('publicité', 0.12164229239509543),\n",
       " ('bureau du journal', 0.12166069916808875),\n",
       " ('renseignements', 0.12223995846942501),\n",
       " ('prix', 0.12329557497722816),\n",
       " ('grande', 0.12364188788185339),\n",
       " ('ans', 0.1294485424423038),\n",
       " ('dem', 0.1304610530398054),\n",
       " ('S’ad. rue', 0.13571023045848146),\n",
       " ('SITUATION EXCEPTIONN', 0.14533316950993266)]"
      ]
     },
     "execution_count": 8,
     "metadata": {},
     "output_type": "execute_result"
    }
   ],
   "source": [
    "# Extraire les mots clés de ce texte\n",
    "keywords = kw_extractor.extract_keywords(text)\n",
    "keywords"
   ]
  },
  {
   "cell_type": "code",
   "execution_count": 9,
   "metadata": {},
   "outputs": [
    {
     "data": {
      "text/plain": [
       "['WUÏÏS YJSRDUS',\n",
       " 'YJSRDUS Perdu',\n",
       " 'Perdu gravure',\n",
       " 'Bel appartement',\n",
       " 'gravure ancienne',\n",
       " 'rue Royale',\n",
       " 'MAISONS APPARTEMENTS',\n",
       " 'demande place',\n",
       " 'louer rue',\n",
       " 'ENSEIGNERENT Piano',\n",
       " 'Place Royale',\n",
       " 'S’ad. rue',\n",
       " 'SITUATION EXCEPTIONN']"
      ]
     },
     "execution_count": 9,
     "metadata": {},
     "output_type": "execute_result"
    }
   ],
   "source": [
    "# Ne garder que les bigrammes\n",
    "# Regarder si la liste contient 2 elements\n",
    "kept = []\n",
    "for kw, score in keywords:\n",
    "    words = kw.split()\n",
    "    if len(words) == 2:\n",
    "        kept.append(kw)\n",
    "kept"
   ]
  },
  {
   "cell_type": "markdown",
   "metadata": {},
   "source": [
    "## Faire la même opération sur tous les documents"
   ]
  },
  {
   "cell_type": "code",
   "execution_count": 10,
   "metadata": {},
   "outputs": [
    {
     "name": "stdout",
     "output_type": "stream",
     "text": [
      "KB_JB838_1887-12-22_01-00001.txt mentions these keywords: EXEMPLAIRES distribués, assassins politiques, distribués gratuitement, lomération bruxelloise, bruxelloise et.en, ræge quotidien, QUOTIDIEN GRATUIT, GRATUIT Température, facteur rural, Température Baromètre...\n",
      "KB_JB838_1887-12-22_01-00002.txt mentions these keywords: Ligue nalio, rester fidèle, Van Ophem...\n",
      "KB_JB838_1887-12-22_01-00003.txt mentions these keywords: prince Guillaume, Finet critique, Pierrot Macabre, HEURE Vienne...\n",
      "KB_JB838_1887-12-22_01-00004.txt mentions these keywords: demande place, fiVS ÉPICERIES, ÉPICERIES t'Tu, lie Cologne, Fille val., place Madou, Bon Marché, rue Scailquin, rue Plantin, sci rue, bon certifie, rue lie, rue Bines, exposition Bruxelles, place sach, Bruxelles Centre, BRUXELLES Rideauœ...\n",
      "KB_JB838_1887-12-22_01-00005.txt mentions these keywords: rue Plantin, OBJETS PERDUS, PERDUS gravure, LOUER DEMANDES, grande rue, rue Blaes, rue Hôtel, prix Bruxelles, rue Goflhrl, wôporler rue, rue St-Micliel...\n",
      "KB_JB838_1887-12-22_01-00006.txt mentions these keywords: RHUM ST-GEORGES, question militaire, Société royale, Société Philharmonique, l’école militaire, rue Haute, Nord BRUXELLES, préparatifs militaires, loi portant...\n",
      "KB_JB838_1887-12-23_01-00001.txt mentions these keywords: matin Température, Température maximum, GRATUIT température, température Irti, heurte matin, OBSERVATOIRE ROYAL, Irti Baromètre, QUOTIDIEN GRATUIT, JOURNAL QUOTIDIEN, rues Royale, Vent dominant, Haute Pinte, Bruxelles d’un, Pinte rue...\n",
      "KB_JB838_1887-12-23_01-00002.txt mentions these keywords: ...\n",
      "KB_JB838_1887-12-24_01-00001.txt mentions these keywords: TIRAGE QUOTIDIEN, nommé président, JOURNAL QUOTIDIEN, c’est qu’il, QUOTIDIEN GRATUIT, ANNÉE Samedi, section artistique, BRUXELLES PRIX...\n",
      "KB_JB838_1887-12-24_01-00002.txt mentions these keywords: capitaine Mac, Mme Lachaud, rue Joseph, police qu’il, jeune homme...\n"
     ]
    }
   ],
   "source": [
    "#Pour les 10 premiers elements quels sonts les mots cles\n",
    "for f in sorted(files)[:10]:\n",
    "    text = open(os.path.join(data_path, f), 'r', encoding=\"utf-8\").read()\n",
    "    keywords = kw_extractor.extract_keywords(text)\n",
    "    kept = []\n",
    "    for kw, score in keywords:\n",
    "        words = kw.split()\n",
    "        if len(words) == 2:\n",
    "            kept.append(kw)\n",
    "    print(f\"{f} mentions these keywords: {', '.join(kept)}...\")"
   ]
  }
 ],
 "metadata": {
  "kernelspec": {
   "display_name": "Python 3.10.7 ('tac_venv': venv)",
   "language": "python",
   "name": "python3"
  },
  "language_info": {
   "codemirror_mode": {
    "name": "ipython",
    "version": 3
   },
   "file_extension": ".py",
   "mimetype": "text/x-python",
   "name": "python",
   "nbconvert_exporter": "python",
   "pygments_lexer": "ipython3",
   "version": "3.10.7"
  },
  "vscode": {
   "interpreter": {
    "hash": "1371f28b61a57566aca84f831e458ad1b8215d81e6228e59fe3401f9a480bc22"
   }
  }
 },
 "nbformat": 4,
 "nbformat_minor": 4
}
